{
 "cells": [
  {
   "cell_type": "markdown",
   "id": "35b72803-afb4-46c3-86c9-a44d0df94851",
   "metadata": {},
   "source": [
    "#Answer1\n",
    "You can create a Pandas Series containing the data [4, 8, 15, 16, 23, 42] and print it using Python. First, you'll need to import the Pandas library, create the Series, and then print it. Here's how you can do it:"
   ]
  },
  {
   "cell_type": "code",
   "execution_count": 5,
   "id": "6ecc23de-f050-4623-81ec-12638206765f",
   "metadata": {},
   "outputs": [
    {
     "name": "stdout",
     "output_type": "stream",
     "text": [
      "Requirement already satisfied: pandas in /opt/conda/lib/python3.10/site-packages (1.5.2)\n",
      "Requirement already satisfied: python-dateutil>=2.8.1 in /opt/conda/lib/python3.10/site-packages (from pandas) (2.8.2)\n",
      "Requirement already satisfied: pytz>=2020.1 in /opt/conda/lib/python3.10/site-packages (from pandas) (2022.6)\n",
      "Requirement already satisfied: numpy>=1.21.0 in /opt/conda/lib/python3.10/site-packages (from pandas) (1.23.5)\n",
      "Requirement already satisfied: six>=1.5 in /opt/conda/lib/python3.10/site-packages (from python-dateutil>=2.8.1->pandas) (1.16.0)\n",
      "Note: you may need to restart the kernel to use updated packages.\n"
     ]
    }
   ],
   "source": [
    "pip install pandas"
   ]
  },
  {
   "cell_type": "code",
   "execution_count": 4,
   "id": "5e3e4c3f-a888-4b26-84fb-bf5126007df6",
   "metadata": {},
   "outputs": [
    {
     "name": "stdout",
     "output_type": "stream",
     "text": [
      "0     4\n",
      "1     8\n",
      "2    15\n",
      "3    16\n",
      "4    23\n",
      "5    42\n",
      "dtype: int64\n"
     ]
    }
   ],
   "source": [
    "import pandas as pd\n",
    "\n",
    "data = [4, 8, 15, 16, 23, 42]\n",
    "series = pd.Series(data)\n",
    "\n",
    "print(series)"
   ]
  },
  {
   "cell_type": "markdown",
   "id": "7c0b4024-cb1f-45ed-836d-e533240e2122",
   "metadata": {},
   "source": [
    "#Answer2\n",
    "\n",
    "You can create a list with 10 elements and then convert it into a Pandas Series using the pd.Series function. Here's an example of how to do that:"
   ]
  },
  {
   "cell_type": "code",
   "execution_count": 6,
   "id": "0df5caa0-d7b6-40ee-a81d-d550298ff952",
   "metadata": {},
   "outputs": [
    {
     "name": "stdout",
     "output_type": "stream",
     "text": [
      "0     1\n",
      "1     2\n",
      "2     3\n",
      "3     4\n",
      "4     5\n",
      "5     6\n",
      "6     7\n",
      "7     8\n",
      "8     9\n",
      "9    10\n",
      "dtype: int64\n"
     ]
    }
   ],
   "source": [
    "import pandas as pd\n",
    "\n",
    "My_list = [1, 2, 3, 4, 5, 6, 7, 8, 9, 10]\n",
    "\n",
    "My_series = pd.Series(My_list)\n",
    "\n",
    "print(My_series)"
   ]
  },
  {
   "cell_type": "markdown",
   "id": "cbe1f2ef-562d-4797-8520-1c7dd0b66f30",
   "metadata": {},
   "source": [
    "#Answer3\n",
    "\n",
    "To create a Pandas DataFrame with the provided data, you can organize it as a dictionary and then convert it into a DataFrame. Here's how you can do it:"
   ]
  },
  {
   "cell_type": "code",
   "execution_count": 15,
   "id": "97b03f1d-41e3-4c0f-a5e8-2e56daa99cfa",
   "metadata": {},
   "outputs": [
    {
     "name": "stdout",
     "output_type": "stream",
     "text": [
      "     Name  Age  Gender\n",
      "0   Alice   25  Female\n",
      "1     Bob   30    Male\n",
      "2  Claire   27  Female\n"
     ]
    }
   ],
   "source": [
    "import pandas as pd\n",
    "data = {\n",
    "    'Name' : ['Alice' ,'Bob' , 'Claire'],\n",
    "    'Age' : [25,30,27],\n",
    "    'Gender' : ['Female', 'Male', 'Female']\n",
    "}\n",
    "\n",
    "data_frame = pd.DataFrame(data)\n",
    "print(data_frame)"
   ]
  },
  {
   "cell_type": "markdown",
   "id": "06b3bea2-053b-49ba-a3b5-79fa7860b079",
   "metadata": {},
   "source": [
    "#Answer4\n",
    "In Pandas, a DataFrame is a two-dimensional, size-mutable, and heterogeneous tabular data structure. It is essentially a table or spreadsheet with rows and columns, where each column can contain data of a different data type.\n",
    "DataFrames are a fundamental data structure for data analysis in Pandas and are often used to store and manipulate data in a structured format.\n",
    "Here are some key characteristics of a DataFrame:\n",
    "\n",
    "1-Two-Dimensional Structure: DataFrames are organized into rows and columns, making them suitable for representing structured data, like data from CSV files or database tables.\n",
    "\n",
    "2-Heterogeneous Data: Each column in a DataFrame can have a different data type (e.g., integer, float, string), allowing you to work with a mix of data.\n",
    "\n",
    "3-Size-Mutable: DataFrames can be modified by adding or removing rows and columns, making them versatile for data manipulation.\n",
    "\n",
    "Now, let's compare DataFrames with Pandas Series:\n",
    "\n",
    "A Pandas Series is a one-dimensional array-like structure that can store data of a single data type. It can be thought of as a single column in a DataFrame. In contrast, a DataFrame is a collection of Pandas Series that are aligned by a common index.\n",
    "\n",
    "Here's an example to illustrate the difference between a Pandas Series and a DataFrame:"
   ]
  },
  {
   "cell_type": "code",
   "execution_count": 19,
   "id": "7e690192-e3cd-473e-8c05-e3247129cc9a",
   "metadata": {},
   "outputs": [
    {
     "name": "stdout",
     "output_type": "stream",
     "text": [
      "Panda Series\n",
      "0    1\n",
      "1    2\n",
      "2    3\n",
      "3    4\n",
      "4    5\n",
      "Name: Numbers, dtype: int64\n",
      "\n",
      "Panda Data Frame\n",
      "     Name  Age  Gender\n",
      "0   Alice   25  Female\n",
      "1     Bob   30    Male\n",
      "2  Claire   27  Female\n"
     ]
    }
   ],
   "source": [
    "import pandas as pd\n",
    "\n",
    "#creating a panda series\n",
    "\n",
    "s = pd.Series([1,2,3,4,5], name = \"Numbers\")\n",
    "\n",
    "#creating a panda Data_Frame:\n",
    "\n",
    "data = {\n",
    "    'Name' : ['Alice' ,'Bob' , 'Claire'],\n",
    "    'Age' : [25,30,27],\n",
    "    'Gender' : ['Female', 'Male', 'Female']\n",
    "}\n",
    "\n",
    "Data_Frame = pd.DataFrame(data)\n",
    "\n",
    "print(\"Panda Series\")\n",
    "print(s)\n",
    "print()\n",
    "print(\"Panda Data Frame\")\n",
    "print(Data_Frame)"
   ]
  },
  {
   "cell_type": "markdown",
   "id": "ebdcbb92-7b3b-4872-a4e4-c847892da4f0",
   "metadata": {},
   "source": [
    "#Answer5\n",
    "Pandas provides a wide range of functions for manipulating data in a DataFrame. Here are some common functions and methods,\n",
    "along with examples of when you might use them:"
   ]
  },
  {
   "cell_type": "markdown",
   "id": "0c4eb5e4-4e21-40d7-9fa6-0662b5a0c972",
   "metadata": {},
   "source": [
    "1-Filtering Data:\n",
    "\n",
    "df[df['column_name'] > value]: You can filter rows based on a condition in a specific column.\n",
    "For example, filtering a DataFrame to select rows where a particular column has values greater than a certain threshold."
   ]
  },
  {
   "cell_type": "code",
   "execution_count": 24,
   "id": "e1b6e25b-50f5-4f0a-a167-c2fbc499e367",
   "metadata": {},
   "outputs": [
    {
     "name": "stdout",
     "output_type": "stream",
     "text": [
      "Original data frame\n",
      "     Name  Age   Department\n",
      "0   Alice   25           HR\n",
      "1     Bob   30  Engineering\n",
      "2  Claire   27           HR\n",
      "3   David   35  Engineering\n",
      "4     Eva   29    Marketing\n",
      "\n",
      "Filtered Data frame\n",
      "    Name  Age   Department\n",
      "3  David   35  Engineering\n"
     ]
    }
   ],
   "source": [
    "#example:\n",
    "import pandas as pd\n",
    "\n",
    "# Sample DataFrame\n",
    "data = {\n",
    "    'Name': ['Alice', 'Bob', 'Claire', 'David', 'Eva'],\n",
    "    'Age': [25, 30, 27, 35, 29],\n",
    "    'Department': ['HR', 'Engineering', 'HR', 'Engineering', 'Marketing']\n",
    "}\n",
    "\n",
    "df = pd.DataFrame(data)\n",
    "\n",
    "#filtering data to select employees older than 30:\n",
    "\n",
    "filtered_df = df[df['Age'] > 30]\n",
    "print(\"Original data frame\")\n",
    "print(df)\n",
    "\n",
    "print(\"\\nFiltered Data frame\")\n",
    "print(filtered_df)"
   ]
  },
  {
   "cell_type": "markdown",
   "id": "bcdbb37c-e443-404f-9120-d75cd475ad41",
   "metadata": {},
   "source": [
    "2- Selecting Columns:\n",
    "\n",
    "df['column_name'] or df[['column1', 'column2']]: You can select specific columns of interest.\n",
    "This is useful when you need to work with only a subset of the data."
   ]
  },
  {
   "cell_type": "code",
   "execution_count": 25,
   "id": "3c47d81e-bd1f-4f31-8f76-1b8a5ee5035a",
   "metadata": {},
   "outputs": [
    {
     "data": {
      "text/plain": [
       "0    25\n",
       "1    30\n",
       "2    27\n",
       "3    35\n",
       "4    29\n",
       "Name: Age, dtype: int64"
      ]
     },
     "execution_count": 25,
     "metadata": {},
     "output_type": "execute_result"
    }
   ],
   "source": [
    "#example:\n",
    "df['Age']"
   ]
  },
  {
   "cell_type": "markdown",
   "id": "5f95a15b-86f0-4df2-8de7-55e5ed3eef72",
   "metadata": {},
   "source": [
    "3-Sorting Data:\n",
    "\n",
    "df.sort_values(by='column_name'): Sorting the DataFrame by one or more columns in ascending or descending order.\n",
    "This is handy for exploring data in a specific order."
   ]
  },
  {
   "cell_type": "code",
   "execution_count": 26,
   "id": "54d91df3-1fc3-43b0-9855-c1e916e475e2",
   "metadata": {},
   "outputs": [
    {
     "data": {
      "text/html": [
       "<div>\n",
       "<style scoped>\n",
       "    .dataframe tbody tr th:only-of-type {\n",
       "        vertical-align: middle;\n",
       "    }\n",
       "\n",
       "    .dataframe tbody tr th {\n",
       "        vertical-align: top;\n",
       "    }\n",
       "\n",
       "    .dataframe thead th {\n",
       "        text-align: right;\n",
       "    }\n",
       "</style>\n",
       "<table border=\"1\" class=\"dataframe\">\n",
       "  <thead>\n",
       "    <tr style=\"text-align: right;\">\n",
       "      <th></th>\n",
       "      <th>Name</th>\n",
       "      <th>Age</th>\n",
       "      <th>Department</th>\n",
       "    </tr>\n",
       "  </thead>\n",
       "  <tbody>\n",
       "    <tr>\n",
       "      <th>0</th>\n",
       "      <td>Alice</td>\n",
       "      <td>25</td>\n",
       "      <td>HR</td>\n",
       "    </tr>\n",
       "    <tr>\n",
       "      <th>1</th>\n",
       "      <td>Bob</td>\n",
       "      <td>30</td>\n",
       "      <td>Engineering</td>\n",
       "    </tr>\n",
       "    <tr>\n",
       "      <th>2</th>\n",
       "      <td>Claire</td>\n",
       "      <td>27</td>\n",
       "      <td>HR</td>\n",
       "    </tr>\n",
       "    <tr>\n",
       "      <th>3</th>\n",
       "      <td>David</td>\n",
       "      <td>35</td>\n",
       "      <td>Engineering</td>\n",
       "    </tr>\n",
       "    <tr>\n",
       "      <th>4</th>\n",
       "      <td>Eva</td>\n",
       "      <td>29</td>\n",
       "      <td>Marketing</td>\n",
       "    </tr>\n",
       "  </tbody>\n",
       "</table>\n",
       "</div>"
      ],
      "text/plain": [
       "     Name  Age   Department\n",
       "0   Alice   25           HR\n",
       "1     Bob   30  Engineering\n",
       "2  Claire   27           HR\n",
       "3   David   35  Engineering\n",
       "4     Eva   29    Marketing"
      ]
     },
     "execution_count": 26,
     "metadata": {},
     "output_type": "execute_result"
    }
   ],
   "source": [
    "#example:\n",
    "df.sort_values(by='Name')"
   ]
  },
  {
   "cell_type": "markdown",
   "id": "eb0e5d16-4371-4fb6-b9d2-2ba515ba9140",
   "metadata": {},
   "source": [
    "4-Aggregation:\n",
    "\n",
    "df.groupby('grouping_column').agg({'aggregation_column': 'aggregation_function'}): You can group data by a specific column and perform aggregations (e.g., sum, mean, count) on the grouped data. For instance, finding the average age of people in different gender groups."
   ]
  },
  {
   "cell_type": "code",
   "execution_count": 28,
   "id": "cc6df7e5-c912-4503-a993-f206f62e5d2c",
   "metadata": {},
   "outputs": [
    {
     "name": "stdout",
     "output_type": "stream",
     "text": [
      "Original DataFrame:\n",
      "     Name  Age  Gender\n",
      "0   Alice   25  Female\n",
      "1     Bob   30    Male\n",
      "2  Claire   27  Female\n",
      "3   David   35    Male\n",
      "4     Eva   29  Female\n",
      "5   Frank   32    Male\n",
      "\n",
      "Sum of Age by Gender:\n",
      "        Age\n",
      "Gender     \n",
      "Female   81\n",
      "Male     97\n"
     ]
    }
   ],
   "source": [
    "import pandas as pd\n",
    "\n",
    "# Sample DataFrame\n",
    "data = {\n",
    "    'Name': ['Alice', 'Bob', 'Claire', 'David', 'Eva', 'Frank'],\n",
    "    'Age': [25, 30, 27, 35, 29, 32],\n",
    "    'Gender': ['Female', 'Male', 'Female', 'Male', 'Female', 'Male']\n",
    "}\n",
    "\n",
    "df = pd.DataFrame(data)\n",
    "\n",
    "# Grouping by 'Gender' and calculating the average age\n",
    "grouped_df = df.groupby('Gender').agg({'Age': 'sum'})\n",
    "\n",
    "print(\"Original DataFrame:\")\n",
    "print(df)\n",
    "\n",
    "print(\"\\nSum of Age by Gender:\")\n",
    "print(grouped_df)\n"
   ]
  },
  {
   "cell_type": "markdown",
   "id": "1187090e-52db-44a9-b5b0-1a9c54cbc86d",
   "metadata": {},
   "source": [
    "5-Joining and Merging:\n",
    "\n",
    "pd.concat([df1, df2]) or pd.merge(df1, df2, on='key'):\n",
    "Combining multiple DataFrames to create a larger one, or merging DataFrames based on a common key or index."
   ]
  },
  {
   "cell_type": "code",
   "execution_count": 31,
   "id": "6b4450cb-10a9-4f67-b26e-a25f67967b1a",
   "metadata": {},
   "outputs": [
    {
     "name": "stdout",
     "output_type": "stream",
     "text": [
      "Data frame 1\n",
      "    Name  Age\n",
      "0  Alice   25\n",
      "1    Bob   27\n",
      "\n",
      "Data Frame 2\n",
      "    Name  Age\n",
      "0  Clair   30\n",
      "1  David   32\n",
      "\n",
      "Combined Data Frame\n",
      "    Name  Age\n",
      "0  Alice   25\n",
      "1    Bob   27\n",
      "0  Clair   30\n",
      "1  David   32\n"
     ]
    }
   ],
   "source": [
    "#Example:\n",
    "import pandas as pd\n",
    "data1 = {\n",
    "    'Name' : ['Alice','Bob'],\n",
    "    'Age' : [25,27]\n",
    "}\n",
    "\n",
    "data2 = {\n",
    "    'Name' : ['Clair','David'],\n",
    "    'Age' : [30,32]\n",
    "}\n",
    "\n",
    "df1 = pd.DataFrame(data1)\n",
    "df2 = pd.DataFrame(data2)\n",
    "combined_df = pd.concat([df1,df2])\n",
    "\n",
    "print(\"Data frame 1\")\n",
    "print(df1)\n",
    "\n",
    "print(\"\\nData Frame 2\")\n",
    "print(df2)\n",
    "\n",
    "print(\"\\nCombined Data Frame\")\n",
    "print(combined_df)"
   ]
  },
  {
   "cell_type": "code",
   "execution_count": 32,
   "id": "3e108958-8ae6-4ddc-98d8-42b869942a7c",
   "metadata": {},
   "outputs": [
    {
     "name": "stdout",
     "output_type": "stream",
     "text": [
      "DataFrame 1:\n",
      "   Employee_ID   Name\n",
      "0          101  Alice\n",
      "1          102    Bob\n",
      "\n",
      "DataFrame 2:\n",
      "   Employee_ID   Department\n",
      "0          101           HR\n",
      "1          103  Engineering\n",
      "\n",
      "Merged DataFrame:\n",
      "   Employee_ID   Name Department\n",
      "0          101  Alice         HR\n"
     ]
    }
   ],
   "source": [
    "#Example:\n",
    "import pandas as pd\n",
    "\n",
    "# Sample DataFrames\n",
    "data1 = {\n",
    "    'Employee_ID': [101, 102],\n",
    "    'Name': ['Alice', 'Bob']\n",
    "}\n",
    "\n",
    "data2 = {\n",
    "    'Employee_ID': [101, 103],\n",
    "    'Department': ['HR', 'Engineering']\n",
    "}\n",
    "\n",
    "df1 = pd.DataFrame(data1)\n",
    "df2 = pd.DataFrame(data2)\n",
    "\n",
    "# Merging DataFrames based on 'Employee_ID'\n",
    "merged_df = pd.merge(df1, df2, on='Employee_ID', how='inner')\n",
    "\n",
    "print(\"DataFrame 1:\")\n",
    "print(df1)\n",
    "\n",
    "print(\"\\nDataFrame 2:\")\n",
    "print(df2)\n",
    "\n",
    "print(\"\\nMerged DataFrame:\")\n",
    "print(merged_df)"
   ]
  },
  {
   "cell_type": "markdown",
   "id": "975987f0-7707-4785-84c0-d517a9e1523c",
   "metadata": {},
   "source": [
    "6-Data Cleaning:\n",
    "\n",
    "df.dropna(): Removing rows with missing values. \n",
    "This is helpful when you want to clean your data from incomplete records."
   ]
  },
  {
   "cell_type": "code",
   "execution_count": 36,
   "id": "7fdecca0-c21c-44db-bbfd-9901d8f05dcc",
   "metadata": {},
   "outputs": [
    {
     "name": "stdout",
     "output_type": "stream",
     "text": [
      "Original DataFrame:\n",
      "     Name  Age   Salary\n",
      "0   Alice   25  45000.0\n",
      "1     Bob   30      NaN\n",
      "2  Claire   27  55000.0\n",
      "3   David   35      NaN\n",
      "4     Eva   29  60000.0\n",
      "\n",
      "Cleaned DataFrame (Rows with missing 'Salary' values removed):\n",
      "     Name  Age   Salary\n",
      "0   Alice   25  45000.0\n",
      "2  Claire   27  55000.0\n",
      "4     Eva   29  60000.0\n"
     ]
    }
   ],
   "source": [
    "#example:\n",
    "import pandas as pd\n",
    "\n",
    "# Sample DataFrame with missing values\n",
    "data = {\n",
    "    'Name': ['Alice', 'Bob', 'Claire', 'David', 'Eva'],\n",
    "    'Age': [25, 30, 27, 35, 29],\n",
    "    'Salary': [45000, None, 55000, None , 60000]\n",
    "}\n",
    "\n",
    "df = pd.DataFrame(data)\n",
    "\n",
    "print(\"Original DataFrame:\")\n",
    "print(df)\n",
    "\n",
    "# Removing rows with missing values in the 'Salary' column\n",
    "cleaned_df = df.dropna(subset=['Salary'])\n",
    "\n",
    "print(\"\\nCleaned DataFrame (Rows with missing 'Salary' values removed):\")\n",
    "print(cleaned_df)"
   ]
  },
  {
   "cell_type": "markdown",
   "id": "d5dc9f37-0cef-472f-a7ea-38b59843ec8b",
   "metadata": {},
   "source": [
    "7-Adding and Modifying Columns:\n",
    "\n",
    "df['new_column'] = new_data: You can create new columns or modify existing ones.\n",
    "For example, adding a new calculated column to the DataFrame."
   ]
  },
  {
   "cell_type": "code",
   "execution_count": 37,
   "id": "3f13e6d4-b0f7-4912-8a97-dc61c1baf41f",
   "metadata": {},
   "outputs": [
    {
     "name": "stdout",
     "output_type": "stream",
     "text": [
      "Original DataFrame:\n",
      "  Product Name  Price  Discounted Price\n",
      "0     Widget A   10.0               9.0\n",
      "1     Widget B   15.0              13.5\n",
      "2     Widget C   20.0              18.0\n",
      "3     Widget D   25.0              22.5\n"
     ]
    }
   ],
   "source": [
    "#Example:\n",
    "import pandas as pd\n",
    "\n",
    "# Sample DataFrame\n",
    "data = {\n",
    "    'Product Name': ['Widget A', 'Widget B', 'Widget C', 'Widget D'],\n",
    "    'Price': [10.0, 15.0, 20.0, 25.0]\n",
    "}\n",
    "\n",
    "df = pd.DataFrame(data)\n",
    "                  \n",
    "#Adding a New Column 'Discounted price' based on Price:\n",
    "\n",
    "df['Discounted Price'] = df['Price'] * 0.9\n",
    "\n",
    "print(\"Original DataFrame:\")\n",
    "print(df)"
   ]
  },
  {
   "cell_type": "markdown",
   "id": "f062ed37-f048-4ba3-b4fc-4413da9d1fa1",
   "metadata": {},
   "source": [
    "8-Grouping and Pivot Tables:\n",
    "\n",
    "df.pivot_table(index='column1', columns='column2', values='value_column', aggfunc='function'):\n",
    "Transforming data into a pivot table format for summarization and analysis."
   ]
  },
  {
   "cell_type": "code",
   "execution_count": 8,
   "id": "46febe88-c830-4309-87cb-9bb9e6fb5dc9",
   "metadata": {},
   "outputs": [
    {
     "name": "stdout",
     "output_type": "stream",
     "text": [
      "Original Data Frame\n",
      "   Month Category  Sales\n",
      "0    Jan        A   1000\n",
      "1    Jan        B   1500\n",
      "2    Feb        A   1200\n",
      "3    Feb        B   1800\n",
      "4  March        A    900\n",
      "5  March        B   1400\n",
      "\n",
      "Pivot Table\n",
      "Category     A     B\n",
      "Month               \n",
      "Feb       1200  1800\n",
      "Jan       1000  1500\n",
      "March      900  1400\n"
     ]
    }
   ],
   "source": [
    "#example:\n",
    "import pandas as pd\n",
    "\n",
    "data = {\n",
    "    'Month' : ['Jan','Jan','Feb','Feb','March','March'],\n",
    "    'Category' : ['A','B','A','B','A','B'],\n",
    "    'Sales' : [1000,1500,1200,1800,900,1400]\n",
    "}\n",
    "\n",
    "df = pd.DataFrame(data)\n",
    "\n",
    "#Creating a Table to summarize total sale by month and category:\n",
    "\n",
    "pivot_table = df.pivot_table(index = 'Month' , columns = 'Category' , values = 'Sales' , aggfunc = 'sum')\n",
    "\n",
    "print(\"Original Data Frame\")\n",
    "print(df)\n",
    "\n",
    "print(\"\\nPivot Table\")\n",
    "print(pivot_table)"
   ]
  },
  {
   "cell_type": "markdown",
   "id": "301e7fbb-3eea-4606-8c4a-6fe76ac8d46c",
   "metadata": {},
   "source": [
    "9-String Operations:\n",
    "\n",
    "df['text_column'].str.startswith('prefix') or df['text_column'].str.contains('substring'):\n",
    "You can apply string operations to text data in DataFrame columns to filter, extract, or manipulate text values."
   ]
  },
  {
   "cell_type": "code",
   "execution_count": 9,
   "id": "543ea0d0-aeb3-4c72-8170-4a41e9f14e73",
   "metadata": {},
   "outputs": [
    {
     "name": "stdout",
     "output_type": "stream",
     "text": [
      "Original DataFrame:\n",
      "     Name\n",
      "0   Alice\n",
      "1     Bob\n",
      "2  Claire\n",
      "3   David\n",
      "4     Eva\n",
      "\n",
      "Filtered DataFrame (Names starting with 'A'):\n",
      "    Name\n",
      "0  Alice\n"
     ]
    }
   ],
   "source": [
    "#Example 1: Checking if a String Starts with a Prefix\n",
    "import pandas as pd\n",
    "\n",
    "# Sample DataFrame\n",
    "data = {\n",
    "    'Name': ['Alice', 'Bob', 'Claire', 'David', 'Eva'],\n",
    "}\n",
    "\n",
    "df = pd.DataFrame(data)\n",
    "\n",
    "# Filtering employees whose names start with 'A'\n",
    "filtered_df = df[df['Name'].str.startswith('A')]\n",
    "\n",
    "print(\"Original DataFrame:\")\n",
    "print(df)\n",
    "\n",
    "print(\"\\nFiltered DataFrame (Names starting with 'A'):\")\n",
    "print(filtered_df)"
   ]
  },
  {
   "cell_type": "code",
   "execution_count": 10,
   "id": "de20d069-c3c6-4047-9dc1-88daf6ed98ea",
   "metadata": {},
   "outputs": [
    {
     "name": "stdout",
     "output_type": "stream",
     "text": [
      "Original DataFrame:\n",
      "                Email\n",
      "0   alice@example.com\n",
      "1       bob@gmail.com\n",
      "2  claire@example.com\n",
      "3     david@gmail.com\n",
      "4     eva@example.com\n",
      "\n",
      "Filtered DataFrame (Email addresses containing '@gmail.com'):\n",
      "             Email\n",
      "1    bob@gmail.com\n",
      "3  david@gmail.com\n"
     ]
    }
   ],
   "source": [
    "#Example 2: Checking if a String Contains a Substring\n",
    "import pandas as pd\n",
    "\n",
    "# Sample DataFrame\n",
    "data = {\n",
    "    'Email': ['alice@example.com', 'bob@gmail.com', 'claire@example.com', 'david@gmail.com', 'eva@example.com'],\n",
    "}\n",
    "\n",
    "df = pd.DataFrame(data)\n",
    "\n",
    "# Filtering email addresses containing '@gmail.com'\n",
    "filtered_df = df[df['Email'].str.contains('@gmail.com')]\n",
    "\n",
    "print(\"Original DataFrame:\")\n",
    "print(df)\n",
    "\n",
    "print(\"\\nFiltered DataFrame (Email addresses containing '@gmail.com'):\")\n",
    "print(filtered_df)"
   ]
  },
  {
   "cell_type": "markdown",
   "id": "46be9725-7b4a-4d65-b11d-5c9d0e1c1700",
   "metadata": {},
   "source": [
    "10-Reshaping Data:\n",
    "\n",
    "df.melt(id_vars=['column1'], value_vars=['column2', 'column3']):\n",
    "Transforming data from a wide format to a long format or vice versa."
   ]
  },
  {
   "cell_type": "markdown",
   "id": "d82609bf-300f-4d18-9d20-8466f621f895",
   "metadata": {},
   "source": [
    "Example: Reshaping Data from Wide to Long Format\n",
    "\n",
    "Suppose you have a DataFrame with data in a wide format, where each column represents a time period, and you want to transform it into a long format to analyze the data more effectively. Here's how you can do it:"
   ]
  },
  {
   "cell_type": "code",
   "execution_count": 11,
   "id": "9d53e26a-3c68-49a8-8744-6ab92b8a0170",
   "metadata": {},
   "outputs": [
    {
     "name": "stdout",
     "output_type": "stream",
     "text": [
      "Original DataFrame (Wide Format):\n",
      "  Country  2020  2021  2022\n",
      "0     USA   350   370   390\n",
      "1  Canada   250   260   270\n",
      "2  Mexico   200   210   220\n",
      "\n",
      "Reshaped DataFrame (Long Format):\n",
      "  Country  Year  GDP\n",
      "0     USA  2020  350\n",
      "1  Canada  2020  250\n",
      "2  Mexico  2020  200\n",
      "3     USA  2021  370\n",
      "4  Canada  2021  260\n",
      "5  Mexico  2021  210\n",
      "6     USA  2022  390\n",
      "7  Canada  2022  270\n",
      "8  Mexico  2022  220\n"
     ]
    }
   ],
   "source": [
    "import pandas as pd\n",
    "\n",
    "# Sample DataFrame in wide format\n",
    "data = {\n",
    "    'Country': ['USA', 'Canada', 'Mexico'],\n",
    "    '2020': [350, 250, 200],\n",
    "    '2021': [370, 260, 210],\n",
    "    '2022': [390, 270, 220]\n",
    "}\n",
    "\n",
    "df = pd.DataFrame(data)\n",
    "\n",
    "print(\"Original DataFrame (Wide Format):\")\n",
    "print(df)\n",
    "\n",
    "# Reshaping data from wide to long format using the melt function\n",
    "long_df = df.melt(id_vars=['Country'], var_name='Year', value_name='GDP')\n",
    "\n",
    "print(\"\\nReshaped DataFrame (Long Format):\")\n",
    "print(long_df)"
   ]
  },
  {
   "cell_type": "markdown",
   "id": "5016ef35-9c1a-4c5e-ba7b-efdeee8c24bc",
   "metadata": {},
   "source": [
    "11-Statistical Summary:\n",
    "\n",
    "df.describe(): Getting statistical summary information about the DataFrame, including count, mean, standard deviation, and more."
   ]
  },
  {
   "cell_type": "markdown",
   "id": "5802349b-a553-4862-a4e7-c0dfe27ec5f2",
   "metadata": {},
   "source": [
    "12-Plotting and Visualization:\n",
    "\n",
    "df.plot(kind='plot_type', x='x_column', y='y_column'): \n",
    "Visualizing data directly from the DataFrame using various plot types."
   ]
  },
  {
   "cell_type": "markdown",
   "id": "18854269-452e-49f7-b1ae-5012b1d371fc",
   "metadata": {},
   "source": [
    "Example: Creating a Line Plot from a DataFrame\n",
    "\n",
    "Suppose you have a DataFrame with data that you want to visualize using a line plot. For example, let's consider a DataFrame that contains the monthly sales data for a product over a year. You can use df.plot() to create a line plot to visualize the sales trends. Here's how you can do it:"
   ]
  },
  {
   "cell_type": "code",
   "execution_count": 32,
   "id": "c385673a-ee99-4132-9e90-acb02e93877d",
   "metadata": {},
   "outputs": [
    {
     "data": {
      "image/png": "[encoded data removed]",
      "text/plain": [
       "<Figure size 640x480 with 1 Axes>"
      ]
     },
     "metadata": {},
     "output_type": "display_data"
    }
   ],
   "source": [
    "import pandas as pd\n",
    "import matplotlib.pyplot as plt\n",
    "\n",
    "# Sample DataFrame\n",
    "data = {\n",
    "    'Month': ['Jan', 'Feb', 'Mar', 'Apr', 'May'],\n",
    "    'Sales': [1200, 1500, 1800, 1600, 2000]\n",
    "}\n",
    "\n",
    "df = pd.DataFrame(data)\n",
    "\n",
    "# Create a line plot\n",
    "df.plot(kind='line', x='Month', y='Sales', marker='o', color='blue')\n",
    "\n",
    "# Set plot labels and title\n",
    "plt.xlabel('Month')\n",
    "plt.ylabel('Sales')\n",
    "plt.title('Monthly Sales Trends')\n",
    "\n",
    "# Display the plot\n",
    "plt.show()"
   ]
  },
  {
   "cell_type": "markdown",
   "id": "cd0c7eae-7622-4465-ad54-d63c3b2da913",
   "metadata": {},
   "source": [
    "#Answer6\n",
    "In the context of the pandas library in Python, which is commonly used for data manipulation and analysis, the Series and DataFrame are mutable, while the Panel is not.\n",
    "\n",
    "Series: A pandas Series is mutable, meaning you can change its elements after creation. You can update values, add new values, and modify the series in various ways.\n",
    "\n",
    "DataFrame: A pandas DataFrame is also mutable. You can add, remove, or modify rows and columns, change cell values, and perform various operations to alter its structure and contents.\n",
    "\n",
    "Panel: The Panel was a data structure in earlier versions of pandas for handling three-dimensional data. However, as of pandas version 0.25.0 and later, the Panel has been deprecated and is no longer considered part of the primary pandas API. Therefore, if you are using a recent version of pandas, you won't be working with Panel objects.\n",
    "\n",
    "In practice, you'll mostly be dealing with Series and DataFrame objects for data manipulation and analysis in pandas."
   ]
  },
  {
   "cell_type": "markdown",
   "id": "2fca19e1-bce6-4058-91a3-b2f04f2c8516",
   "metadata": {},
   "source": [
    "#Answer7\n",
    "You can create a DataFrame using multiple Series in pandas by combining those Series into a DataFrame using the pd.DataFrame() constructor.\n",
    "Each Series will become a column in the resulting DataFrame. Here's an example:"
   ]
  },
  {
   "cell_type": "code",
   "execution_count": 35,
   "id": "0977be8d-44cb-4d1c-962f-39dd063d3891",
   "metadata": {},
   "outputs": [
    {
     "name": "stdout",
     "output_type": "stream",
     "text": [
      "   Number fruit_name  Weight\n",
      "0       1      apple    10.5\n",
      "1       2     banana    20.3\n",
      "2       3     cherry    15.1\n",
      "3       4       date     8.7\n"
     ]
    }
   ],
   "source": [
    "import pandas as pd\n",
    "\n",
    "# Create some sample Series\n",
    "s1 = pd.Series([1, 2, 3, 4])\n",
    "s2 = pd.Series(['apple', 'banana', 'cherry', 'date'])\n",
    "s3 = pd.Series([10.5, 20.3, 15.1, 8.7])\n",
    "\n",
    "# Combine the Series into a DataFrame\n",
    "df = pd.DataFrame({'Number': s1, 'fruit_name': s2, 'Weight': s3})\n",
    "\n",
    "# Display the resulting DataFrame\n",
    "print(df)"
   ]
  },
  {
   "cell_type": "code",
   "execution_count": null,
   "id": "11ec48fa-e31b-49a1-8f58-5cba77a3eeb1",
   "metadata": {},
   "outputs": [],
   "source": []
  }
 ],
 "metadata": {
  "kernelspec": {
   "display_name": "Python 3 (ipykernel)",
   "language": "python",
   "name": "python3"
  },
  "language_info": {
   "codemirror_mode": {
    "name": "ipython",
    "version": 3
   },
   "file_extension": ".py",
   "mimetype": "text/x-python",
   "name": "python",
   "nbconvert_exporter": "python",
   "pygments_lexer": "ipython3",
   "version": "3.10.8"
  }
 },
 "nbformat": 4,
 "nbformat_minor": 5
}
