{
 "cells": [
  {
   "cell_type": "raw",
   "id": "0824ca3c-8e4c-4f6b-8f48-d8a97bdd4f4c",
   "metadata": {},
   "source": [
    "#Answer1\n",
    "Pandas is a popular Python library for data manipulation and analysis. Here are five common functions from the pandas library along with example executions:\n",
    "\n",
    "1-read_csv: This function is used to read data from a CSV (Comma Separated Values) file into a DataFrame."
   ]
  },
  {
   "cell_type": "code",
   "execution_count": 12,
   "id": "b54bf528-beb3-4837-bff3-689ced7ad118",
   "metadata": {},
   "outputs": [],
   "source": [
    "import pandas as pd\n",
    "\n",
    "# Read a CSV file into a DataFrame\n",
    "df = pd.read_csv('players_Data.csv')"
   ]
  },
  {
   "cell_type": "raw",
   "id": "ba2c3fd0-f825-411c-9480-06ee3fb028e0",
   "metadata": {},
   "source": [
    "2-head: This function allows you to view the first few rows of a DataFrame to get a quick overview of the data."
   ]
  },
  {
   "cell_type": "code",
   "execution_count": 17,
   "id": "85e61f25-3559-4178-8977-8a7950df1549",
   "metadata": {},
   "outputs": [
    {
     "data": {
      "text/html": [
       "<div>\n",
       "<style scoped>\n",
       "    .dataframe tbody tr th:only-of-type {\n",
       "        vertical-align: middle;\n",
       "    }\n",
       "\n",
       "    .dataframe tbody tr th {\n",
       "        vertical-align: top;\n",
       "    }\n",
       "\n",
       "    .dataframe thead th {\n",
       "        text-align: right;\n",
       "    }\n",
       "</style>\n",
       "<table border=\"1\" class=\"dataframe\">\n",
       "  <thead>\n",
       "    <tr style=\"text-align: right;\">\n",
       "      <th></th>\n",
       "      <th>Rk</th>\n",
       "      <th>Player</th>\n",
       "      <th>Pos</th>\n",
       "      <th>Age</th>\n",
       "      <th>Tm</th>\n",
       "      <th>G</th>\n",
       "      <th>GS</th>\n",
       "      <th>MP</th>\n",
       "      <th>FG</th>\n",
       "      <th>FGA</th>\n",
       "      <th>...</th>\n",
       "      <th>FT%</th>\n",
       "      <th>ORB</th>\n",
       "      <th>DRB</th>\n",
       "      <th>TRB</th>\n",
       "      <th>AST</th>\n",
       "      <th>STL</th>\n",
       "      <th>BLK</th>\n",
       "      <th>TOV</th>\n",
       "      <th>PF</th>\n",
       "      <th>PTS</th>\n",
       "    </tr>\n",
       "  </thead>\n",
       "  <tbody>\n",
       "    <tr>\n",
       "      <th>0</th>\n",
       "      <td>1</td>\n",
       "      <td>Quincy Acy</td>\n",
       "      <td>PF</td>\n",
       "      <td>24</td>\n",
       "      <td>NYK</td>\n",
       "      <td>68</td>\n",
       "      <td>22</td>\n",
       "      <td>1287</td>\n",
       "      <td>152</td>\n",
       "      <td>331</td>\n",
       "      <td>...</td>\n",
       "      <td>.784</td>\n",
       "      <td>79</td>\n",
       "      <td>222</td>\n",
       "      <td>301</td>\n",
       "      <td>68</td>\n",
       "      <td>27</td>\n",
       "      <td>22</td>\n",
       "      <td>60</td>\n",
       "      <td>147</td>\n",
       "      <td>398</td>\n",
       "    </tr>\n",
       "    <tr>\n",
       "      <th>1</th>\n",
       "      <td>2</td>\n",
       "      <td>Jordan Adams</td>\n",
       "      <td>SG</td>\n",
       "      <td>20</td>\n",
       "      <td>MEM</td>\n",
       "      <td>30</td>\n",
       "      <td>0</td>\n",
       "      <td>248</td>\n",
       "      <td>35</td>\n",
       "      <td>86</td>\n",
       "      <td>...</td>\n",
       "      <td>.609</td>\n",
       "      <td>9</td>\n",
       "      <td>19</td>\n",
       "      <td>28</td>\n",
       "      <td>16</td>\n",
       "      <td>16</td>\n",
       "      <td>7</td>\n",
       "      <td>14</td>\n",
       "      <td>24</td>\n",
       "      <td>94</td>\n",
       "    </tr>\n",
       "    <tr>\n",
       "      <th>2</th>\n",
       "      <td>3</td>\n",
       "      <td>Steven Adams</td>\n",
       "      <td>C</td>\n",
       "      <td>21</td>\n",
       "      <td>OKC</td>\n",
       "      <td>70</td>\n",
       "      <td>67</td>\n",
       "      <td>1771</td>\n",
       "      <td>217</td>\n",
       "      <td>399</td>\n",
       "      <td>...</td>\n",
       "      <td>.502</td>\n",
       "      <td>199</td>\n",
       "      <td>324</td>\n",
       "      <td>523</td>\n",
       "      <td>66</td>\n",
       "      <td>38</td>\n",
       "      <td>86</td>\n",
       "      <td>99</td>\n",
       "      <td>222</td>\n",
       "      <td>537</td>\n",
       "    </tr>\n",
       "    <tr>\n",
       "      <th>3</th>\n",
       "      <td>4</td>\n",
       "      <td>Jeff Adrien</td>\n",
       "      <td>PF</td>\n",
       "      <td>28</td>\n",
       "      <td>MIN</td>\n",
       "      <td>17</td>\n",
       "      <td>0</td>\n",
       "      <td>215</td>\n",
       "      <td>19</td>\n",
       "      <td>44</td>\n",
       "      <td>...</td>\n",
       "      <td>.579</td>\n",
       "      <td>23</td>\n",
       "      <td>54</td>\n",
       "      <td>77</td>\n",
       "      <td>15</td>\n",
       "      <td>4</td>\n",
       "      <td>9</td>\n",
       "      <td>9</td>\n",
       "      <td>30</td>\n",
       "      <td>60</td>\n",
       "    </tr>\n",
       "    <tr>\n",
       "      <th>4</th>\n",
       "      <td>5</td>\n",
       "      <td>Arron Afflalo</td>\n",
       "      <td>SG</td>\n",
       "      <td>29</td>\n",
       "      <td>TOT</td>\n",
       "      <td>78</td>\n",
       "      <td>72</td>\n",
       "      <td>2502</td>\n",
       "      <td>375</td>\n",
       "      <td>884</td>\n",
       "      <td>...</td>\n",
       "      <td>.843</td>\n",
       "      <td>27</td>\n",
       "      <td>220</td>\n",
       "      <td>247</td>\n",
       "      <td>129</td>\n",
       "      <td>41</td>\n",
       "      <td>7</td>\n",
       "      <td>116</td>\n",
       "      <td>167</td>\n",
       "      <td>1035</td>\n",
       "    </tr>\n",
       "  </tbody>\n",
       "</table>\n",
       "<p>5 rows × 30 columns</p>\n",
       "</div>"
      ],
      "text/plain": [
       "  Rk         Player Pos Age   Tm   G  GS    MP   FG  FGA  ...   FT%  ORB  DRB  \\\n",
       "0  1     Quincy Acy  PF  24  NYK  68  22  1287  152  331  ...  .784   79  222   \n",
       "1  2   Jordan Adams  SG  20  MEM  30   0   248   35   86  ...  .609    9   19   \n",
       "2  3   Steven Adams   C  21  OKC  70  67  1771  217  399  ...  .502  199  324   \n",
       "3  4    Jeff Adrien  PF  28  MIN  17   0   215   19   44  ...  .579   23   54   \n",
       "4  5  Arron Afflalo  SG  29  TOT  78  72  2502  375  884  ...  .843   27  220   \n",
       "\n",
       "   TRB  AST STL BLK  TOV   PF   PTS  \n",
       "0  301   68  27  22   60  147   398  \n",
       "1   28   16  16   7   14   24    94  \n",
       "2  523   66  38  86   99  222   537  \n",
       "3   77   15   4   9    9   30    60  \n",
       "4  247  129  41   7  116  167  1035  \n",
       "\n",
       "[5 rows x 30 columns]"
      ]
     },
     "execution_count": 17,
     "metadata": {},
     "output_type": "execute_result"
    }
   ],
   "source": [
    "# Display the first 5 rows of the DataFrame\n",
    "df.head()"
   ]
  },
  {
   "cell_type": "raw",
   "id": "c5762c2b-9022-457d-b03d-059847b8a5b2",
   "metadata": {},
   "source": [
    "3-groupby: This function is used for grouping data based on one or more columns,\n",
    "which can be followed by aggregation functions like mean(), sum(), etc."
   ]
  },
  {
   "cell_type": "code",
   "execution_count": 21,
   "id": "bbbd737e-93f8-47aa-9bdd-c6f464d7666c",
   "metadata": {},
   "outputs": [
    {
     "name": "stdout",
     "output_type": "stream",
     "text": [
      "Category\n",
      "A    18.333333\n",
      "B    22.500000\n",
      "Name: Value, dtype: float64\n"
     ]
    }
   ],
   "source": [
    "# Group data by a specific column and calculate the mean of another column\n",
    "import pandas as pd\n",
    "\n",
    "# Sample DataFrame\n",
    "data = {'Category': ['A', 'B', 'A', 'B', 'A'],\n",
    "        'Value': [10, 20, 15, 25, 30]}\n",
    "df = pd.DataFrame(data)\n",
    "\n",
    "# Grouping by the 'Category' column and calculating the mean of 'Value' column\n",
    "grouped = df.groupby('Category')['Value'].mean()\n",
    "print(grouped)"
   ]
  },
  {
   "cell_type": "raw",
   "id": "671a4129-613a-41c1-b2cb-9fdbbc67bb9d",
   "metadata": {},
   "source": [
    "4-describe: The describe function provides summary statistics of numeric columns in the DataFrame, such as mean, standard deviation, and quartiles."
   ]
  },
  {
   "cell_type": "code",
   "execution_count": 22,
   "id": "1bd4729b-f730-47ef-8b66-93fcbe1b6f4b",
   "metadata": {},
   "outputs": [
    {
     "data": {
      "text/html": [
       "<div>\n",
       "<style scoped>\n",
       "    .dataframe tbody tr th:only-of-type {\n",
       "        vertical-align: middle;\n",
       "    }\n",
       "\n",
       "    .dataframe tbody tr th {\n",
       "        vertical-align: top;\n",
       "    }\n",
       "\n",
       "    .dataframe thead th {\n",
       "        text-align: right;\n",
       "    }\n",
       "</style>\n",
       "<table border=\"1\" class=\"dataframe\">\n",
       "  <thead>\n",
       "    <tr style=\"text-align: right;\">\n",
       "      <th></th>\n",
       "      <th>Value</th>\n",
       "    </tr>\n",
       "  </thead>\n",
       "  <tbody>\n",
       "    <tr>\n",
       "      <th>count</th>\n",
       "      <td>5.000000</td>\n",
       "    </tr>\n",
       "    <tr>\n",
       "      <th>mean</th>\n",
       "      <td>20.000000</td>\n",
       "    </tr>\n",
       "    <tr>\n",
       "      <th>std</th>\n",
       "      <td>7.905694</td>\n",
       "    </tr>\n",
       "    <tr>\n",
       "      <th>min</th>\n",
       "      <td>10.000000</td>\n",
       "    </tr>\n",
       "    <tr>\n",
       "      <th>25%</th>\n",
       "      <td>15.000000</td>\n",
       "    </tr>\n",
       "    <tr>\n",
       "      <th>50%</th>\n",
       "      <td>20.000000</td>\n",
       "    </tr>\n",
       "    <tr>\n",
       "      <th>75%</th>\n",
       "      <td>25.000000</td>\n",
       "    </tr>\n",
       "    <tr>\n",
       "      <th>max</th>\n",
       "      <td>30.000000</td>\n",
       "    </tr>\n",
       "  </tbody>\n",
       "</table>\n",
       "</div>"
      ],
      "text/plain": [
       "           Value\n",
       "count   5.000000\n",
       "mean   20.000000\n",
       "std     7.905694\n",
       "min    10.000000\n",
       "25%    15.000000\n",
       "50%    20.000000\n",
       "75%    25.000000\n",
       "max    30.000000"
      ]
     },
     "execution_count": 22,
     "metadata": {},
     "output_type": "execute_result"
    }
   ],
   "source": [
    "#example\n",
    "df.describe()"
   ]
  },
  {
   "cell_type": "raw",
   "id": "e2f74871-d915-47fc-9cc9-5e30929e70e8",
   "metadata": {},
   "source": [
    "5-plot: Pandas provides various plotting functions to create simple data visualizations. Here's an example of creating a histogram:"
   ]
  },
  {
   "cell_type": "code",
   "execution_count": 31,
   "id": "19893951-0d56-4503-84f8-badfa89c83b2",
   "metadata": {},
   "outputs": [
    {
     "data": {
      "image/png": "[encoded data removed]",
      "text/plain": [
       "<Figure size 640x480 with 1 Axes>"
      ]
     },
     "metadata": {},
     "output_type": "display_data"
    }
   ],
   "source": [
    "#example:\n",
    "import matplotlib.pyplot as plt\n",
    "\n",
    "#sample data\n",
    "data = {'Age': [25, 30, 35, 40, 45, 50, 55, 60, 65, 70]}\n",
    "df = pd.DataFrame(data)\n",
    "# Create a histogram of the 'Age' column using Matplotlib\n",
    "df['Age'].plot(kind='hist', bins=5, edgecolor='black')\n",
    "plt.xlabel('Age')\n",
    "plt.ylabel('Frequency')\n",
    "plt.title('Age Distribution')\n",
    "plt.show()"
   ]
  },
  {
   "cell_type": "raw",
   "id": "681e47b1-8059-45cd-be91-af4ab2a29407",
   "metadata": {},
   "source": [
    "#Answer2\n",
    "You can re-index a Pandas DataFrame with a new index that starts from 1 and increments by 2 for each row using the following Python function:"
   ]
  },
  {
   "cell_type": "code",
   "execution_count": 32,
   "id": "01d98e7e-080e-4ef8-93ea-6c67f541bb67",
   "metadata": {},
   "outputs": [
    {
     "name": "stdout",
     "output_type": "stream",
     "text": [
      "    A   B   C\n",
      "1  10  40  70\n",
      "3  20  50  80\n",
      "5  30  60  90\n"
     ]
    }
   ],
   "source": [
    "import pandas as pd\n",
    "\n",
    "def reindex_with_increment(df):\n",
    "    # Create a new index starting from 1 and incrementing by 2\n",
    "    new_index = range(1, 2 * len(df) + 1, 2)\n",
    "    \n",
    "    # Assign the new index to the DataFrame\n",
    "    df.index = new_index\n",
    "    \n",
    "    return df\n",
    "\n",
    "# Example DataFrame\n",
    "data = {'A': [10, 20, 30],\n",
    "        'B': [40, 50, 60],\n",
    "        'C': [70, 80, 90]}\n",
    "df = pd.DataFrame(data)\n",
    "\n",
    "# Call the function to re-index the DataFrame\n",
    "df = reindex_with_increment(df)\n",
    "\n",
    "print(df)"
   ]
  },
  {
   "cell_type": "raw",
   "id": "c08a280a-4c32-41d4-946d-6cbe952544d6",
   "metadata": {},
   "source": [
    "#Answer3\n",
    "import pandas as pd\n",
    "#sample Data Frame:\n",
    "data = {'values' : [10,20,30,40,50]}\n",
    "df = pd.DataFrame(data)\n",
    "#create a function to calculate the sum of the first three values in the 'Values' column as follows:\n",
    "sum_of_three_values = df['values'].head(3).sum()\n",
    "print(\"The sum of first three values:\",sum_of_three_values)"
   ]
  },
  {
   "cell_type": "raw",
   "id": "069564fd-35c4-4226-8849-b56cc95c6bb5",
   "metadata": {},
   "source": [
    "#Answer4\n",
    "\n",
    "You can create a new column 'Word_Count' in a Pandas DataFrame to store the number of words in each row of the 'Text' column by defining a Python function as follows:"
   ]
  },
  {
   "cell_type": "code",
   "execution_count": 49,
   "id": "2d1f5c0d-4ee1-43eb-bba1-76659cbd0797",
   "metadata": {},
   "outputs": [
    {
     "name": "stdout",
     "output_type": "stream",
     "text": [
      "                 Text  word_count\n",
      "0  This is an example           4\n",
      "1     Count the words           3\n",
      "2         In each row           3\n",
      "3      of text Column           3\n"
     ]
    }
   ],
   "source": [
    "#example:\n",
    "\n",
    "import pandas as pd\n",
    "\n",
    "#Sample dataframe:\n",
    "data = {'Text' : ['This is an example','Count the words','In each row', 'of text Column']}\n",
    "df = pd.DataFrame(data)\n",
    "#create a function \n",
    "def add_word_count_column(df):\n",
    "        # Split the 'Text' column by spaces and count the number of words\n",
    "    df['word_count'] = df['Text'].str.split().apply(len)\n",
    "# Call the function to add the 'Word_Count' column\n",
    "add_word_count_column(df)\n",
    "print(df)"
   ]
  },
  {
   "cell_type": "raw",
   "id": "07c5eeb3-3c9f-490e-aa84-e27ecd50e562",
   "metadata": {},
   "source": [
    "#Answer5\n",
    "In Pandas, DataFrame.size and DataFrame.shape are two different attributes of a DataFrame, and they provide distinct information about the DataFrame's structure:\n",
    "\n",
    "1-DataFrame.size:\n",
    "\n",
    "DataFrame.size is an attribute that returns the total number of elements in the DataFrame, which is essentially the product of the number of rows and the number of columns.\n",
    "It returns an integer value that represents the total number of cells or elements in the DataFrame.\n",
    "For example, if you have a DataFrame with 3 rows and 2 columns, DataFrame.size will return 6, as there are 6 elements in the DataFrame."
   ]
  },
  {
   "cell_type": "code",
   "execution_count": 4,
   "id": "36652799-29b3-40fe-95df-2e3a080044a8",
   "metadata": {},
   "outputs": [
    {
     "name": "stdout",
     "output_type": "stream",
     "text": [
      "6\n"
     ]
    }
   ],
   "source": [
    "import pandas as pd\n",
    "\n",
    "data = {'A': [1, 2, 3], 'B': [4, 5, 6]}\n",
    "df = pd.DataFrame(data)\n",
    "print(df.size)"
   ]
  },
  {
   "cell_type": "raw",
   "id": "6a506343-4539-460c-a985-687d9c68564e",
   "metadata": {},
   "source": [
    "2-DataFrame.shape:\n",
    "\n",
    "DataFrame.shape is an attribute that returns a tuple representing the dimensions of the DataFrame, where the first element of the tuple is the number of rows, and the second element is the number of columns.\n",
    "It provides the shape of the DataFrame as (n_rows, n_columns).\n",
    "For example, if you have a DataFrame with  3 rows and 2 columns, DataFrame.shape will return (3,2)."
   ]
  },
  {
   "cell_type": "code",
   "execution_count": 5,
   "id": "71c73b93-3b7f-4f8d-8cce-1b0ac05840bc",
   "metadata": {},
   "outputs": [
    {
     "name": "stdout",
     "output_type": "stream",
     "text": [
      "(3, 2)\n"
     ]
    }
   ],
   "source": [
    "import pandas as pd\n",
    "\n",
    "data = {'A': [1, 2, 3], 'B': [4, 5, 6]}\n",
    "df = pd.DataFrame(data)\n",
    "print(df.shape)"
   ]
  },
  {
   "cell_type": "raw",
   "id": "2d6dfc0e-71b6-4310-beb1-40f73c798553",
   "metadata": {},
   "source": [
    "#Answer6\n",
    "\n",
    "In pandas, you can use the pd.read_excel() function to read an Excel file.\n",
    "This function allows you to read data from Excel files (both .xls and .xlsx formats) into a DataFrame.\n",
    "Here's how you can use it:"
   ]
  },
  {
   "cell_type": "markdown",
   "id": "e2a1db8e-32e9-40ab-86d3-cbf5d7f22815",
   "metadata": {},
   "source": [
    "import pandas as pd\n",
    "\n",
    "# Read an Excel file into a DataFrame\n",
    "df = pd.read_excel('your_excel_file.xlsx')"
   ]
  },
  {
   "cell_type": "raw",
   "id": "a8d82198-99b2-46cb-8bf1-9db18557c5e7",
   "metadata": {},
   "source": [
    "#Anwswer7\n",
    "You can create a new column 'Username' in a Pandas DataFrame to store the username part of each email address by defining a Python function as follows:"
   ]
  },
  {
   "cell_type": "code",
   "execution_count": 10,
   "id": "0cf54282-6e97-4d7a-a275-4a314cca68bb",
   "metadata": {},
   "outputs": [
    {
     "name": "stdout",
     "output_type": "stream",
     "text": [
      "                     Email     Username\n",
      "0     john.doe@example.com     john.doe\n",
      "1  alice.smith@example.org  alice.smith\n",
      "2  bob.johnson@example.net  bob.johnson\n"
     ]
    }
   ],
   "source": [
    "import pandas as pd\n",
    "\n",
    "def extract_username(df):\n",
    "    df['Username'] = df['Email'].str.split('@').str[0]\n",
    "    \n",
    "#sample datafram:\n",
    "data = {'Email': ['john.doe@example.com', 'alice.smith@example.org', 'bob.johnson@example.net']}\n",
    "df = pd.DataFrame(data)\n",
    "    \n",
    "#CALL THE FUNCTION:\n",
    "extract_username(df)\n",
    "print(df)"
   ]
  },
  {
   "cell_type": "code",
   "execution_count": 11,
   "id": "33005382-5895-45d1-9d09-151cb963026b",
   "metadata": {},
   "outputs": [
    {
     "name": "stdout",
     "output_type": "stream",
     "text": [
      "   A  B  C\n",
      "1  8  2  7\n",
      "2  6  9  4\n",
      "4  9  1  2\n"
     ]
    }
   ],
   "source": [
    "#Answer8\n",
    "import pandas as pd\n",
    "\n",
    "data = {'A' : [3,8,6,2,9],\n",
    "        'B' : [5,2,9,3,1],\n",
    "        'C' : [1,7,4,5,2]\n",
    "       }\n",
    "\n",
    "df = pd.DataFrame(data)\n",
    "\n",
    "#create a function:\n",
    "def selected_row_by_column(df):\n",
    "    # Use boolean indexing to select rows that meet the specified conditions\n",
    "    selected_rows = df[(df['A']>5) & (df['B'] < 10)]\n",
    "    return selected_rows\n",
    "\n",
    "\n",
    "selected_df = selected_row_by_column(df)\n",
    "print(selected_df)"
   ]
  },
  {
   "cell_type": "code",
   "execution_count": 12,
   "id": "b5653a53-a5ae-490b-8f0c-c26fb02b903e",
   "metadata": {},
   "outputs": [
    {
     "name": "stdout",
     "output_type": "stream",
     "text": [
      "Mean: 30.0\n",
      "Median: 30.0\n",
      "Standard Deviation: 15.811388300841896\n"
     ]
    }
   ],
   "source": [
    "#Answer9\n",
    "import pandas as pd\n",
    "\n",
    "def calculate_statistics(df):\n",
    "    # Calculate mean, median, and standard deviation\n",
    "    mean_value = df['Values'].mean()\n",
    "    median_value = df['Values'].median()\n",
    "    std_deviation = df['Values'].std()\n",
    "    \n",
    "    return mean_value, median_value, std_deviation\n",
    "\n",
    "# Example DataFrame\n",
    "data = {'Values': [10, 20, 30, 40, 50]}\n",
    "df = pd.DataFrame(data)\n",
    "\n",
    "# Call the function to calculate statistics\n",
    "mean, median, std = calculate_statistics(df)\n",
    "\n",
    "print(f\"Mean: {mean}\")\n",
    "print(f\"Median: {median}\")\n",
    "print(f\"Standard Deviation: {std}\")"
   ]
  },
  {
   "cell_type": "code",
   "execution_count": 13,
   "id": "19227e95-926d-4068-b12a-ae2da21d8f43",
   "metadata": {},
   "outputs": [
    {
     "name": "stdout",
     "output_type": "stream",
     "text": [
      "        Date  Sales  MovingAverage\n",
      "0 2023-01-01     10      10.000000\n",
      "1 2023-01-02     15      12.500000\n",
      "2 2023-01-03     20      15.000000\n",
      "3 2023-01-04     30      18.750000\n",
      "4 2023-01-05     25      20.000000\n",
      "5 2023-01-06     35      22.500000\n",
      "6 2023-01-07     40      25.000000\n",
      "7 2023-01-08     45      30.000000\n",
      "8 2023-01-09     50      35.000000\n",
      "9 2023-01-10     60      40.714286\n"
     ]
    }
   ],
   "source": [
    "#Answer10\n",
    "import pandas as pd\n",
    "\n",
    "def calculate_moving_average(df):\n",
    "    # Sort the DataFrame by the 'Date' column (if it's not already sorted)\n",
    "    df = df.sort_values('Date')\n",
    "    \n",
    "    # Calculate the moving average using a window of size 7, including the current day\n",
    "    df['MovingAverage'] = df['Sales'].rolling(window=7, min_periods=1).mean()\n",
    "    \n",
    "    return df\n",
    "\n",
    "# Example DataFrame\n",
    "data = {'Date': pd.date_range(start='2023-01-01', periods=10, freq='D'),\n",
    "        'Sales': [10, 15, 20, 30, 25, 35, 40, 45, 50, 60]}\n",
    "df = pd.DataFrame(data)\n",
    "\n",
    "# Call the function to calculate the moving average\n",
    "df = calculate_moving_average(df)\n",
    "\n",
    "print(df)"
   ]
  },
  {
   "cell_type": "code",
   "execution_count": 20,
   "id": "8e505b70-7399-4c6c-bcd2-61f1a2a373ab",
   "metadata": {},
   "outputs": [
    {
     "name": "stdout",
     "output_type": "stream",
     "text": [
      "        Date    Weekday\n",
      "0 2023-01-01     Sunday\n",
      "1 2023-01-02     Monday\n",
      "2 2023-01-03    Tuesday\n",
      "3 2023-01-04  Wednesday\n",
      "4 2023-01-05   Thursday\n"
     ]
    }
   ],
   "source": [
    "#Answer11\n",
    "import pandas as pd\n",
    "\n",
    "#sample data frame:\n",
    "data = {'Date' :pd.date_range(start='2023-01-01',periods=5,freq = 'D')}\n",
    "df = pd.DataFrame(data)\n",
    "\n",
    "#create a function:\n",
    "def date_with_weekday(df):\n",
    "    df['Weekday'] = df['Date'].dt.strftime('%A')\n",
    "#call the function:\n",
    "date_with_weekday(df)\n",
    "print(df)"
   ]
  },
  {
   "cell_type": "code",
   "execution_count": 23,
   "id": "f0fa531c-4150-4e03-9d7f-646492a762c2",
   "metadata": {},
   "outputs": [
    {
     "name": "stdout",
     "output_type": "stream",
     "text": [
      "         Date\n",
      "0  2023-01-01\n",
      "1  2023-01-02\n",
      "2  2023-01-03\n",
      "3  2023-01-04\n",
      "4  2023-01-05\n",
      "5  2023-01-06\n",
      "6  2023-01-07\n",
      "7  2023-01-08\n",
      "8  2023-01-09\n",
      "9  2023-01-10\n",
      "10 2023-01-11\n",
      "11 2023-01-12\n",
      "12 2023-01-13\n",
      "13 2023-01-14\n",
      "14 2023-01-15\n",
      "15 2023-01-16\n",
      "16 2023-01-17\n",
      "17 2023-01-18\n",
      "18 2023-01-19\n",
      "19 2023-01-20\n",
      "20 2023-01-21\n",
      "21 2023-01-22\n",
      "22 2023-01-23\n",
      "23 2023-01-24\n",
      "24 2023-01-25\n",
      "25 2023-01-26\n",
      "26 2023-01-27\n",
      "27 2023-01-28\n",
      "28 2023-01-29\n",
      "29 2023-01-30\n",
      "30 2023-01-31\n"
     ]
    }
   ],
   "source": [
    "#Answer12\n",
    "import pandas as pd\n",
    "\n",
    "def select_rows_by_date_range(df):\n",
    "    # Convert 'Date' column to datetime if it's not already\n",
    "    df['Date'] = pd.to_datetime(df['Date'])\n",
    "    \n",
    "    # Define the start and end dates for the date range\n",
    "    start_date = pd.to_datetime('2023-01-01')\n",
    "    end_date = pd.to_datetime('2023-01-31')\n",
    "    \n",
    "    # Use boolean indexing to select rows within the date range\n",
    "    selected_rows = df[(df['Date'] >= start_date) & (df['Date'] <= end_date)]\n",
    "    \n",
    "    return selected_rows\n",
    "\n",
    "# Example DataFrame\n",
    "data = {'Date': pd.date_range(start='2023-01-01',end= '2023-01-31') }\n",
    "df = pd.DataFrame(data)\n",
    "\n",
    "# Call the function to select rows within the date range\n",
    "selected_df = select_rows_by_date_range(df)\n",
    "\n",
    "print(selected_df)"
   ]
  },
  {
   "cell_type": "raw",
   "id": "eabea045-4c8f-49ee-88bf-59fc4cbdcbcb",
   "metadata": {},
   "source": [
    "#Answer13\n",
    "To use the basic functions of Pandas, you need to import the Pandas library itself. You can import Pandas using the import statement in your Python script or Jupyter Notebook.\n",
    "Typically, it is imported with the alias 'pd' for convenience, but you can use any alias you prefer.\n",
    "Here's how to import Pandas:"
   ]
  },
  {
   "cell_type": "code",
   "execution_count": 25,
   "id": "648b9254-ce87-44f5-837b-5a72de480aa2",
   "metadata": {},
   "outputs": [],
   "source": [
    "import pandas as pd"
   ]
  }
 ],
 "metadata": {
  "kernelspec": {
   "display_name": "Python 3 (ipykernel)",
   "language": "python",
   "name": "python3"
  },
  "language_info": {
   "codemirror_mode": {
    "name": "ipython",
    "version": 3
   },
   "file_extension": ".py",
   "mimetype": "text/x-python",
   "name": "python",
   "nbconvert_exporter": "python",
   "pygments_lexer": "ipython3",
   "version": "3.10.8"
  }
 },
 "nbformat": 4,
 "nbformat_minor": 5
}
