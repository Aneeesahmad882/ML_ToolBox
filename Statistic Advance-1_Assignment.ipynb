{
 "cells": [
  {
   "cell_type": "markdown",
   "id": "d1d5b336-216c-4adf-a27f-48c83cbaf37d",
   "metadata": {},
   "source": [
    "# Answer1"
   ]
  },
  {
   "cell_type": "raw",
   "id": "f3a4f7fa-e6f1-428b-851c-1fa89788520d",
   "metadata": {},
   "source": [
    "The Probability Density Function (PDF) is a concept in probability theory and statistics that describes the likelihood of a continuous random variable falling within a particular range of values. In simpler terms, the PDF gives the probability that a random variable will take on a specific value or fall within a specific interval.\n",
    "\n",
    "For a continuous random variable, the probability of it taking on any specific value is technically zero, as there are infinitely many possible values. Instead, the PDF is used to describe the relative likelihood of the variable falling within a range. The area under the PDF curve over a certain interval represents the probability of the random variable falling within that interval.\n",
    "\n",
    "Mathematically, the PDF is often denoted as f(x) and has the property that the probability of the random variable X \n",
    "falling between  a and b is given by the integral of the PDF over that interval:\n",
    "\n",
    "\n",
    "The PDF must satisfy two conditions:\n",
    "\n",
    "1. The function must be non-negative for all possible values of the random variable: f(x) >= 0 for all a .\n",
    "2. The total area under the PDF curve must be equal to 1:\n",
    "\n",
    "Common examples of probability density functions include the normal distribution, exponential distribution, and uniform distribution. Each distribution has its own specific formula for the PDF."
   ]
  },
  {
   "cell_type": "markdown",
   "id": "223f90c7-c0bf-43f6-8a72-8b26b88c145f",
   "metadata": {},
   "source": [
    "# Answer2"
   ]
  },
  {
   "cell_type": "raw",
   "id": "17f0e883-98c1-4600-b33f-40e2aa74d731",
   "metadata": {},
   "source": [
    "Probability distributions are mathematical functions that describe the likelihood of different outcomes in a sample space. There are two main types of probability distributions: discrete and continuous.\n",
    "\n",
    "1-Discrete Probability Distributions:\n",
    "\n",
    "Bernoulli Distribution: Describes a single experiment with two possible outcomes (success and failure), where the probability of success is p and probability of failure is 1−p.\n",
    "\n",
    "Binomial Distribution: Represents the number of successes in a fixed number of independent Bernoulli trials. It is characterized by two parameters: the number of trials (n) and the probability of success in a single trial (p).\n",
    "\n",
    "Poisson Distribution: Models the number of events that occur in a fixed interval of time or space. It is often used for rare events and is characterized by a single parameter (λ), which represents the average rate of occurrence.\n",
    "\n",
    "2-Continuous Probability Distributions:\n",
    "\n",
    "1-Normal Distribution (Gaussian Distribution): A bell-shaped curve characterized by its mean (μ) and standard deviation (σ). The central limit theorem states that the sum (or average) of a large number of independent, identically distributed random variables, regardless of the original distribution, will be approximately normally distributed.\n",
    "\n",
    "2-Uniform Distribution: All outcomes in a given range are equally likely. For a continuous uniform distribution, the probability density function is constant over the range.\n",
    "\n",
    "3-Exponential Distribution: Models the time between events in a Poisson process, where events occur continuously and independently at a constant average rate. It is characterized by a rate parameter (λ).\n",
    "\n",
    "4-Gamma Distribution: Generalizes the exponential distribution to handle positive real numbers. It is characterized by two parameters: a shape parameter (k) and a rate parameter (λ).\n",
    "\n",
    "5-Cauchy Distribution: Similar to the normal distribution but with heavier tails. It is not characterized by finite mean or variance."
   ]
  },
  {
   "cell_type": "markdown",
   "id": "c9642cb4-9a50-40ed-a07c-07f95ebd6252",
   "metadata": {},
   "source": [
    "# Answer3"
   ]
  },
  {
   "cell_type": "raw",
   "id": "1e5ca8ae-40eb-443e-a7cf-415b88e6d336",
   "metadata": {},
   "source": [
    "Here's a simple Python function to calculate the PDF of a normal distribution at a given point:"
   ]
  },
  {
   "cell_type": "code",
   "execution_count": 13,
   "id": "f59aac0f-8f6f-4ecf-b723-b9880ebb6235",
   "metadata": {},
   "outputs": [
    {
     "name": "stdout",
     "output_type": "stream",
     "text": [
      "The PDF at x = 1 is: 0.05399096651318806\n"
     ]
    }
   ],
   "source": [
    "import math\n",
    "\n",
    "def normal_pdf(x,mean,std_dev):\n",
    "    \n",
    "    \"\"\"Calculate the pdf of normal distribution function\n",
    "    \n",
    "    Parameters :\n",
    "        -x : the point at which to evalute the pdf.\n",
    "        -mean : the mean of the normal distribution.\n",
    "        -std_dev : the standard deviation of the normal distribution function.\n",
    "         \n",
    "         Return :\n",
    "         the pdf value at the given point.\n",
    "         \"\"\"\n",
    "    \n",
    "    coefficient = 1/(math.sqrt(2*math.pi)*(std_dev))\n",
    "    exponent = -((x-mean)**2)/(2*std_dev**2)\n",
    "    pdf_value = coefficient * math.exp(exponent)\n",
    "    return pdf_value\n",
    "\n",
    "#Example usage:\n",
    "\n",
    "mean = 3\n",
    "std_dev = 1\n",
    "point_to_evaluate = 1\n",
    "\n",
    "result = normal_pdf(point_to_evaluate, mean, std_dev)\n",
    "print(f\"The PDF at x = {point_to_evaluate} is: {result}\")"
   ]
  },
  {
   "cell_type": "markdown",
   "id": "31b08286-f8e4-43ea-9ab2-a6091f36186c",
   "metadata": {},
   "source": [
    "# Answer4"
   ]
  },
  {
   "cell_type": "raw",
   "id": "87184b6a-33b3-4374-9a90-f72ba42aec3d",
   "metadata": {},
   "source": [
    "The binomial distribution is a discrete probability distribution that describes the number of successes in a fixed number of independent Bernoulli trials, where each trial has only two possible outcomes: success or failure. The properties of the binomial distribution include:\n",
    "\n",
    "Fixed Number of Trials (n): The distribution is defined for a fixed number of trials, denoted by n.\n",
    "\n",
    "Independent Trials: Each trial must be independent of the others, meaning that the outcome of one trial does not influence the outcome of another.\n",
    "\n",
    "Two Possible Outcomes: Each trial has only two possible outcomes, typically labeled as \"success\" and \"failure.\"\n",
    "\n",
    "Constant Probability of Success (p): The probability of success (p) remains constant across all trials.\n",
    "\n",
    "Discrete Nature: The binomial distribution is a discrete distribution, meaning that it describes the probability of a discrete number of successes.\n",
    "\n",
    "The probability mass function (PMF) of the binomial distribution is given by:\n",
    "\n",
    "P(x = k) = (p^k)*(1-p)^(n-k)\n",
    "\n",
    "where:\n",
    "\n",
    "x is the random variable representing the number of successes,\n",
    "n is the number of trials,\n",
    "k is the number of successes,\n",
    "p is the probability of success in a single trial,\n",
    "\n",
    "Examples of events where the binomial distribution can be applied include:\n",
    "\n",
    "1-Coin Flips: Consider a fair coin being flipped 10 times. The binomial distribution can be used to calculate the probability of getting a certain number of heads (successes) in those 10 flips.\n",
    "\n",
    "2-Quality Control: In a manufacturing process, products are tested for defects. If each product has a probability p of being defective, and there are n products tested independently, the binomial distribution can be used to calculate the probability of a specific number of defective products in the sample.\n",
    "\n",
    "These examples demonstrate situations where there are a fixed number of trials, each trial has two possible outcomes, and the trials are independent with a constant probability of success."
   ]
  },
  {
   "cell_type": "markdown",
   "id": "db6a1cc9-5044-4100-9127-89b9b5121771",
   "metadata": {},
   "source": [
    "# Answer5"
   ]
  },
  {
   "cell_type": "raw",
   "id": "2f94dca2-8faa-4ab0-b613-a4982c8c8fe8",
   "metadata": {},
   "source": [
    "Certainly! You can use the numpy library to generate a random sample from a binomial distribution and matplotlib for plotting the histogram. Here's a simple example in Python:"
   ]
  },
  {
   "cell_type": "code",
   "execution_count": 19,
   "id": "96bdfd99-7a12-469e-80cc-f0fc9681cec1",
   "metadata": {},
   "outputs": [
    {
     "data": {
      "image/png": "[encoded data removed]",
      "text/plain": [
       "<Figure size 640x480 with 1 Axes>"
      ]
     },
     "metadata": {},
     "output_type": "display_data"
    }
   ],
   "source": [
    "import numpy as np\n",
    "import matplotlib.pyplot as plt\n",
    "\n",
    "#set the parameters:\n",
    "n_trials = 1000\n",
    "p_success = 0.4\n",
    "\n",
    "#generate a random function:\n",
    "random_sample = np.random.binomial(n=1,p=p_success,size=n_trials)\n",
    "\n",
    "#plot a histogram of the results:\n",
    "plt.hist(random_sample,bins=[-0.5,0.5,1.5],edgecolor = 'black')\n",
    "plt.title(f'Binomial Distribution (n={n_trials}, p={p_success})')\n",
    "plt.xlabel('Number of Successes')\n",
    "plt.ylabel('Frequency')\n",
    "plt.xticks([0, 1], ['Failure', 'Success'])\n",
    "plt.show()"
   ]
  },
  {
   "cell_type": "markdown",
   "id": "2d8acb19-cca8-4ec4-b2be-94dee0b18f2b",
   "metadata": {},
   "source": [
    "# Answer6"
   ]
  },
  {
   "cell_type": "raw",
   "id": "40d95449-051f-403a-8101-e0b88831e879",
   "metadata": {},
   "source": [
    "Here's a Python function to calculate the cumulative distribution function of a Poisson distribution at a given point:"
   ]
  },
  {
   "cell_type": "code",
   "execution_count": 21,
   "id": "10051102-99a7-43b6-90c9-1ac7e56b216c",
   "metadata": {},
   "outputs": [
    {
     "name": "stdout",
     "output_type": "stream",
     "text": [
      "The CDF at k = 3 is: 0.7575761331330659\n"
     ]
    }
   ],
   "source": [
    "import math\n",
    "\n",
    "def poisson_cdf(k, mean):\n",
    "    \"\"\"\n",
    "    Calculate the cumulative distribution function (CDF) of a Poisson distribution.\n",
    "\n",
    "    Parameters:\n",
    "    - k: The point at which to evaluate the CDF.\n",
    "    - mean: The mean of the Poisson distribution.\n",
    "\n",
    "    Returns:\n",
    "    The CDF value at the given point.\n",
    "    \"\"\"\n",
    "    cdf_value = 0\n",
    "    for i in range(k + 1):\n",
    "        cdf_value += (math.exp(-mean) * mean**i) / math.factorial(i)\n",
    "    return cdf_value\n",
    "\n",
    "# Example usage:\n",
    "mean_value = 2.5 \n",
    "point_to_evaluate = 3  \n",
    "\n",
    "result = poisson_cdf(point_to_evaluate, mean_value)\n",
    "print(f\"The CDF at k = {point_to_evaluate} is: {result}\")"
   ]
  },
  {
   "cell_type": "markdown",
   "id": "015fb325-a497-45f0-a2c4-edbc16ab885c",
   "metadata": {},
   "source": [
    "# Answer7"
   ]
  },
  {
   "cell_type": "raw",
   "id": "fd18e780-714a-4d3d-90a9-b5e792a71d88",
   "metadata": {},
   "source": [
    "The binomial distribution and the Poisson distribution are both probability distributions used in statistics, but they are appropriate in different situations and have distinct characteristics. Here are the key differences between the two:\n",
    "\n",
    "1-Nature of the Process:\n",
    "\n",
    "Binomial Distribution: This distribution is used when there are a fixed number of independent trials, each with the same probability of success. The outcomes of each trial are binary, meaning they can result in either success or failure.\n",
    "Poisson Distribution: This distribution is used when the number of events in a fixed interval of time or space is being modeled. It is often applied to situations where events occur independently and at a constant average rate.\n",
    "\n",
    "2-Number of Trials:\n",
    "\n",
    "Binomial Distribution: The number of trials is fixed and known in advance.\n",
    "Poisson Distribution: The number of trials is not fixed but is instead a measure of the intensity of the process (e.g., events per unit time or space).\n",
    "\n",
    "3-Outcomes:\n",
    "\n",
    "Binomial Distribution: Each trial results in a success or a failure.\n",
    "Poisson Distribution: The outcomes are counts of events (0, 1, 2, ...) in a fixed interval.\n",
    "\n",
    "4-Probability of Success:\n",
    "\n",
    "Binomial Distribution: The probability of success (and failure) is constant across all trials.\n",
    "Poisson Distribution: The probability of an event occurring in a small interval is proportional to the length of the interval.\n",
    "\n",
    "5-Shape of Distribution:\n",
    "\n",
    "Binomial Distribution: It has a bell-shaped curve, especially when the number of trials is large. As the number of trials increases, the binomial distribution approaches a normal distribution.\n",
    "Poisson Distribution: It has a skewed right shape and is often right-skewed. It becomes more symmetrical as the average rate of events increases.\n",
    "\n",
    "6-Parameters:\n",
    "\n",
    "Binomial Distribution: It is characterized by two parameters: the number of trials (n) and the probability of success on each trial (p).\n",
    "Poisson Distribution: It is characterized by one parameter: the average rate of events (λ) in the given interval."
   ]
  },
  {
   "cell_type": "markdown",
   "id": "b8beef68-5ba1-4e11-b4f4-3748397c8ec5",
   "metadata": {},
   "source": [
    "# Answer8"
   ]
  },
  {
   "cell_type": "raw",
   "id": "a94ea1bb-9eaf-40ed-96ab-84f54cfad7ba",
   "metadata": {},
   "source": [
    "\n",
    "To generate a random sample from a Poisson distribution with a mean of 5 and calculate the sample mean and variance, you can use a programming language with a random number generator and statistical functions. Here, I'll provide an example using Python:"
   ]
  },
  {
   "cell_type": "code",
   "execution_count": 25,
   "id": "bcba1caa-1419-4d66-97e8-5804c9ab6eac",
   "metadata": {},
   "outputs": [
    {
     "name": "stdout",
     "output_type": "stream",
     "text": [
      "Sample Mean: 5.063\n",
      "Sample Variance: 4.917031000000001\n"
     ]
    }
   ],
   "source": [
    "import numpy as np\n",
    "\n",
    "#create a random sample:\n",
    "sample = np.random.poisson(lam=5,size=1000)\n",
    "\n",
    "#calculate the sample mean and variance:\n",
    "sample_mean = np.mean(sample)\n",
    "sample_variance = np.var(sample)\n",
    "\n",
    "\n",
    "#print the results:\n",
    "print(\"Sample Mean:\",sample_mean)\n",
    "print(\"Sample Variance:\", sample_variance)"
   ]
  },
  {
   "cell_type": "markdown",
   "id": "e84f72f2-3858-4219-b801-f851664c1e71",
   "metadata": {},
   "source": [
    "# Answer9"
   ]
  },
  {
   "cell_type": "raw",
   "id": "8cac785a-e551-4e02-8e11-bb2b497716b5",
   "metadata": {},
   "source": [
    "In both the Binomial distribution and the Poisson distribution, the mean (expected value) and variance are related, but the nature of the relationship differs.\n",
    "\n",
    "### Binomial Distribution:\n",
    "\n",
    "For a Binomial distribution with parameters n (number of trials) and p (probability of success on each trial), the mean and variance sigma^2 are related by the formulas:\n",
    "\n",
    "[ mean = np ]\n",
    "\n",
    "[ sigma^2 = np(1-p) ]\n",
    "\n",
    "### Poisson Distribution:\n",
    "\n",
    "For a Poisson distribution with parameter lambda (average rate of events in a fixed interval), the mean  and variance sigma^2  are equal and given by:\n",
    "\n",
    "mean = sigma^2 = lambda \n",
    "\n",
    "In summary:\n",
    "\n",
    "- In the Binomial distribution, the variance is a function of both the number of trials n and the probability of success p.\n",
    "- In the Poisson distribution, the mean and variance are both equal to the parameter lambda , which represents the average rate of events.\n",
    "\n",
    "The relationship between mean and variance provides insights into the spread or variability of the distribution. In the case of the Poisson distribution, the mean and variance being equal reflects a characteristic property of Poisson processes, where the variance is determined solely by the average rate of events. In the case of the Binomial distribution, the variance is influenced by both the number of trials and the probability of success on each trial."
   ]
  },
  {
   "cell_type": "markdown",
   "id": "71c6f54f-122d-49d9-88d6-8299d1165aee",
   "metadata": {},
   "source": [
    "# Answer10"
   ]
  },
  {
   "cell_type": "raw",
   "id": "0a0c3c2e-ee35-4857-877e-4f9e4a1c7af2",
   "metadata": {},
   "source": [
    "In a normal distribution, also known as a Gaussian distribution or bell curve, the data is symmetrically distributed around the mean. The mean is the central point of the distribution, and the curve is symmetric, meaning that the frequencies of data points are roughly equal on both sides of the mean.\n",
    "\n",
    "The least frequent data points are found in the tails of the distribution, farther away from the mean. As you move away from the mean in either direction along the x-axis, the frequency of data points decreases. The tails of the normal distribution extend infinitely, and as you move farther from the mean, the probability density becomes lower.\n",
    "\n",
    "Therefore, the least frequent data points in a normal distribution are located in the tails, both on the left (negative side) and the right (positive side) of the mean. The extreme values, or outliers, are less likely to occur than values closer to the mean."
   ]
  },
  {
   "cell_type": "code",
   "execution_count": null,
   "id": "1464458b-93d3-4351-adad-2c0ef0f603bf",
   "metadata": {},
   "outputs": [],
   "source": []
  }
 ],
 "metadata": {
  "kernelspec": {
   "display_name": "Python 3 (ipykernel)",
   "language": "python",
   "name": "python3"
  },
  "language_info": {
   "codemirror_mode": {
    "name": "ipython",
    "version": 3
   },
   "file_extension": ".py",
   "mimetype": "text/x-python",
   "name": "python",
   "nbconvert_exporter": "python",
   "pygments_lexer": "ipython3",
   "version": "3.10.8"
  }
 },
 "nbformat": 4,
 "nbformat_minor": 5
}
