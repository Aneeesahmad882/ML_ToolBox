{
 "cells": [
  {
   "cell_type": "markdown",
   "id": "de1e0bbb-f31d-4dba-9946-300c1827212d",
   "metadata": {},
   "source": [
    "# Answer1"
   ]
  },
  {
   "cell_type": "raw",
   "id": "badd52c0-33b3-4b70-b08c-3dd4b9842fec",
   "metadata": {},
   "source": [
    "Both t-tests and z-tests are statistical methods used to make inferences about population parameters based on sample data. The key difference between them lies in the situations in which they are applied, particularly with respect to the known or unknown population standard deviation.\n",
    "\n",
    "1- T-Test:\n",
    "\n",
    "When to use:\n",
    "- Use a t-test when the sample size is small (typically less than 30) and when the population standard deviation is unknown.\n",
    "- It is commonly used when working with small samples, making it appropriate for studies with limited data.\n",
    "\n",
    "Example Scenario:\n",
    "Consider a scenario where you want to compare the average scores of two groups of students (Group A and Group B) on a particular exam. If the sample size is small, say 20 students in each group, and you do not know the population standard deviation of the exam scores, you would use a t-test.\n",
    "\n",
    "2- Z-Test:\n",
    "\n",
    "When to use:\n",
    "- Use a z-test when the sample size is large (typically greater than 30) or when the population standard deviation is known.\n",
    "- Z-tests are more powerful and precise when the sample size is large, and they are often used in situations where the population standard deviation is known.\n",
    "\n",
    "Example Scenario:\n",
    "Imagine a scenario where you are analyzing the average heights of a large population of adult males. If you have a dataset with, let's say, 500 individuals and you know the population standard deviation of heights, you might use a z-test to determine if the average height of a subgroup (e.g., individuals who participate in a particular sport) is significantly different from the overall population mean."
   ]
  },
  {
   "cell_type": "markdown",
   "id": "1b2cd163-321b-4728-90e1-e133fd8fa4eb",
   "metadata": {},
   "source": [
    "# Answer2"
   ]
  },
  {
   "cell_type": "raw",
   "id": "d0f104d3-891e-41a1-a6de-d7fedb4678fb",
   "metadata": {},
   "source": [
    "One-tailed and two-tailed tests are terms used to describe the directionality of statistical hypothesis tests. The distinction lies in the hypothesis being tested and the critical region used to determine statistical significance.\n",
    "\n",
    "One-Tailed Test:\n",
    "\n",
    "In a one-tailed test, the critical region is located in only one tail of the distribution of the test statistic. There are two types of one-tailed tests: left-tailed and right-tailed.\n",
    "\n",
    "1. Left-Tailed Test:\n",
    "   - The critical region is in the left tail of the distribution.\n",
    "   - The hypothesis typically involves testing if a parameter is significantly less than a certain value.\n",
    "   - The rejection region is on the left side of the distribution curve.\n",
    "\n",
    "   Example:\n",
    "   (H_0: mu >= 10)  (null hypothesis - population mean is greater than or equal to 10)\n",
    "   (H_a: mu < 10)  (alternative hypothesis - population mean is less than 10)\n",
    "\n",
    "2. Right-Tailed Test:\n",
    "   - The critical region is in the right tail of the distribution.\n",
    "   - The hypothesis typically involves testing if a parameter is significantly greater than a certain value.\n",
    "   - The rejection region is on the right side of the distribution curve.\n",
    "\n",
    "   Example:\n",
    "   (H_0: mu <= 50)  (null hypothesis - population mean is less than or equal to 50)\n",
    "   (H_a: mu > 50)  (alternative hypothesis - population mean is greater than 50)\n",
    "\n",
    "Two-Tailed Test:\n",
    "\n",
    "In a two-tailed test, the critical region is split between both tails of the distribution. The hypothesis typically involves testing if a parameter is significantly different (either greater or less) than a certain value.\n",
    "\n",
    "- The rejection regions are in both the left and right tails of the distribution curve.\n",
    "\n",
    "   Example:\n",
    "   (H_0: mu = 100)  (null hypothesis - population mean is equal to 100)\n",
    "   (H_a: mu != 100)  (alternative hypothesis - population mean is not equal to 100)"
   ]
  },
  {
   "cell_type": "markdown",
   "id": "a7f4f6da-7380-42b2-a4b7-206fe9eccfc3",
   "metadata": {},
   "source": [
    "# Answer3"
   ]
  },
  {
   "cell_type": "raw",
   "id": "620262f6-63ee-4709-9e8c-cfed42243274",
   "metadata": {},
   "source": [
    "Type I and Type II errors are associated with hypothesis testing, which is a statistical method used to make decisions about population parameters based on sample data.\n",
    "\n",
    "1-Type I Error:\n",
    "\n",
    "A Type I error occurs when the null hypothesis is incorrectly rejected when it is actually true. In other words, it is a false positive or an error of mistakenly concluding that there is a significant effect or difference when there is none.\n",
    "\n",
    "Example Scenario:\n",
    "Suppose a pharmaceutical company is testing a new drug, and the null hypothesis (H_0) is that the drug has no effect. A Type I error would occur if, based on the sample data, the company incorrectly concludes that the drug is effective (rejects (H_0), but in reality, the drug has no actual impact on the condition.\n",
    "\n",
    "2- Type II Error:\n",
    "\n",
    "A Type II error occurs when the null hypothesis is not rejected when it is actually false. In other words, it is a false negative or an error of failing to detect a real effect or difference when one exists.\n",
    "\n",
    "Example Scenario:\n",
    "Continuing with the pharmaceutical example, let's say the drug does have a significant effect, but the sample data and statistical test do not lead to the rejection of the null hypothesis (H_0: {The drug has no effect}. A Type II error would occur if the company fails to recognize the effectiveness of the drug, leading to a missed opportunity to bring a beneficial medication to market.\n",
    "\n",
    "Summary:\n",
    "\n",
    "- **Type I Error (False Positive):** Incorrectly rejecting a true null hypothesis.\n",
    "- **Type II Error (False Negative):** Failing to reject a false null hypothesis."
   ]
  },
  {
   "cell_type": "markdown",
   "id": "3d69c517-1cfd-4a4e-9f94-f1c4322e578b",
   "metadata": {},
   "source": [
    "# Answer4"
   ]
  },
  {
   "cell_type": "raw",
   "id": "251723e2-dfd7-494f-9292-e106453a679e",
   "metadata": {},
   "source": [
    "Bayes's theorem is a fundamental concept in probability theory that describes the probability of an event based on prior knowledge of conditions that might be related to the event. The theorem is named after Thomas Bayes, an 18th-century statistician and theologian.\n",
    "\n",
    "The Formula for Bayes's thoerem:\n",
    "\n",
    "P(A/B) = {P(B/A)*P(A)}/P(B)\n",
    "\n",
    "Where :\n",
    "P(A/B) = probility of event A given that event B is occured.\n",
    "P(B/A) = probility of event B given that event A is occured.\n",
    "P(A) = prior probility of event A.\n",
    "P(B) = prior probility of event B."
   ]
  },
  {
   "cell_type": "code",
   "execution_count": 1,
   "id": "da49b84f-ab9a-4e4d-98c3-c3a626704225",
   "metadata": {},
   "outputs": [
    {
     "name": "stdout",
     "output_type": "stream",
     "text": [
      "The probability of having the disease given testing positive is: 0.1610\n"
     ]
    }
   ],
   "source": [
    "#example:\n",
    "def bayes_theorem(p_a, p_b_given_a, p_b_given_not_a):\n",
    "    # Calculate P(not A)\n",
    "    p_not_a = 1 - p_a\n",
    "    \n",
    "    # Calculate P(B)\n",
    "    p_b = p_b_given_a * p_a + p_b_given_not_a * p_not_a\n",
    "    \n",
    "    # Calculate P(A|B) using Bayes's theorem\n",
    "    p_a_given_b = (p_b_given_a * p_a) / p_b\n",
    "    \n",
    "    return p_a_given_b\n",
    "\n",
    "# Given information\n",
    "p_a = 0.01  # Prior probability of having the disease\n",
    "p_b_given_a = 0.95  # Probability of testing positive given having the disease\n",
    "p_b_given_not_a = 0.05  # Probability of testing positive given not having the disease\n",
    "\n",
    "# Calculate the updated probability using Bayes's theorem\n",
    "result = bayes_theorem(p_a, p_b_given_a, p_b_given_not_a)\n",
    "\n",
    "# Print the result\n",
    "print(f\"The probability of having the disease given testing positive is: {result:.4f}\")"
   ]
  },
  {
   "cell_type": "markdown",
   "id": "cab58754-8b0d-44a0-a58a-3baec3ed1f44",
   "metadata": {},
   "source": [
    "# Answer5"
   ]
  },
  {
   "cell_type": "raw",
   "id": "409f2422-ddff-4735-b246-f63f5205ada9",
   "metadata": {},
   "source": [
    "A confidence interval is a range of values that is used to estimate the true value of a population parameter with a certain level of confidence. It provides a range of values within which we are reasonably confident that the true parameter lies. The most common confidence intervals are calculated for the mean, but they can also be calculated for other parameters like proportions, variances, etc.\n",
    "\n",
    "The general form of a confidence interval is:\n",
    "\n",
    "Confidence Interval = Point Estimate ± Margin of Error\n",
    "\n",
    "\n",
    "where the point estimate is the sample statistic (e.g., sample mean), and the margin of error accounts for the variability and provides a range.\n",
    "\n",
    "How to Calculate a Confidence Interval:\n",
    "\n",
    "1-Determine the Confidence Level:\n",
    "\n",
    "Common confidence levels are 90%, 95%, and 99%. The confidence level represents the percentage of intervals that would contain the true population parameter in repeated sampling.\n",
    "\n",
    "2-Select the Point Estimate:\n",
    "\n",
    "This is the sample statistic that estimates the population parameter. For example, if you're estimating the mean, the point estimate would be the sample mean.\n",
    "\n",
    "3-Determine the Standard Error:\n",
    "\n",
    "The standard error is a measure of the variability of the point estimate. Its formula depends on the parameter being estimated.\n",
    "\n",
    "4-Calculate the Margin of Error:\n",
    "\n",
    "The margin of error is based on the standard error and the critical value associated with the chosen confidence level. The critical value is found from a standard normal distribution or a t-distribution, depending on the sample size.\n",
    "\n",
    "5-Construct the Confidence Interval:\n",
    "\n",
    "Use the point estimate and the margin of error to create the interval."
   ]
  },
  {
   "cell_type": "code",
   "execution_count": 2,
   "id": "f7efa5e4-3a54-44c6-8990-8293fe1577db",
   "metadata": {},
   "outputs": [
    {
     "name": "stdout",
     "output_type": "stream",
     "text": [
      "Sample Mean: 170.60\n",
      "Margin of Error: 2.83\n",
      "Confidence Interval: (167.77456660932398, 173.425433390676)\n"
     ]
    }
   ],
   "source": [
    "#example:\n",
    "import numpy as np\n",
    "from scipy import stats\n",
    "\n",
    "# Given data\n",
    "heights = np.array([168, 172, 165, 178, 170, 169, 175, 172, 166, 171])\n",
    "\n",
    "# Calculate the sample mean and standard deviation\n",
    "sample_mean = np.mean(heights)\n",
    "sample_std = np.std(heights, ddof=1)  # ddof=1 for sample standard deviation\n",
    "\n",
    "# Set the confidence level\n",
    "confidence_level = 0.95\n",
    "\n",
    "# Calculate the standard error\n",
    "standard_error = stats.sem(heights)\n",
    "\n",
    "# Calculate the margin of error\n",
    "margin_of_error = stats.t.ppf((1 + confidence_level) / 2, len(heights) - 1) * standard_error\n",
    "\n",
    "# Calculate the confidence interval\n",
    "confidence_interval = (sample_mean - margin_of_error, sample_mean + margin_of_error)\n",
    "\n",
    "# Print the results\n",
    "print(f\"Sample Mean: {sample_mean:.2f}\")\n",
    "print(f\"Margin of Error: {margin_of_error:.2f}\")\n",
    "print(f\"Confidence Interval: {confidence_interval}\")"
   ]
  },
  {
   "cell_type": "markdown",
   "id": "dd29bdee-4300-46fb-80c3-d5b12158a88f",
   "metadata": {},
   "source": [
    "# Answer6"
   ]
  },
  {
   "cell_type": "raw",
   "id": "0967f48d-d4a0-4bb3-9e06-bd00700f890e",
   "metadata": {},
   "source": [
    "In a game show, a contestant is presented with three doors. Behind one door is a car, and behind the other two doors are goats. The contestant selects one of the doors, and then the host, who knows what is behind each door, opens one of the other two doors to reveal a goat. The contestant is then given the option to either stick with their original choice or switch to the remaining unopened door. What is the probability of winning the car if the contestant switches?\n",
    "\n",
    "Solution using Bayes' Theorem:\n",
    "Let's define the events:\n",
    "A: The contestant initially chooses the door with the car.\n",
    "\n",
    "B: The host opens one of the other two doors to reveal a goat.\n",
    "We want to find P(A∣B), the probability that the contestant initially chose the door with the car given that the host opened a door with a goat."
   ]
  },
  {
   "cell_type": "code",
   "execution_count": 3,
   "id": "48dbddf7-2e6d-4608-b3d8-ec3c71c87a8a",
   "metadata": {},
   "outputs": [
    {
     "name": "stdout",
     "output_type": "stream",
     "text": [
      "The probability of winning the car if the contestant switches is: 0.5000\n"
     ]
    }
   ],
   "source": [
    "#example:\n",
    "# Given probabilities\n",
    "p_A = 1/3  # Probability of initially choosing the car\n",
    "p_not_A = 2/3  # Probability of initially choosing a goat\n",
    "p_B_given_A = 1  # Probability of host opening a goat given the car is chosen\n",
    "p_B_given_not_A = 1/2  # Probability of host opening a goat given a goat is chosen\n",
    "\n",
    "# Calculate P(B)\n",
    "p_B = p_B_given_A * p_A + p_B_given_not_A * p_not_A\n",
    "\n",
    "# Apply Bayes' Theorem to calculate P(A|B)\n",
    "p_A_given_B = (p_B_given_A * p_A) / p_B\n",
    "\n",
    "print(f\"The probability of winning the car if the contestant switches is: {p_A_given_B:.4f}\")"
   ]
  },
  {
   "cell_type": "markdown",
   "id": "ec271305-f431-4af6-8707-02ddd50cecb9",
   "metadata": {},
   "source": [
    "# Answer7"
   ]
  },
  {
   "cell_type": "code",
   "execution_count": 4,
   "id": "1a09dd9a-2f29-483d-b3f9-93bcdf5b52a8",
   "metadata": {},
   "outputs": [
    {
     "name": "stdout",
     "output_type": "stream",
     "text": [
      "Sample Mean: 50\n",
      "Margin of Error: 2.83\n",
      "95% Confidence Interval: (47.17456660932398, 52.82543339067602)\n"
     ]
    }
   ],
   "source": [
    "import scipy.stats as stat\n",
    "import numpy as np\n",
    "\n",
    "confidence_level = .95\n",
    "sample_mean = 50\n",
    "std_dev = 5\n",
    "sample_size = 30\n",
    "\n",
    "#calculate the std_error:\n",
    "std_error = std_dev/np.sqrt(sample_size)\n",
    "\n",
    "#calculate the margin of error:\n",
    "margin_error = stat.norm.ppf((1+confidence_level)/2*std_error)\n",
    "\n",
    "# Calculate the confidence interval\n",
    "confidence_interval = (sample_mean - margin_of_error, sample_mean + margin_of_error)\n",
    "\n",
    "# Print the results\n",
    "print(f\"Sample Mean: {sample_mean}\")\n",
    "print(f\"Margin of Error: {margin_of_error:.2f}\")\n",
    "print(f\"95% Confidence Interval: {confidence_interval}\")"
   ]
  },
  {
   "cell_type": "markdown",
   "id": "fb8e9407-e271-433f-be4f-18d3a6e81c6d",
   "metadata": {},
   "source": [
    "# Answer8"
   ]
  },
  {
   "cell_type": "raw",
   "id": "b96189f1-e4e7-42ce-80f4-493a844737b6",
   "metadata": {},
   "source": [
    "The margin of error in a confidence interval is a measure of the precision or uncertainty associated with the estimate of a population parameter, such as the mean. It represents the range above and below the point estimate within which the true population parameter is likely to fall with a certain level of confidence. The formula for the margin of error is typically:\n",
    "\n",
    "Margin of Error = Critical Value × Standard Error\n",
    "\n",
    "Where:\n",
    "- The critical value is determined by the chosen confidence level and the distribution (e.g., normal or t-distribution).\n",
    "- The standard error is a measure of the variability of the point estimate.\n",
    "\n",
    "How Sample Size Affects the Margin of Error:\n",
    "\n",
    "1. As Sample Size Increases:\n",
    "   - The standard error decreases because larger sample sizes result in less variability in the sample mean.\n",
    "   - The critical value remains relatively constant for a given confidence level.\n",
    "\n",
    "2. Effect on Margin of Error:\n",
    "   - With a larger sample size, the standard error has a greater impact on the margin of error.\n",
    "   - A larger sample size generally leads to a smaller margin of error, indicating a more precise estimate of the population parameter.\n",
    "\n",
    "Example Scenario:\n",
    "\n",
    "Let's consider an example where we are estimating the average score of students in a school. We collect two samples, one with a small sample size (e.g., 20 students) and another with a larger sample size (e.g., 200 students).\n",
    "\n",
    "For simplicity, let's assume a 95% confidence level and a normal distribution. The standard deviation of scores in the population is known to be 10."
   ]
  },
  {
   "cell_type": "code",
   "execution_count": 5,
   "id": "4637673e-d167-46e2-83ff-65b723d17092",
   "metadata": {},
   "outputs": [
    {
     "name": "stdout",
     "output_type": "stream",
     "text": [
      "Margin of Error (Small Sample): 4.38\n",
      "Margin of Error (Large Sample): 1.39\n"
     ]
    }
   ],
   "source": [
    "#example:\n",
    "import scipy.stats as stats\n",
    "import numpy as np\n",
    "\n",
    "# Parameters for the scenario\n",
    "small_sample_size = 20\n",
    "large_sample_size = 200\n",
    "confidence_level = 0.95\n",
    "population_std_dev = 10\n",
    "\n",
    "# Standard errors for small and large sample sizes\n",
    "se_small = population_std_dev / np.sqrt(small_sample_size)\n",
    "se_large = population_std_dev / np.sqrt(large_sample_size)\n",
    "\n",
    "# Calculate critical value for 95% confidence level\n",
    "critical_value = stats.norm.ppf((1 + confidence_level) / 2)\n",
    "\n",
    "# Calculate margin of error for small and large sample sizes\n",
    "margin_of_error_small = critical_value * se_small\n",
    "margin_of_error_large = critical_value * se_large\n",
    "\n",
    "print(f\"Margin of Error (Small Sample): {margin_of_error_small:.2f}\")\n",
    "print(f\"Margin of Error (Large Sample): {margin_of_error_large:.2f}\")"
   ]
  },
  {
   "cell_type": "markdown",
   "id": "2a811c9f-340b-43ff-ac7a-dd87856a6cbe",
   "metadata": {},
   "source": [
    "# Answer9"
   ]
  },
  {
   "cell_type": "raw",
   "id": "06f7caba-b86b-4fae-b14a-e83ef596bfa8",
   "metadata": {},
   "source": [
    "The z-score (or standard score) is a measure of how many standard deviations a particular data point is from the mean of a population. The formula for calculating the z-score is:\n",
    "\n",
    "Z= (X−μ)/σ\n",
    "\n",
    "\n",
    "Where:\n",
    "\n",
    "Z is the z-score,\n",
    "X is the data point,\n",
    "μ is the population mean, and\n",
    "σ is the population standard deviation.\n",
    "Let's calculate the z-score for a data point with a value of 75, a population mean of 70, and a population standard deviation of 5."
   ]
  },
  {
   "cell_type": "code",
   "execution_count": 6,
   "id": "38da9ffb-03e6-4ae2-a06b-bea2bf2e4eef",
   "metadata": {},
   "outputs": [
    {
     "name": "stdout",
     "output_type": "stream",
     "text": [
      "The z-score for the data point 75 is: 1.00\n"
     ]
    }
   ],
   "source": [
    "# Given data\n",
    "data_point = 75\n",
    "population_mean = 70\n",
    "population_std_dev = 5\n",
    "\n",
    "# Calculate the z-score\n",
    "z_score = (data_point - population_mean) / population_std_dev\n",
    "\n",
    "print(f\"The z-score for the data point {data_point} is: {z_score:.2f}\")"
   ]
  },
  {
   "cell_type": "raw",
   "id": "e692b010-d5c5-4844-9449-abb0b4b069f2",
   "metadata": {},
   "source": [
    "Now, let's interpret the result:\n",
    "\n",
    "The calculated z-score indicates how many standard deviations the data point (75) is from the mean (70) in the context of the population standard deviation (5).\n",
    "If the z-score is positive, it means the data point is above the mean, and if it's negative, it means the data point is below the mean.\n",
    "In this specific case, a z-score of 1 implies that the data point is 1 standard deviation above the mean.\n",
    "\n",
    "Interpretation:\n",
    "\n",
    "The data point of 75 is 1 standard deviation above the mean of 70 in the population, based on the provided standard deviation of 5. This suggests that the data point is relatively higher compared to the average in the context of the population distribution."
   ]
  },
  {
   "cell_type": "markdown",
   "id": "4cd444b4-69a0-4df5-a7f8-121f8c62aed8",
   "metadata": {},
   "source": [
    "# Answer10"
   ]
  },
  {
   "cell_type": "code",
   "execution_count": 1,
   "id": "31176fd8-513f-4b4b-8e8b-444f6320f743",
   "metadata": {},
   "outputs": [
    {
     "name": "stdout",
     "output_type": "stream",
     "text": [
      "Reject the null hypothesis. The drug is significantly effective.\n"
     ]
    }
   ],
   "source": [
    "import scipy.stats as stats\n",
    "\n",
    "# Given data\n",
    "sample_mean = 6\n",
    "sample_std_dev = 2.5\n",
    "sample_size = 50\n",
    "confidence_level = 0.95\n",
    "degrees_of_freedom = sample_size - 1\n",
    "\n",
    "# Hypothesized population mean under the null hypothesis\n",
    "null_hypothesized_mean = 0  \n",
    "\n",
    "# Calculate the t-test statistic\n",
    "t_statistic = (sample_mean - null_hypothesized_mean) / (sample_std_dev / (sample_size ** 0.5))\n",
    "\n",
    "# Calculate the critical value for a two-tailed test\n",
    "critical_value = stats.t.ppf((1 + confidence_level) / 2, degrees_of_freedom)\n",
    "\n",
    "# Compare the t-statistic with the critical value\n",
    "if abs(t_statistic) > critical_value:\n",
    "    print(\"Reject the null hypothesis. The drug is significantly effective.\")\n",
    "else:\n",
    "    print(\"Fail to reject the null hypothesis. There is not enough evidence to conclude that the drug is significantly effective.\")"
   ]
  },
  {
   "cell_type": "markdown",
   "id": "c89479cb-17cd-4696-a64b-3539ccaaea28",
   "metadata": {},
   "source": [
    "# Answer11"
   ]
  },
  {
   "cell_type": "code",
   "execution_count": 2,
   "id": "c81792c2-a22b-4190-9d8c-4b79ff5b2ef6",
   "metadata": {},
   "outputs": [
    {
     "name": "stdout",
     "output_type": "stream",
     "text": [
      "Sample Proportion: 0.65\n",
      "Margin of Error: 0.0418\n",
      "95% Confidence Interval: (0.6081925393809212, 0.6918074606190788)\n"
     ]
    }
   ],
   "source": [
    "import scipy.stats as stats\n",
    "import math\n",
    "\n",
    "# Given data\n",
    "sample_proportion = 0.65\n",
    "sample_size = 500\n",
    "confidence_level = 0.95\n",
    "\n",
    "# Calculate the critical value\n",
    "critical_value = stats.norm.ppf((1 + confidence_level) / 2)\n",
    "\n",
    "# Calculate the standard error of the proportion\n",
    "standard_error = math.sqrt((sample_proportion * (1 - sample_proportion)) / sample_size)\n",
    "\n",
    "# Calculate the margin of error\n",
    "margin_of_error = critical_value * standard_error\n",
    "\n",
    "# Calculate the confidence interval\n",
    "confidence_interval = (sample_proportion - margin_of_error, sample_proportion + margin_of_error)\n",
    "\n",
    "# Print the results\n",
    "print(f\"Sample Proportion: {sample_proportion}\")\n",
    "print(f\"Margin of Error: {margin_of_error:.4f}\")\n",
    "print(f\"95% Confidence Interval: {confidence_interval}\")"
   ]
  },
  {
   "cell_type": "markdown",
   "id": "c1636fb8-fd0b-450d-8fcc-a854f928c31c",
   "metadata": {},
   "source": [
    "# Answer12"
   ]
  },
  {
   "cell_type": "code",
   "execution_count": 3,
   "id": "171e4428-3d9a-48a6-bedb-d9a4ac73f54f",
   "metadata": {},
   "outputs": [
    {
     "name": "stdout",
     "output_type": "stream",
     "text": [
      "t-statistic: 2.1039\n",
      "P-value: 0.0397\n",
      "Fail to reject the null hypothesis. There is not enough evidence to conclude a significant difference in student performance.\n"
     ]
    }
   ],
   "source": [
    "import scipy.stats as stats\n",
    "\n",
    "# Given data for Sample A\n",
    "mean_A = 85\n",
    "std_dev_A = 6\n",
    "sample_size_A = 30  \n",
    "\n",
    "# Given data for Sample B\n",
    "mean_B = 82\n",
    "std_dev_B = 5\n",
    "sample_size_B = 30  \n",
    "\n",
    "# Significance level\n",
    "alpha = 0.01\n",
    "\n",
    "# Conduct a two-sample t-test\n",
    "t_statistic, p_value = stats.ttest_ind_from_stats(mean_A, std_dev_A, sample_size_A, mean_B, std_dev_B, sample_size_B)\n",
    "\n",
    "# Print the results\n",
    "print(f\"t-statistic: {t_statistic:.4f}\")\n",
    "print(f\"P-value: {p_value:.4f}\")\n",
    "\n",
    "# Compare p-value with the significance level\n",
    "if p_value < alpha:\n",
    "    print(\"Reject the null hypothesis. There is a significant difference in student performance between the two teaching methods.\")\n",
    "else:\n",
    "    print(\"Fail to reject the null hypothesis. There is not enough evidence to conclude a significant difference in student performance.\")\n"
   ]
  },
  {
   "cell_type": "markdown",
   "id": "1eceb700-6f8d-4551-a602-4a7536c9d339",
   "metadata": {},
   "source": [
    "# Answer13"
   ]
  },
  {
   "cell_type": "code",
   "execution_count": 4,
   "id": "3476714c-50d7-4080-afbf-1957c30aba0f",
   "metadata": {},
   "outputs": [
    {
     "name": "stdout",
     "output_type": "stream",
     "text": [
      "Sample Mean: 65\n",
      "Margin of Error: 1.8609\n",
      "90% Confidence Interval: (63.13906055411732, 66.86093944588268)\n"
     ]
    }
   ],
   "source": [
    "import scipy.stats as stats\n",
    "import math\n",
    "\n",
    "# Given data\n",
    "sample_mean = 65\n",
    "population_mean = 60\n",
    "population_std_dev = 8\n",
    "sample_size = 50\n",
    "confidence_level = 0.90\n",
    "\n",
    "# Calculate the critical value\n",
    "critical_value = stats.norm.ppf((1 + confidence_level) / 2)\n",
    "\n",
    "# Calculate the standard error of the mean\n",
    "standard_error = population_std_dev / math.sqrt(sample_size)\n",
    "\n",
    "# Calculate the margin of error\n",
    "margin_of_error = critical_value * standard_error\n",
    "\n",
    "# Calculate the confidence interval\n",
    "confidence_interval = (sample_mean - margin_of_error, sample_mean + margin_of_error)\n",
    "\n",
    "# Print the results\n",
    "print(f\"Sample Mean: {sample_mean}\")\n",
    "print(f\"Margin of Error: {margin_of_error:.4f}\")\n",
    "print(f\"90% Confidence Interval: {confidence_interval}\")"
   ]
  },
  {
   "cell_type": "markdown",
   "id": "cbeae7b5-5efd-4b01-90c2-2e4c293b8f85",
   "metadata": {},
   "source": [
    "# Answer14"
   ]
  },
  {
   "cell_type": "code",
   "execution_count": 6,
   "id": "7f232602-bae1-4908-97c2-d1e787154482",
   "metadata": {},
   "outputs": [
    {
     "name": "stdout",
     "output_type": "stream",
     "text": [
      "t-statistic: inf\n",
      "P-value: 0.0000\n",
      "Reject the null hypothesis. Caffeine has a significant effect on reaction time.\n"
     ]
    },
    {
     "name": "stderr",
     "output_type": "stream",
     "text": [
      "/tmp/ipykernel_116/3416869084.py:15: RuntimeWarning: Precision loss occurred in moment calculation due to catastrophic cancellation. This occurs when the data are nearly identical. Results may be unreliable.\n",
      "  t_statistic, p_value = stats.ttest_1samp([sample_mean] * sample_size, null_hypothesized_mean)\n"
     ]
    }
   ],
   "source": [
    "import scipy.stats as stats\n",
    "\n",
    "# Given data\n",
    "sample_mean = 0.25\n",
    "sample_std_dev = 0.05\n",
    "sample_size = 30\n",
    "\n",
    "# Hypothesized population mean under the null hypothesis\n",
    "null_hypothesized_mean = 0  \n",
    "# Confidence level\n",
    "confidence_level = 0.90\n",
    "\n",
    "# Conduct a one-sample t-test\n",
    "t_statistic, p_value = stats.ttest_1samp([sample_mean] * sample_size, null_hypothesized_mean)\n",
    "\n",
    "# Print the results\n",
    "print(f\"t-statistic: {t_statistic:.4f}\")\n",
    "print(f\"P-value: {p_value:.4f}\")\n",
    "\n",
    "# Compare p-value with the significance level\n",
    "if p_value < (1 - confidence_level):\n",
    "    print(\"Reject the null hypothesis. Caffeine has a significant effect on reaction time.\")\n",
    "else:\n",
    "    print(\"Fail to reject the null hypothesis. There is not enough evidence to conclude a significant effect of caffeine on reaction time.\")"
   ]
  },
  {
   "cell_type": "code",
   "execution_count": null,
   "id": "f4d6a11d-ee20-4c5d-90c9-361a2b1ca291",
   "metadata": {},
   "outputs": [],
   "source": []
  }
 ],
 "metadata": {
  "kernelspec": {
   "display_name": "Python 3 (ipykernel)",
   "language": "python",
   "name": "python3"
  },
  "language_info": {
   "codemirror_mode": {
    "name": "ipython",
    "version": 3
   },
   "file_extension": ".py",
   "mimetype": "text/x-python",
   "name": "python",
   "nbconvert_exporter": "python",
   "pygments_lexer": "ipython3",
   "version": "3.10.8"
  }
 },
 "nbformat": 4,
 "nbformat_minor": 5
}
