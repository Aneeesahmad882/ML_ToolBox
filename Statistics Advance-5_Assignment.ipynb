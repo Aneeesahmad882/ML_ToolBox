{
 "cells": [
  {
   "cell_type": "markdown",
   "id": "6f326917-6b27-49bf-92e3-431c30f07b06",
   "metadata": {},
   "source": [
    "# Answer1"
   ]
  },
  {
   "cell_type": "code",
   "execution_count": 2,
   "id": "ecf4dacb-3a56-40c0-9e45-cbf5246f2cf5",
   "metadata": {},
   "outputs": [
    {
     "name": "stdout",
     "output_type": "stream",
     "text": [
      "95% confidence interval: ( 48.77, 51.23)\n"
     ]
    }
   ],
   "source": [
    "import scipy.stats as stats\n",
    "import numpy as np\n",
    "\n",
    "#given data\n",
    "confidence_level = 0.95\n",
    "mean = 50\n",
    "std_dev = 5\n",
    "sample_size=30\n",
    "#calculate std error:\n",
    "std_error = std_dev/(sample_size**0.5)\n",
    "\n",
    "#calculate margin_of_error:\n",
    "margin_of_error = stats.norm.ppf((1+confidence_level)/2*std_error)\n",
    "\n",
    "#calculate the confidence interval:\n",
    "lower_bound = mean-margin_of_error\n",
    "upper_bound = mean+margin_of_error\n",
    "\n",
    "#print the result:\n",
    "print(f\"95% confidence interval: ({lower_bound: .2f}, {upper_bound:.2f})\")"
   ]
  },
  {
   "cell_type": "raw",
   "id": "ce28bae6-9343-4a1b-bb14-138af4170c7e",
   "metadata": {},
   "source": [
    "Interpretation:\n",
    "The 95% confidence interval for the sample mean (assuming a normal distribution) is given by the range between the lower and upper bounds. In this case, it means that if you were to draw multiple samples from the same population and compute a confidence interval for each sample, you would expect about 95% of those intervals to contain the true population mean.\n",
    "\n",
    "For example, if your calculated confidence interval is (48.77, 51.23), it would mean that you are 95% confident that the true population mean lies between 48.77 and 51.23 based on your sample data."
   ]
  },
  {
   "cell_type": "markdown",
   "id": "5ca5c52e-e936-4322-89c9-673c3f086002",
   "metadata": {},
   "source": [
    "# Answer2"
   ]
  },
  {
   "cell_type": "code",
   "execution_count": 3,
   "id": "151be20c-b3d6-4e94-8caf-d51c0b94109d",
   "metadata": {},
   "outputs": [
    {
     "name": "stdout",
     "output_type": "stream",
     "text": [
      "Chi-square Statistic: 0.0\n",
      "P-value: 1.0\n",
      "Degrees of Freedom: 0\n",
      "Expected Frequencies:\n",
      "[[15. 18. 22. 10. 12. 23.]]\n",
      "\n",
      "Significance Test:\n",
      "The p-value (1.0000) is greater than the significance level (0.05). Fail to reject the null hypothesis.\n"
     ]
    }
   ],
   "source": [
    "import numpy as np\n",
    "from scipy.stats import chi2_contingency\n",
    "\n",
    "# Observed frequencies of M&M colors in the bag\n",
    "observed_frequencies = np.array([15, 18, 22, 10, 12, 23])  \n",
    "\n",
    "# Expected frequencies based on the given distribution\n",
    "expected_frequencies = np.array([0.20, 0.20, 0.20, 0.10, 0.10, 0.20]) * np.sum(observed_frequencies)\n",
    "\n",
    "# Perform the chi-square test\n",
    "chi2_stat, p_value, dof, expected = chi2_contingency([observed_frequencies])\n",
    "\n",
    "# Output the results\n",
    "print(f\"Chi-square Statistic: {chi2_stat}\")\n",
    "print(f\"P-value: {p_value}\")\n",
    "print(f\"Degrees of Freedom: {dof}\")\n",
    "print(\"Expected Frequencies:\")\n",
    "print(expected)\n",
    "\n",
    "# Compare p-value to the significance level\n",
    "alpha = 0.05\n",
    "print(\"\\nSignificance Test:\")\n",
    "if p_value < alpha:\n",
    "    print(f\"The p-value ({p_value:.4f}) is less than the significance level ({alpha}). Reject the null hypothesis.\")\n",
    "else:\n",
    "    print(f\"The p-value ({p_value:.4f}) is greater than the significance level ({alpha}). Fail to reject the null hypothesis.\")"
   ]
  },
  {
   "cell_type": "markdown",
   "id": "36281f1a-2d51-409a-98b4-28dc0ac24494",
   "metadata": {},
   "source": [
    "# Answer3"
   ]
  },
  {
   "cell_type": "code",
   "execution_count": 4,
   "id": "335cd3cd-fe58-4109-a9b0-baded03d58cb",
   "metadata": {},
   "outputs": [
    {
     "name": "stdout",
     "output_type": "stream",
     "text": [
      "Chi-square Statistic: 5.833333333333334\n",
      "P-value: 0.05411376622282158\n",
      "Degrees of Freedom: 2\n",
      "Expected Frequencies:\n",
      "[[15. 20.]\n",
      " [15. 20.]\n",
      " [15. 20.]]\n",
      "\n",
      "Significance Test:\n",
      "The p-value (0.0541) is greater than the significance level (0.05). Fail to reject the null hypothesis.\n"
     ]
    }
   ],
   "source": [
    "import numpy as np\n",
    "from scipy.stats import chi2_contingency\n",
    "\n",
    "# Create a 2D array for the observed frequencies\n",
    "observed_frequencies = np.array([[20, 15],\n",
    "                                 [10, 25],\n",
    "                                 [15, 20]])\n",
    "\n",
    "# Perform the chi-square test\n",
    "chi2_stat, p_value, dof, expected = chi2_contingency(observed_frequencies)\n",
    "\n",
    "# Output the results\n",
    "print(f\"Chi-square Statistic: {chi2_stat}\")\n",
    "print(f\"P-value: {p_value}\")\n",
    "print(f\"Degrees of Freedom: {dof}\")\n",
    "print(\"Expected Frequencies:\")\n",
    "print(expected)\n",
    "\n",
    "# Compare p-value to the significance level\n",
    "alpha = 0.05\n",
    "print(\"\\nSignificance Test:\")\n",
    "if p_value < alpha:\n",
    "    print(f\"The p-value ({p_value:.4f}) is less than the significance level ({alpha}). Reject the null hypothesis.\")\n",
    "else:\n",
    "    print(f\"The p-value ({p_value:.4f}) is greater than the significance level ({alpha}). Fail to reject the null hypothesis.\")"
   ]
  },
  {
   "cell_type": "raw",
   "id": "83331a97-0105-4730-b519-7d7d857f1b05",
   "metadata": {},
   "source": [
    "Interpretation:\n",
    "\n",
    "Null Hypothesis: The null hypothesis assumes that there is no association between groups and outcomes in the population.\n",
    "\n",
    "Alternative Hypothesis: The alternative hypothesis suggests that there is a significant association between groups and outcomes.\n",
    "\n",
    "Decision: If the p-value is less than your chosen significance level (commonly 0.05), you would reject the null hypothesis. This would lead you to conclude that there is evidence of a significant association between the groups and outcomes. If the p-value is greater than your chosen significance level, you would fail to reject the null hypothesis, indicating insufficient evidence to claim a significant association"
   ]
  },
  {
   "cell_type": "markdown",
   "id": "2ddcb584-9e3e-46af-952d-40e9a2c63717",
   "metadata": {},
   "source": [
    "# Answer4"
   ]
  },
  {
   "cell_type": "code",
   "execution_count": 8,
   "id": "c894e902-bd55-4cea-85d4-a9b42014eb6c",
   "metadata": {},
   "outputs": [
    {
     "name": "stdout",
     "output_type": "stream",
     "text": [
      "95% confidence interval :(0.0915, 0.1485)\n"
     ]
    }
   ],
   "source": [
    "from scipy.stats import norm\n",
    "import numpy as np\n",
    "\n",
    "#Given data:\n",
    "sample_size = 500\n",
    "smoker_in_sample = 60\n",
    "\n",
    "sample_proportion = smoker_in_sample/sample_size\n",
    "\n",
    "confidence_level = .95\n",
    "\n",
    "#calculate the z score for confidence level:\n",
    "z_score = norm.ppf((1+confidence_level)/2)\n",
    "\n",
    "#calculate the std_error:\n",
    "std_error = np.sqrt((sample_proportion)*(1-sample_proportion)/(sample_size))\n",
    "\n",
    "#calculate the margin of error:\n",
    "margin_of_error = z_score*std_error\n",
    "\n",
    "#calculate the confidence interval:\n",
    "lower_bound = sample_proportion-margin_of_error\n",
    "upper_bound = sample_proportion+margin_of_error\n",
    "\n",
    "#print result:\n",
    "\n",
    "print(f\"95% confidence interval :({lower_bound:.4f}, {upper_bound:.4f})\")"
   ]
  },
  {
   "cell_type": "markdown",
   "id": "900f467d-ff71-4985-be0d-4f5fac06e9a2",
   "metadata": {},
   "source": [
    "# Answer5"
   ]
  },
  {
   "cell_type": "code",
   "execution_count": 10,
   "id": "f3508e7c-a65f-4b40-a3bc-471e683f64c4",
   "metadata": {},
   "outputs": [
    {
     "name": "stdout",
     "output_type": "stream",
     "text": [
      "90% Confidence Interval: (71.40, 78.60)\n"
     ]
    }
   ],
   "source": [
    "import numpy as np\n",
    "from scipy.stats import norm\n",
    "\n",
    "# Given data\n",
    "mean = 75\n",
    "std_dev = 12\n",
    "confidence_level = 0.90\n",
    "\n",
    "# Number of data points in the sample\n",
    "sample_size = 30  \n",
    "\n",
    "# Calculate standard error (SE)\n",
    "standard_error = std_dev / np.sqrt(sample_size)\n",
    "\n",
    "# Calculate margin of error (ME)\n",
    "margin_of_error = norm.ppf((1 + confidence_level) / 2) * standard_error\n",
    "\n",
    "# Calculate the confidence interval\n",
    "lower_bound = mean - margin_of_error\n",
    "upper_bound = mean + margin_of_error\n",
    "\n",
    "# Print the results\n",
    "print(f\"90% Confidence Interval: ({lower_bound:.2f}, {upper_bound:.2f})\")"
   ]
  },
  {
   "cell_type": "raw",
   "id": "3f1b1ea8-d694-4ba3-a548-7f1b5f446c24",
   "metadata": {},
   "source": [
    "Interpretation:\n",
    "\n",
    "The 90% confidence interval for the sample mean (assuming a normal distribution) is given by the range between the lower and upper bounds. In this case, it means that if you were to draw multiple samples from the same population and compute a confidence interval for each sample, you would expect about 90% of those intervals to contain the true population mean.\n",
    "For example, if your calculated confidence interval is (72.46, 77.54), it would mean that you are 90% confident that the true population mean lies between 72.46 and 77.54 based on your sample data. The narrower the interval, the more precise your estimate of the population mean."
   ]
  },
  {
   "cell_type": "markdown",
   "id": "51f6263d-752c-4b43-873f-33d76a4fdb16",
   "metadata": {},
   "source": [
    "# Answer6"
   ]
  },
  {
   "cell_type": "code",
   "execution_count": 12,
   "id": "d5256437-1b6a-49fd-85ea-c32d358baea3",
   "metadata": {},
   "outputs": [
    {
     "data": {
      "image/png": "[encoded data removed]",
      "text/plain": [
       "<Figure size 640x480 with 1 Axes>"
      ]
     },
     "metadata": {},
     "output_type": "display_data"
    }
   ],
   "source": [
    "import numpy as np\n",
    "import matplotlib.pyplot as plt\n",
    "from scipy.stats import chi2\n",
    "\n",
    "# Degrees of freedom\n",
    "df = 10\n",
    "\n",
    "# Generate values for the x-axis\n",
    "x_values = np.linspace(0, 30, 1000)\n",
    "\n",
    "# Plot the chi-square distribution\n",
    "plt.plot(x_values, chi2.pdf(x_values, df), label=f'Chi-square ({df} df)')\n",
    "\n",
    "# Shade the area corresponding to a chi-square statistic of 15\n",
    "x_shade = np.linspace(0, 15, 1000)\n",
    "plt.fill_between(x_shade, chi2.pdf(x_shade, df), color='skyblue', alpha=0.5, label='Area for chi-square = 15')\n",
    "\n",
    "# Label axes and add a legend\n",
    "plt.xlabel('Chi-squae Statistic')\n",
    "plt.ylabel('Probability Density Function')\n",
    "plt.title(f'Chi-square Distribution with {df} Degrees of Freedom')\n",
    "plt.legend()\n",
    "\n",
    "# Show the plot\n",
    "plt.show()"
   ]
  },
  {
   "cell_type": "markdown",
   "id": "2b9be914-bf40-4a4e-9476-12587fb8e7d0",
   "metadata": {},
   "source": [
    "# Answer7"
   ]
  },
  {
   "cell_type": "code",
   "execution_count": 14,
   "id": "f53a436b-df79-4433-b3d1-2e9d0d678177",
   "metadata": {},
   "outputs": [
    {
     "name": "stdout",
     "output_type": "stream",
     "text": [
      "99% confidence interval:(0.4793, 0.5607)\n"
     ]
    }
   ],
   "source": [
    "from scipy.stats import norm\n",
    "import numpy as np\n",
    "\n",
    "#given data:\n",
    "sample_size = 1000\n",
    "coke_in_sample = 520\n",
    "confidence_level = .99\n",
    "\n",
    "#find sample_proportion\n",
    "sample_proportion = coke_in_sample/sample_size\n",
    "\n",
    "#z_score:\n",
    "z_score = norm.ppf((1+confidence_level)/2)\n",
    "\n",
    "#std_error:\n",
    "std_error = np.sqrt(sample_proportion*(1-sample_proportion)/sample_size)\n",
    "\n",
    "#margin of error:\n",
    "margin_of_error = z_score*std_error\n",
    "\n",
    "#confidence_interval:\n",
    "lower_bound = sample_proportion - margin_of_error\n",
    "upper_bound = sample_proportion + margin_of_error\n",
    "\n",
    "#print the result\n",
    "print(f\"99% confidence interval:({lower_bound:.4f}, {upper_bound:.4f})\")"
   ]
  },
  {
   "cell_type": "markdown",
   "id": "49af7e24-d332-4a38-93cc-aaad529bc743",
   "metadata": {},
   "source": [
    "# Answer8"
   ]
  },
  {
   "cell_type": "code",
   "execution_count": 29,
   "id": "fcb2e6d0-3fa9-4eb4-84dd-a0196f10b891",
   "metadata": {},
   "outputs": [
    {
     "name": "stdout",
     "output_type": "stream",
     "text": [
      "chisquare_test_statistic: 1.0, p_value: 0.31731050786291115\n",
      "degree of freedom: 1\n",
      "critical value: 3.841458820694124\n",
      "Failed to reject the null hypothesis\n"
     ]
    }
   ],
   "source": [
    "#given data:\n",
    "observed_data = [45,55]\n",
    "expected_data = [50,50]\n",
    "significance_value = .05\n",
    "\n",
    "import scipy.stats as stats\n",
    "import numpy as np\n",
    "\n",
    "#chi_square test:\n",
    "chisquare_test_statistic,p_value = stats.chisquare(observed_data,expected_data)\n",
    "\n",
    "#print chisquare test result\n",
    "print(f\"chisquare_test_statistic: {chisquare_test_statistic}, p_value: {p_value}\")\n",
    "\n",
    "dof=len(expected_data)-1\n",
    "print('degree of freedom:',dof)\n",
    "critical_value = stats.chi2.ppf(1-significance_value,dof)\n",
    "print('critical value:',critical_value)\n",
    "\n",
    "if chisquare_test_statistic > critical_value:\n",
    "    print(\"Reject the null hypothesis\")\n",
    "else:\n",
    "    print(\"Failed to reject the null hypothesis\")"
   ]
  },
  {
   "cell_type": "markdown",
   "id": "8a1492f6-1eb8-4026-bec4-fdeab8a95756",
   "metadata": {},
   "source": [
    "# Answer9"
   ]
  },
  {
   "cell_type": "code",
   "execution_count": 30,
   "id": "fa8d37cf-50d3-44d4-b407-4027686effe0",
   "metadata": {},
   "outputs": [
    {
     "name": "stdout",
     "output_type": "stream",
     "text": [
      "Chi-square Statistic: 12.057347670250895\n",
      "P-value: 0.0005158863863703744\n",
      "Degrees of Freedom: 1\n",
      "Expected Frequencies:\n",
      "[[ 45. 155.]\n",
      " [ 45. 155.]]\n",
      "\n",
      "Significance Test:\n",
      "The p-value (0.0005) is less than the significance level (0.05). Reject the null hypothesis.\n"
     ]
    }
   ],
   "source": [
    "import numpy as np\n",
    "from scipy.stats import chi2_contingency\n",
    "\n",
    "# Given data\n",
    "observed_frequencies = np.array([[60, 140],\n",
    "                                 [30, 170]])\n",
    "\n",
    "# Perform the chi-square test for independence\n",
    "chi2_stat, p_value, dof, expected = chi2_contingency(observed_frequencies)\n",
    "\n",
    "# Output the results\n",
    "print(f\"Chi-square Statistic: {chi2_stat}\")\n",
    "print(f\"P-value: {p_value}\")\n",
    "print(f\"Degrees of Freedom: {dof}\")\n",
    "print(\"Expected Frequencies:\")\n",
    "print(expected)\n",
    "\n",
    "# Compare p-value to the significance level\n",
    "alpha = 0.05\n",
    "print(\"\\nSignificance Test:\")\n",
    "if p_value < alpha:\n",
    "    print(f\"The p-value ({p_value:.4f}) is less than the significance level ({alpha}). Reject the null hypothesis.\")\n",
    "else:\n",
    "    print(f\"The p-value ({p_value:.4f}) is greater than the significance level ({alpha}). Fail to reject the null hypothesis.\")"
   ]
  },
  {
   "cell_type": "raw",
   "id": "44c4530f-d0a1-4b05-8a11-a88f88950aa0",
   "metadata": {},
   "source": [
    "if the p-value is less than 0.05, you would reject the null hypothesis and conclude that there is a significant association between smoking status and lung cancer diagnosis. If the p-value is greater than 0.05, you would fail to reject the null hypothesis, suggesting no significant association."
   ]
  },
  {
   "cell_type": "markdown",
   "id": "aac73e80-c3bf-4465-a241-01b0f2cba239",
   "metadata": {},
   "source": [
    "# Answer10"
   ]
  },
  {
   "cell_type": "code",
   "execution_count": 31,
   "id": "5573cf4c-b3be-4115-b5cf-8c95272b0afe",
   "metadata": {},
   "outputs": [
    {
     "name": "stdout",
     "output_type": "stream",
     "text": [
      "Chi-square Statistic: 13.393665158371041\n",
      "P-value: 0.0012348168997745918\n",
      "Degrees of Freedom: 2\n",
      "Expected Frequencies:\n",
      "[[212.5 162.5 125. ]\n",
      " [212.5 162.5 125. ]]\n",
      "\n",
      "Significance Test:\n",
      "The p-value (0.0012) is less than the significance level (0.01). Reject the null hypothesis.\n"
     ]
    }
   ],
   "source": [
    "import numpy as np\n",
    "from scipy.stats import chi2_contingency\n",
    "\n",
    "# Given data\n",
    "observed_frequencies = np.array([[200, 150, 150],  # U.S. preferences (milk, dark, white)\n",
    "                                 [225, 175, 100]])  # U.K. preferences (milk, dark, white)\n",
    "\n",
    "# Perform the chi-square test for independence\n",
    "chi2_stat, p_value, dof, expected = chi2_contingency(observed_frequencies)\n",
    "\n",
    "# Output the results\n",
    "print(f\"Chi-square Statistic: {chi2_stat}\")\n",
    "print(f\"P-value: {p_value}\")\n",
    "print(f\"Degrees of Freedom: {dof}\")\n",
    "print(\"Expected Frequencies:\")\n",
    "print(expected)\n",
    "\n",
    "# Compare p-value to the significance level\n",
    "alpha = 0.01\n",
    "print(\"\\nSignificance Test:\")\n",
    "if p_value < alpha:\n",
    "    print(f\"The p-value ({p_value:.4f}) is less than the significance level ({alpha}). Reject the null hypothesis.\")\n",
    "else:\n",
    "    print(f\"The p-value ({p_value:.4f}) is greater than the significance level ({alpha}). Fail to reject the null hypothesis.\")"
   ]
  },
  {
   "cell_type": "raw",
   "id": "0a912b86-5b2e-450e-a9bf-add9df3b0069",
   "metadata": {},
   "source": [
    "If the p-value is less than 0.01, you would reject the null hypothesis, indicating a significant association between chocolate preference and country of origin. If the p-value is greater than 0.01, you would fail to reject the null hypothesis, suggesting no significant association."
   ]
  },
  {
   "cell_type": "markdown",
   "id": "89fcee3c-5cfb-45af-99e6-3415725e53d9",
   "metadata": {},
   "source": [
    "# Answer11"
   ]
  },
  {
   "cell_type": "code",
   "execution_count": 32,
   "id": "7568d821-12fe-4c16-bf56-d5239ff06e94",
   "metadata": {},
   "outputs": [
    {
     "name": "stdout",
     "output_type": "stream",
     "text": [
      "T-Statistic: 1.0954451150103321\n",
      "Critical Value: 2.045229642132703\n",
      "P-Value: 0.2823362372860698\n",
      "\n",
      "Hypothesis Test:\n",
      "The p-value (0.2823) is greater than the significance level (0.05). Fail to reject the null hypothesis.\n"
     ]
    }
   ],
   "source": [
    "import numpy as np\n",
    "from scipy.stats import t\n",
    "\n",
    "# Given data\n",
    "sample_mean = 72\n",
    "sample_std_dev = 10\n",
    "sample_size = 30\n",
    "population_mean_h0 = 70\n",
    "significance_level = 0.05\n",
    "\n",
    "# Calculate the t-statistic\n",
    "t_statistic = (sample_mean - population_mean_h0) / (sample_std_dev / np.sqrt(sample_size))\n",
    "\n",
    "# Degrees of freedom\n",
    "degrees_of_freedom = sample_size - 1\n",
    "\n",
    "# Calculate the critical value (two-tailed test)\n",
    "critical_value = t.ppf(1 - significance_level / 2, degrees_of_freedom)\n",
    "\n",
    "# Print the results\n",
    "print(f\"T-Statistic: {t_statistic}\")\n",
    "print(f\"Critical Value: {critical_value}\")\n",
    "\n",
    "# Conduct the hypothesis test\n",
    "p_value = 2 * (1 - t.cdf(np.abs(t_statistic), degrees_of_freedom))\n",
    "print(f\"P-Value: {p_value}\")\n",
    "\n",
    "# Compare p-value to the significance level\n",
    "print(\"\\nHypothesis Test:\")\n",
    "if p_value < significance_level:\n",
    "    print(f\"The p-value ({p_value:.4f}) is less than the significance level ({significance_level}). Reject the null hypothesis.\")\n",
    "else:\n",
    "    print(f\"The p-value ({p_value:.4f}) is greater than the significance level ({significance_level}). Fail to reject the null hypothesis.\")"
   ]
  },
  {
   "cell_type": "raw",
   "id": "f4519b30-4c0c-455c-9028-1340b7f34a22",
   "metadata": {},
   "source": [
    "This code calculates the t-statistic, critical value, and p-value for a one-sample t-test. The null hypothesis (H0) is that the population mean is equal to 70. If the p-value is less than the significance level (0.05 in this case), you would reject the null hypothesis, suggesting that there is a significant difference between the sample mean and the hypothesized population mean. If the p-value is greater than 0.05, you would fail to reject the null hypothesis."
   ]
  },
  {
   "cell_type": "code",
   "execution_count": null,
   "id": "937945da-9bd5-4f53-b6b8-6afb19ac186c",
   "metadata": {},
   "outputs": [],
   "source": []
  }
 ],
 "metadata": {
  "kernelspec": {
   "display_name": "Python 3 (ipykernel)",
   "language": "python",
   "name": "python3"
  },
  "language_info": {
   "codemirror_mode": {
    "name": "ipython",
    "version": 3
   },
   "file_extension": ".py",
   "mimetype": "text/x-python",
   "name": "python",
   "nbconvert_exporter": "python",
   "pygments_lexer": "ipython3",
   "version": "3.10.8"
  }
 },
 "nbformat": 4,
 "nbformat_minor": 5
}
