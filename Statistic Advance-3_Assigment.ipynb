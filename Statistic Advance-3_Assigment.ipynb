{
 "cells": [
  {
   "cell_type": "markdown",
   "id": "fc5c4d49-211a-4448-9062-a418b922d92c",
   "metadata": {},
   "source": [
    "# Answer1"
   ]
  },
  {
   "cell_type": "raw",
   "id": "564b42c0-8e71-4628-aa41-64d950aa8734",
   "metadata": {},
   "source": [
    "Estimation statistics is a branch of statistics that involves using sample data to make inferences or predictions about population parameters. The goal is to estimate unknown parameters, such as the mean or variance of a population, based on information gathered from a sample of that population.\n",
    "\n",
    "There are two main types of estimates in estimation statistics: point estimates and interval estimates.\n",
    "\n",
    "1-Point Estimate:\n",
    "\n",
    "A point estimate is a single value that is used to estimate a population parameter. It's a specific numerical value calculated from sample data and is intended to provide the best guess for the true value of the parameter.\n",
    "For example, if you want to estimate the average height of all students in a school, the sample mean (average height of the students in your sample) could be used as a point estimate for the population mean.\n",
    "\n",
    "2-Interval Estimate:\n",
    "\n",
    "An interval estimate, on the other hand, provides a range of values within which the true population parameter is likely to lie, along with a level of confidence associated with that range.\n",
    "This is often expressed as a confidence interval. For instance, you might say, \"I am 95% confident that the true average height of all students in the school is between X and Y.\" This interval provides a measure of the uncertainty associated with the estimate.\n",
    "The confidence level (e.g., 95%) indicates the probability that the interval estimate contains the true population parameter."
   ]
  },
  {
   "cell_type": "markdown",
   "id": "257a4b74-e865-40e0-a25d-be4109e3aee6",
   "metadata": {},
   "source": [
    "# Answer2 "
   ]
  },
  {
   "cell_type": "raw",
   "id": "97bd81be-121f-43a1-a539-44496d1153fd",
   "metadata": {},
   "source": [
    "Certainly! To estimate the population mean using a sample mean and standard deviation, you can use the formula for a confidence interval for the mean. The formula is:\n",
    "\n",
    "confidence interval = Sample Mean -+ (z_score*(sample_sdt_dev/sqrt(sample_Size)))\n",
    "\n",
    "Here's a simple Python function that calculates the confidence interval for the population mean:"
   ]
  },
  {
   "cell_type": "code",
   "execution_count": 2,
   "id": "fe7eb658-7715-49ab-b05b-44085518ae7c",
   "metadata": {},
   "outputs": [
    {
     "name": "stdout",
     "output_type": "stream",
     "text": [
      "Estimated population mean: 75.5\n",
      "Confidence Interval: (73.50083673576914, 77.49916326423086)\n"
     ]
    }
   ],
   "source": [
    "import scipy.stats as stats\n",
    "import math\n",
    "\n",
    "def estimate_population_mean(sample_mean, sample_std, sample_size, confidence_level=0.95):\n",
    "    # Calculate the Z-Score corresponding to the desired confidence level\n",
    "    z_score = stats.norm.ppf((1 + confidence_level) / 2)\n",
    "\n",
    "    # Calculate the margin of error\n",
    "    margin_of_error = z_score * (sample_std / math.sqrt(sample_size))\n",
    "\n",
    "    # Calculate the confidence interval\n",
    "    lower_bound = sample_mean - margin_of_error\n",
    "    upper_bound = sample_mean + margin_of_error\n",
    "\n",
    "    return lower_bound, upper_bound\n",
    "\n",
    "# Example usage:\n",
    "sample_mean = 75.5\n",
    "sample_std = 10.2\n",
    "sample_size = 100\n",
    "confidence_level = 0.95\n",
    "\n",
    "lower, upper = estimate_population_mean(sample_mean, sample_std, sample_size, confidence_level)\n",
    "\n",
    "print(f\"Estimated population mean: {sample_mean}\")\n",
    "print(f\"Confidence Interval: ({lower}, {upper})\")"
   ]
  },
  {
   "cell_type": "markdown",
   "id": "ccec8650-4f34-462b-8247-20395ecd19c1",
   "metadata": {},
   "source": [
    "# Answer3"
   ]
  },
  {
   "cell_type": "raw",
   "id": "508aaa4b-91a4-4431-a908-d0a9288d6fcb",
   "metadata": {},
   "source": [
    "Hypothesis testing is a statistical method used to make inferences about a population parameter based on a sample of data. The process involves formulating a hypothesis about the population parameter, collecting and analyzing sample data, and then making a decision about whether to reject or fail to reject the null hypothesis. The null hypothesis typically represents a statement of no effect or no difference, and the alternative hypothesis represents a statement of an effect or a difference.\n",
    "\n",
    "The basic steps of hypothesis testing are as follows:\n",
    "\n",
    "1. **Formulate Hypotheses:\n",
    "   - Null Hypothesis (H_0): Typically, a statement of no effect or no difference.\n",
    "   - Alternative Hypothesis (H_a) or (H_1): Represents a specific effect or difference.\n",
    "\n",
    "2. **Collect Data:**\n",
    "   - Gather relevant data through experiments or observations.\n",
    "\n",
    "3. **Choose Significance Level (alpha):\n",
    "   - The significance level, often denoted as (alpha), represents the probability of rejecting the null hypothesis when it is true. Common choices include 0.05, 0.01, or 0.10.\n",
    "\n",
    "4. **Perform Statistical Test:\n",
    "   - Use a statistical test (e.g., t-test, z-test, chi-square test) to analyze the data and calculate a test statistic.\n",
    "\n",
    "5. **Make a Decision:\n",
    "   - Compare the test statistic to a critical value or p-value.\n",
    "   - If the p-value is less than the significance level, reject the null hypothesis. Otherwise, fail to reject the null hypothesis.\n",
    "\n",
    "6. **Draw Conclusions:\n",
    "   - Based on the decision, draw conclusions about the population parameter.\n",
    "\n",
    "**Importance of Hypothesis Testing:\n",
    "\n",
    "1. **Informed Decision Making:\n",
    "   - Hypothesis testing provides a systematic and objective framework for making decisions based on data.\n",
    "\n",
    "2. **Scientific Inquiry:\n",
    "   - In scientific research, hypothesis testing is fundamental for testing theories and hypotheses, helping to advance knowledge and understanding.\n",
    "\n",
    "3. **Quality Control and Process Improvement:\n",
    "   - In manufacturing and business, hypothesis testing is used for quality control and process improvement, ensuring that products meet specified standards.\n",
    "\n",
    "4. **Medical Research:\n",
    "   - In medical research, hypothesis testing is crucial for evaluating the effectiveness of treatments and interventions.\n",
    "\n",
    "5. **Policy and Decision Making:\n",
    "   - In various fields, including economics and social sciences, hypothesis testing is used to inform policy decisions and assess the impact of interventions.\n",
    "\n",
    "6. **Risk Management:\n",
    "   - Businesses and financial institutions use hypothesis testing to assess and manage risks.\n",
    "\n",
    "7. **Legal and Regulatory Compliance:\n",
    "   - Hypothesis testing is often employed to ensure compliance with legal and regulatory standards.\n",
    "\n",
    "In summary, hypothesis testing is a powerful tool for making evidence-based decisions and drawing reliable conclusions from data, making it a cornerstone in scientific research and various fields of applied statistics."
   ]
  },
  {
   "cell_type": "markdown",
   "id": "36553c0c-6280-49d6-ab7f-153b8c0102d7",
   "metadata": {},
   "source": [
    "# Answer4"
   ]
  },
  {
   "cell_type": "raw",
   "id": "d09a9726-2339-4215-b94b-4a4624c27ddf",
   "metadata": {},
   "source": [
    "To test the hypothesis about the average weight of male and female college students using Python, you would typically need a dataset with weights of both male and female students. For the purpose of illustration, let's assume you have two NumPy arrays male_weights and female_weights containing the weights of male and female students, respectively.\n",
    "\n",
    "Here's a basic example using a hypothetical dataset and a one-sided t-test. Note that in practice, you would use real data for a meaningful analysis:"
   ]
  },
  {
   "cell_type": "code",
   "execution_count": 10,
   "id": "194da6eb-fee4-412a-8e57-4489a2a236c7",
   "metadata": {},
   "outputs": [
    {
     "name": "stdout",
     "output_type": "stream",
     "text": [
      "Reject the null hypothesis. There is evidence that the average weight of male students is greater than female students.\n"
     ]
    }
   ],
   "source": [
    "import numpy as np\n",
    "from scipy import stats\n",
    "\n",
    "# Hypothetical weights (replace with actual data)\n",
    "male_weights = np.array([70, 72, 75, 68, 71, 73, 74, 76])\n",
    "female_weights = np.array([62, 65, 68, 63, 66, 67, 64, 70])\n",
    "\n",
    "# Perform a one-sided t-test\n",
    "t_statistics,p_value = stats.ttest_ind(male_weights, female_weights, alternative='greater')\n",
    "\n",
    "# Define significance level (alpha)\n",
    "alpha = 0.05\n",
    "\n",
    "# Compare p-value to alpha\n",
    "if p_value < alpha:\n",
    "    print(\"Reject the null hypothesis. There is evidence that the average weight of male students is greater than female students.\")\n",
    "else:\n",
    "    print(\"Fail to reject the null hypothesis. There is not enough evidence to conclude that the average weight of male students is greater than female students.\")"
   ]
  },
  {
   "cell_type": "markdown",
   "id": "2984ea56-79f1-4187-9d07-a75651db8d24",
   "metadata": {},
   "source": [
    "# Answer5"
   ]
  },
  {
   "cell_type": "raw",
   "id": "21926af4-f2ee-4ea4-9331-283b10f6378c",
   "metadata": {},
   "source": [
    "Certainly! To conduct a hypothesis test on the difference between two population means, you can use the t-test for independent samples. Here's a simple Python script using the scipy.stats module for a two-sample t-test:"
   ]
  },
  {
   "cell_type": "code",
   "execution_count": 9,
   "id": "7fb004e6-44b4-4c4c-bc64-9dacc3950ee6",
   "metadata": {},
   "outputs": [
    {
     "name": "stdout",
     "output_type": "stream",
     "text": [
      "T-statistic: -1.690685543963256\n",
      "P-value: 0.10813923637455658\n",
      "Critical t-value: 2.10092204024096\n",
      "Fail to reject the null hypothesis (there is no significant difference).\n"
     ]
    }
   ],
   "source": [
    "import scipy.stats as stats\n",
    "import numpy as np\n",
    "\n",
    "\n",
    "def two_sample_t_test(sample1,sample2,aplha=.05):\n",
    "    mean1,mean2=sample1.mean(),sample2.mean()\n",
    "    std1,std2= sample1.std(),sample2.std()\n",
    "    \n",
    "    #calculate the tstats:\n",
    "    \n",
    "    n1,n2=len(sample1),len(sample2)\n",
    "    dof = (n1+n2-2)\n",
    "    pooled_std = ((n1-1)*std1**2+(n2-1)*std2**2)/dof\n",
    "    t_stat = (mean1-mean2)/(pooled_std*((1/n1)+(1/n2))**0.5)\n",
    "    \n",
    "    \n",
    "    #calculate the critical t-value:\n",
    "    critical_t_value = stats.t.ppf(1-aplha/2,dof)\n",
    "    \n",
    "    #calculate the p value:\n",
    "    p_value = 2*(1-stats.t.cdf(abs(t_stat),dof))\n",
    "    \n",
    "    \n",
    "    # Print results\n",
    "    print(f\"T-statistic: {t_stat}\")\n",
    "    print(f\"P-value: {p_value}\")\n",
    "    print(f\"Critical t-value: {critical_t_value}\")\n",
    "    \n",
    "    # Compare p-value with alpha to make a decision\n",
    "    if p_value < alpha:\n",
    "        print(\"Reject the null hypothesis (there is a significant difference).\")\n",
    "    else:\n",
    "        print(\"Fail to reject the null hypothesis (there is no significant difference).\")\n",
    "\n",
    "# Example usage:\n",
    "if __name__ == \"__main__\":\n",
    "   \n",
    "    sample1 = np.array([23, 21, 18, 25, 27, 29, 20, 19, 26, 24])\n",
    "    sample2 = np.array([30, 28, 32, 26, 29, 27, 31, 28, 30, 33])\n",
    "    \n",
    "    # Set the significance level (alpha)\n",
    "    alpha = 0.05\n",
    "    \n",
    "    # Perform the two-sample t-test\n",
    "    two_sample_t_test(sample1, sample2, alpha)"
   ]
  },
  {
   "cell_type": "markdown",
   "id": "254d00c4-2851-4dc2-8468-83a6f25560de",
   "metadata": {},
   "source": [
    "# Answer6"
   ]
  },
  {
   "cell_type": "raw",
   "id": "4fdd6e4c-88c8-4f6f-a8c6-461809add060",
   "metadata": {},
   "source": [
    "In statistical hypothesis testing, the null hypothesis denoted as (H_0) and the alternative hypothesis denoted as (H_a) or (H_1) are statements about a population or populations that we want to test.\n",
    "\n",
    "1. Null Hypothesis (H_0):\n",
    "   - The null hypothesis is a statement of no effect or no difference.\n",
    "   - It represents the status quo or a default assumption.\n",
    "   - It is what you typically aim to test against.\n",
    "   - In symbols, (H_0) often contains an equality.\n",
    "\n",
    "   Examples:\n",
    "   - (H_0: mu = 50) (The population mean is equal to 50).\n",
    "   - (H_0: sigma^2 =<10 ) (The population variance is less than or equal to 10).\n",
    "   - (H_0: p = 0.5) (The population proportion is equal to 0.5).\n",
    "\n",
    "2.Alternative Hypothesis (H_a) or (H_1):\n",
    "   - The alternative hypothesis is a statement that contradicts the null hypothesis.\n",
    "   - It represents what you want to find evidence for.\n",
    "   - It can be one-sided (<, >) or two-sided (!=).\n",
    "   - In symbols, (H_a) typically contains an inequality.\n",
    "\n",
    "   Examples:\n",
    "   - (H_a: mu > 50) (The population mean is greater than 50).\n",
    "   - (H_a: sigma^2 > 10) (The population variance is greater than 10).\n",
    "   - (H_a: p != 0.5) (The population proportion is not equal to 0.5).\n",
    "\n",
    "During hypothesis testing, you collect sample data and use statistical methods to decide whether to reject the null hypothesis in favor of the alternative hypothesis. The decision is based on the observed data and involves calculating a test statistic and comparing it to a critical value or calculating a p-value. If the evidence is strong against the null hypothesis, you may reject it in favor of the alternative hypothesis. If the evidence is not strong, you may fail to reject the null hypothesis."
   ]
  },
  {
   "cell_type": "markdown",
   "id": "1fa1c927-bc29-4b7e-b029-7faae586c91d",
   "metadata": {},
   "source": [
    "# Answer7"
   ]
  },
  {
   "cell_type": "raw",
   "id": "b47bc773-1f95-4ff9-9a7b-34d45d233978",
   "metadata": {},
   "source": [
    "Hypothesis testing is a statistical method used to make inferences about population parameters based on a sample of data. The process generally involves the following steps:\n",
    "\n",
    "1. Formulate the Hypotheses:\n",
    "   - Null Hypothesis (H₀): This is a statement of no effect or no difference. It often includes an equality sign (e.g., μ = 50).\n",
    "   - Alternative Hypothesis (H₁ or Hₐ): This is a statement that contradicts the null hypothesis and represents the researcher's claim or        expectation. It might involve inequality (e.g., μ ≠ 50, μ > 50, μ < 50).\n",
    "\n",
    "2. Define the Significance Level (α):\n",
    "   - The significance level, denoted by α, is the probability of rejecting the null hypothesis when it is true. Common choices are 0.05, 0.01, or 0.10.\n",
    "\n",
    "3. Choose the Test Statistic:\n",
    "   - Select an appropriate statistical test based on the nature of the data and the hypotheses being tested (e.g., t-test, chi-square test,      ANOVA, etc.).\n",
    "\n",
    "4. Collect and Analyze Data:\n",
    "   - Collect a sample of data from the population of interest.\n",
    "   - Analyze the data to compute the test statistic.\n",
    "\n",
    "5. Determine the Critical Region:\n",
    "   - Identify the critical region(s) of the distribution of the test statistic under the null hypothesis.\n",
    "   - The critical region is the range of values that, if the test statistic falls within it, will lead to the rejection of the null               hypothesis.\n",
    "\n",
    "6. Make a Decision:\n",
    "   - Compare the calculated test statistic to the critical value(s).\n",
    "   - If the test statistic falls in the critical region, reject the null hypothesis. If not, fail to reject the null hypothesis.\n",
    "\n",
    "7. Draw a Conclusion:\n",
    "   - Based on the decision in step 6, draw a conclusion about the null hypothesis.\n",
    "   - If the null hypothesis is rejected, provide evidence in support of the alternative hypothesis.\n",
    "\n",
    "8. Interpret the Results:\n",
    "   - Consider the practical significance of the findings in addition to statistical significance.\n",
    "   - Discuss the implications of the results in the context of the research question.\n",
    "\n",
    "9. Report the Results:\n",
    "   - Clearly communicate the findings, including the test statistic, p-value, and the decision regarding the null hypothesis, in a manner       that is understandable to the intended audience.\n",
    "\n",
    "It's important to note that hypothesis testing is a tool for making statistical inferences, and the results are subject to Type I and Type II errors. Careful consideration of the study design, assumptions, and limitations is crucial in the interpretation of the results."
   ]
  },
  {
   "cell_type": "markdown",
   "id": "72ffa3cf-9228-43ec-8180-2711b8cc9637",
   "metadata": {},
   "source": [
    "# Answer8"
   ]
  },
  {
   "cell_type": "raw",
   "id": "97a9766b-828c-4cfe-9d4c-4d6ab719e62d",
   "metadata": {},
   "source": [
    "The p-value, or probability value, is a measure that helps in determining the strength of evidence against a null hypothesis in hypothesis testing. It quantifies the likelihood of obtaining the observed results (or more extreme results) if the null hypothesis were true. In other words, it assesses the probability of observing the data or more extreme data points under the assumption that the null hypothesis is correct.\n",
    "\n",
    "Here's how the p-value is interpreted in the context of hypothesis testing:\n",
    "\n",
    "1. Low p-value (typically ≤ 0.05):\n",
    "   - If the p-value is small, it suggests that the observed data is unlikely to have occurred by random chance alone under the assumption that the null hypothesis is true.\n",
    "   - This leads to rejecting the null hypothesis in favor of the alternative hypothesis.\n",
    "\n",
    "2. High p-value (typically > 0.05):\n",
    "   - If the p-value is large, it indicates that the observed data is reasonably likely to occur by random chance under the assumption that the null hypothesis is true.\n",
    "   - In this case, there is insufficient evidence to reject the null hypothesis.\n",
    "\n",
    "The choice of the significance level (α) determines the threshold for deciding whether a p-value is considered small or large. Commonly used significance levels are 0.05, 0.01, or 0.10. A p-value less than or equal to the chosen significance level leads to the rejection of the null hypothesis.\n",
    "\n",
    "It's important to note the following key points about p-values:\n",
    "\n",
    "- The p-value does not provide the probability that either hypothesis is true; it only assesses the evidence against the null hypothesis.\n",
    "- A small p-value does not prove that the alternative hypothesis is true, nor does a large p-value prove that the null hypothesis is true.\n",
    "- The p-value does not indicate the size or importance of the observed effect; it only reflects the strength of evidence against the null hypothesis.\n",
    "\n",
    "Researchers should interpret p-values cautiously and consider them in conjunction with other factors such as effect size, study design, and practical significance when drawing conclusions from hypothesis tests."
   ]
  },
  {
   "cell_type": "markdown",
   "id": "0e062fba-6215-4a5c-ac70-ce497b5c94a0",
   "metadata": {},
   "source": [
    "# Answer9"
   ]
  },
  {
   "cell_type": "code",
   "execution_count": 10,
   "id": "9827021f-b166-48f3-b114-8f978642c696",
   "metadata": {},
   "outputs": [
    {
     "data": {
      "image/png": "[encoded data removed]",
      "text/plain": [
       "<Figure size 640x480 with 1 Axes>"
      ]
     },
     "metadata": {},
     "output_type": "display_data"
    }
   ],
   "source": [
    "import numpy as np\n",
    "import matplotlib.pyplot as plt\n",
    "from scipy.stats import t\n",
    "\n",
    "# Set the degrees of freedom\n",
    "degrees_of_freedom = 10\n",
    "\n",
    "# Generate values for the x-axis\n",
    "x = np.linspace(-4, 4, 1000)\n",
    "\n",
    "# Calculate the probability density function (pdf) for the t-distribution\n",
    "pdf_values = t.pdf(x, df=degrees_of_freedom)\n",
    "\n",
    "# Plot the t-distribution\n",
    "plt.plot(x, pdf_values, label=f't-distribution (df={degrees_of_freedom})')\n",
    "plt.title(f'Student\\'s t-distribution with {degrees_of_freedom} degrees of freedom')\n",
    "plt.xlabel('x')\n",
    "plt.ylabel('Probability Density Function (PDF)')\n",
    "plt.legend()\n",
    "plt.grid(True)\n",
    "plt.show()"
   ]
  },
  {
   "cell_type": "markdown",
   "id": "88c2211b-dcda-4430-ae8b-700f751aacaa",
   "metadata": {},
   "source": [
    "# Answer10"
   ]
  },
  {
   "cell_type": "code",
   "execution_count": 11,
   "id": "92103eca-8fa5-4686-9246-3d67b5d271a0",
   "metadata": {},
   "outputs": [
    {
     "name": "stdout",
     "output_type": "stream",
     "text": [
      "Sample 1 mean: 4.623706208297923\n",
      "Sample 2 mean: 5.757675059420114\n",
      "Two-sample t-test results:\n",
      "   t-statistic: -2.3981151520102473\n",
      "   p-value: 0.01971794186575796\n",
      "Reject the null hypothesis. There is significant evidence that population means are different.\n"
     ]
    }
   ],
   "source": [
    "import numpy as np\n",
    "from scipy.stats import ttest_ind\n",
    "\n",
    "# Set a random seed for reproducibility\n",
    "np.random.seed(42)\n",
    "\n",
    "# Generate two random samples of equal size\n",
    "sample_size = 30\n",
    "sample1 = np.random.normal(loc=5, scale=2, size=sample_size)\n",
    "sample2 = np.random.normal(loc=6, scale=2, size=sample_size)\n",
    "\n",
    "# Perform two-sample t-test\n",
    "t_statistic, p_value = ttest_ind(sample1, sample2)\n",
    "\n",
    "# Print the results\n",
    "print(\"Sample 1 mean:\", np.mean(sample1))\n",
    "print(\"Sample 2 mean:\", np.mean(sample2))\n",
    "print(\"Two-sample t-test results:\")\n",
    "print(\"   t-statistic:\", t_statistic)\n",
    "print(\"   p-value:\", p_value)\n",
    "\n",
    "# Check if the null hypothesis can be rejected (using a significance level of 0.05)\n",
    "alpha = 0.05\n",
    "if p_value < alpha:\n",
    "    print(\"Reject the null hypothesis. There is significant evidence that population means are different.\")\n",
    "else:\n",
    "    print(\"Fail to reject the null hypothesis. There is not enough evidence to suggest different population means.\")"
   ]
  },
  {
   "cell_type": "markdown",
   "id": "2863cab8-1928-440a-87c8-c5d2b51470a3",
   "metadata": {},
   "source": [
    "# Answer11"
   ]
  },
  {
   "cell_type": "raw",
   "id": "8ddaed91-e423-44a5-92b4-bb31dd6aa56a",
   "metadata": {},
   "source": [
    "Student's t-distribution, often referred to as the t-distribution, is a probability distribution that is used in statistical hypothesis testing when the sample size is small, and the population standard deviation is unknown. It is a symmetric distribution that closely resembles the normal distribution but has heavier tails.\n",
    "\n",
    "The t-distribution is characterized by a parameter called degrees of freedom (df). The degrees of freedom determine the shape of the distribution. As the degrees of freedom increase, the t-distribution approaches the shape of the standard normal distribution (Z-distribution).\n",
    "\n",
    "When to Use the t-Distribution:\n",
    "\n",
    "1-Small Sample Sizes:\n",
    "\n",
    "The t-distribution is particularly useful when dealing with small sample sizes (typically n < 30). For larger sample sizes, the t-distribution approaches the normal distribution.\n",
    "\n",
    "2-Unknown Population Standard Deviation:\n",
    "\n",
    "When the population standard deviation is unknown, and you need to estimate it using the sample standard deviation, the t-distribution is used. In such cases, the normal distribution cannot be used because it requires a known population standard deviation.\n",
    "\n",
    "3-Estimation of Confidence Intervals:\n",
    "\n",
    "When constructing confidence intervals for the mean of a population based on a small sample, the t-distribution is used. This is common in situations where you want to provide a range of values within which you believe the true population mean is likely to fall.\n",
    "\n",
    "5-Hypothesis Testing:\n",
    "\n",
    "The t-distribution is commonly used in hypothesis testing when comparing means from two independent samples (two-sample t-test) or when testing a single mean against a known or hypothesized value (one-sample t-test).\n",
    "Formula for the t-Distribution:"
   ]
  },
  {
   "cell_type": "markdown",
   "id": "6f1efcca-b2ff-45fb-9864-7ff05db15378",
   "metadata": {},
   "source": [
    "# Answer12"
   ]
  },
  {
   "cell_type": "raw",
   "id": "7c9fa44e-bc53-4066-8553-a909116b6900",
   "metadata": {},
   "source": [
    "The t-statistic is a measure used in hypothesis testing to assess whether the means of two groups are significantly different or to test whether a sample mean is significantly different from a known or hypothesized population mean. It is particularly useful when working with small sample sizes and when the population standard deviation is unknown.\n",
    "\n",
    "The formula for the t-statistic depends on the context in which it is used. Here are the two common scenarios:\n",
    "\n",
    "### One-Sample t-Test:\n",
    "The t-statistic for a one-sample t-test is used to test whether the mean of a sample is significantly different from a known or hypothesized population mean. The formula is:\n",
    "\n",
    "[ t = frac{bar{x} - mu}{s/sqrt{n}} ]\n",
    "\n",
    "where:\n",
    "- ( bar{x}) is the sample mean,\n",
    "- ( mu ) is the hypothesized population mean,\n",
    "- ( s ) is the sample standard deviation,\n",
    "- ( n ) is the sample size.\n",
    "\n",
    "### Two-Sample t-Test:\n",
    "The t-statistic for a two-sample t-test is used to compare the means of two independent samples. The formula is:\n",
    "\n",
    "[ t = frac{bar{x}_1 - bar{x}_2}{sqrt{s_1^2/n_1 + s_2^2/n_2}} ]\n",
    "\n",
    "where:\n",
    "- ( bar{x}_1 ) and ( bar{x}_2) are the sample means of the two groups,\n",
    "- ( s_1^2 ) and ( s_2^2) are the sample variances of the two groups,\n",
    "- ( n_1 ) and ( n_2) are the sample sizes of the two groups.\n",
    "\n",
    "In both formulas, the numerator represents the difference between sample means, and the denominator is a measure of the standard error of the difference. The t-statistic is a standardized measure, indicating how many standard errors the sample mean is away from the hypothesized population mean or how many standard errors the difference between sample means is away from zero.\n",
    "\n",
    "Researchers compare the calculated t-statistic to critical values from the t-distribution or use p-values to determine the statistical significance of the results in hypothesis testing. If the absolute value of the t-statistic is large, it suggests that the observed difference is unlikely to have occurred by random chance alone."
   ]
  },
  {
   "cell_type": "code",
   "execution_count": 13,
   "id": "83df26f5-2278-4df5-be73-b79f46e14b5a",
   "metadata": {},
   "outputs": [
    {
     "name": "stdout",
     "output_type": "stream",
     "text": [
      "Sample Mean: 5.025769544944446\n",
      "t-statistic: 1.451515942609215\n",
      "p-value: 0.1573692753642796\n"
     ]
    }
   ],
   "source": [
    "#example1:\n",
    "import numpy as np\n",
    "from scipy.stats import ttest_1samp\n",
    "\n",
    "# Generate a random sample\n",
    "sample = np.random.normal(loc=5, scale=2, size=30)\n",
    "\n",
    "# Specify the hypothesized population mean\n",
    "population_mean = 4.5\n",
    "\n",
    "# Perform one-sample t-test\n",
    "t_statistic, p_value = ttest_1samp(sample, population_mean)\n",
    "\n",
    "# Print the results\n",
    "print(\"Sample Mean:\", np.mean(sample))\n",
    "print(\"t-statistic:\", t_statistic)\n",
    "print(\"p-value:\", p_value)"
   ]
  },
  {
   "cell_type": "code",
   "execution_count": 14,
   "id": "a1fa7588-b8cb-4229-bee7-fe37a5fa8be8",
   "metadata": {},
   "outputs": [
    {
     "name": "stdout",
     "output_type": "stream",
     "text": [
      "Sample 1 Mean: 4.959496746889615\n",
      "Sample 2 Mean: 5.810083768922531\n",
      "t-statistic: -1.7012367659842462\n",
      "p-value: 0.09425438452271702\n"
     ]
    }
   ],
   "source": [
    "#example2:\n",
    "import numpy as np\n",
    "from scipy.stats import ttest_ind\n",
    "\n",
    "# Generate two random samples\n",
    "sample1 = np.random.normal(loc=5, scale=2, size=30)\n",
    "sample2 = np.random.normal(loc=6, scale=2, size=30)\n",
    "\n",
    "# Perform two-sample t-test\n",
    "t_statistic, p_value = ttest_ind(sample1, sample2)\n",
    "\n",
    "# Print the results\n",
    "print(\"Sample 1 Mean:\", np.mean(sample1))\n",
    "print(\"Sample 2 Mean:\", np.mean(sample2))\n",
    "print(\"t-statistic:\", t_statistic)\n",
    "print(\"p-value:\", p_value)"
   ]
  },
  {
   "cell_type": "markdown",
   "id": "643fceba-a57b-4fbc-b344-541063a4ec7f",
   "metadata": {},
   "source": [
    "# Answer13"
   ]
  },
  {
   "cell_type": "code",
   "execution_count": 15,
   "id": "65fea05c-81a8-4fef-b926-50a00220f741",
   "metadata": {},
   "outputs": [
    {
     "name": "stdout",
     "output_type": "stream",
     "text": [
      "Sample Mean Revenue: $500\n",
      "Confidence Interval: $485.79 to $514.21 at 95.0% confidence\n"
     ]
    }
   ],
   "source": [
    "import numpy as np\n",
    "from scipy.stats import t\n",
    "\n",
    "# Given values\n",
    "sample_mean = 500  # sample mean revenue\n",
    "sample_std = 50    # sample standard deviation\n",
    "sample_size = 50   # sample size\n",
    "confidence_level = 0.95\n",
    "\n",
    "# Degrees of freedom\n",
    "degrees_of_freedom = sample_size - 1\n",
    "\n",
    "# Calculate the t-value for a two-tailed test\n",
    "t_value = t.ppf((1 + confidence_level) / 2, degrees_of_freedom)\n",
    "\n",
    "# Calculate the margin of error\n",
    "margin_of_error = t_value * (sample_std / np.sqrt(sample_size))\n",
    "\n",
    "# Calculate the confidence interval\n",
    "confidence_interval_lower = sample_mean - margin_of_error\n",
    "confidence_interval_upper = sample_mean + margin_of_error\n",
    "\n",
    "# Print the results\n",
    "print(f\"Sample Mean Revenue: ${sample_mean}\")\n",
    "print(f\"Confidence Interval: ${confidence_interval_lower:.2f} to ${confidence_interval_upper:.2f} at {confidence_level * 100}% confidence\")"
   ]
  },
  {
   "cell_type": "markdown",
   "id": "77aa491f-6b0f-4bef-9fb6-6c1ebc2e9dca",
   "metadata": {},
   "source": [
    "# Answer14"
   ]
  },
  {
   "cell_type": "code",
   "execution_count": 1,
   "id": "8b87fc5f-0db0-4981-9ded-2c096bbaa240",
   "metadata": {},
   "outputs": [
    {
     "name": "stdout",
     "output_type": "stream",
     "text": [
      "One-Sample t-Test Results:\n",
      "t-statistic: -6.6667\n",
      "Critical Value: 1.9842\n",
      "P-value: 0.0000\n",
      "Reject the null hypothesis. There is significant evidence that the drug decreases blood pressure.\n"
     ]
    }
   ],
   "source": [
    "import numpy as np\n",
    "from scipy.stats import t\n",
    "\n",
    "# Given values\n",
    "sample_mean = 8      # sample mean decrease in blood pressure\n",
    "hypothesized_mean = 10  # hypothesized population mean decrease\n",
    "sample_std = 3       # sample standard deviation\n",
    "sample_size = 100    # sample size\n",
    "significance_level = 0.05\n",
    "\n",
    "# Calculate the one-sample t-statistic\n",
    "t_statistic = (sample_mean - hypothesized_mean) / (sample_std / np.sqrt(sample_size))\n",
    "\n",
    "# Calculate the degrees of freedom\n",
    "degrees_of_freedom = sample_size - 1\n",
    "\n",
    "# Calculate the critical value for a two-tailed test\n",
    "critical_value = t.ppf(1 - significance_level / 2, degrees_of_freedom)\n",
    "\n",
    "# Compare the t-statistic with the critical value\n",
    "p_value = 2 * (1 - t.cdf(np.abs(t_statistic), degrees_of_freedom))\n",
    "\n",
    "# Print the results\n",
    "print(f\"One-Sample t-Test Results:\")\n",
    "print(f\"t-statistic: {t_statistic:.4f}\")\n",
    "print(f\"Critical Value: {critical_value:.4f}\")\n",
    "print(f\"P-value: {p_value:.4f}\")\n",
    "\n",
    "# Check if the null hypothesis can be rejected\n",
    "if np.abs(t_statistic) > critical_value:\n",
    "    print(\"Reject the null hypothesis. There is significant evidence that the drug decreases blood pressure.\")\n",
    "else:\n",
    "    print(\"Fail to reject the null hypothesis. There is not enough evidence to suggest a significant decrease in blood pressure.\")"
   ]
  },
  {
   "cell_type": "markdown",
   "id": "4329d50e-c697-4037-97b9-5e29d7fd5638",
   "metadata": {},
   "source": [
    "# Answer15"
   ]
  },
  {
   "cell_type": "code",
   "execution_count": 2,
   "id": "63e15763-e3d4-44f1-8e07-48bff13020ac",
   "metadata": {},
   "outputs": [
    {
     "name": "stdout",
     "output_type": "stream",
     "text": [
      "One-Sample t-Test Results:\n",
      "t-statistic: -2.0000\n",
      "Critical Value: -2.4922\n",
      "P-value: 0.0285\n",
      "Fail to reject the null hypothesis. There is not enough evidence to suggest a significant difference in the mean weight.\n"
     ]
    }
   ],
   "source": [
    "import numpy as np\n",
    "from scipy.stats import t\n",
    "\n",
    "# Given values\n",
    "sample_mean = 4.8      # sample mean weight\n",
    "hypothesized_mean = 5  # hypothesized population mean weight\n",
    "sample_std = 0.5       # sample standard deviation\n",
    "sample_size = 25       # sample size\n",
    "significance_level = 0.01\n",
    "\n",
    "# Calculate the one-sample t-statistic\n",
    "t_statistic = (sample_mean - hypothesized_mean) / (sample_std / np.sqrt(sample_size))\n",
    "\n",
    "# Calculate the degrees of freedom\n",
    "degrees_of_freedom = sample_size - 1\n",
    "\n",
    "# Calculate the critical value for a one-tailed test\n",
    "critical_value = t.ppf(significance_level, degrees_of_freedom)\n",
    "\n",
    "# Compare the t-statistic with the critical value\n",
    "p_value = t.cdf(t_statistic, degrees_of_freedom)\n",
    "\n",
    "# Print the results\n",
    "print(f\"One-Sample t-Test Results:\")\n",
    "print(f\"t-statistic: {t_statistic:.4f}\")\n",
    "print(f\"Critical Value: {critical_value:.4f}\")\n",
    "print(f\"P-value: {p_value:.4f}\")\n",
    "\n",
    "# Check if the null hypothesis can be rejected\n",
    "if t_statistic < critical_value:\n",
    "    print(\"Reject the null hypothesis. There is significant evidence that the true mean weight is less than 5 pounds.\")\n",
    "else:\n",
    "    print(\"Fail to reject the null hypothesis. There is not enough evidence to suggest a significant difference in the mean weight.\")"
   ]
  },
  {
   "cell_type": "markdown",
   "id": "366d6c7d-18aa-4856-95ef-a255bcc15a8f",
   "metadata": {},
   "source": [
    "# Answer16"
   ]
  },
  {
   "cell_type": "code",
   "execution_count": 3,
   "id": "f246f26d-2317-408a-8525-2439a673fa53",
   "metadata": {},
   "outputs": [
    {
     "name": "stdout",
     "output_type": "stream",
     "text": [
      "Two-Sample t-Test Results:\n",
      "t-statistic: 2.7860\n",
      "P-value: 0.0069\n",
      "Reject the null hypothesis. There is significant evidence that the population means are not equal.\n"
     ]
    }
   ],
   "source": [
    "import numpy as np\n",
    "from scipy.stats import ttest_ind\n",
    "\n",
    "# Group 1\n",
    "mean1 = 80\n",
    "std1 = 10\n",
    "n1 = 30\n",
    "\n",
    "# Group 2\n",
    "mean2 = 75\n",
    "std2 = 8\n",
    "n2 = 40\n",
    "\n",
    "# Perform two-sample t-test\n",
    "t_statistic, p_value = ttest_ind(np.random.normal(mean1, std1, n1), np.random.normal(mean2, std2, n2))\n",
    "\n",
    "# Print the results\n",
    "print(f\"Two-Sample t-Test Results:\")\n",
    "print(f\"t-statistic: {t_statistic:.4f}\")\n",
    "print(f\"P-value: {p_value:.4f}\")\n",
    "\n",
    "# Check if the null hypothesis can be rejected\n",
    "significance_level = 0.01\n",
    "if p_value < significance_level:\n",
    "    print(\"Reject the null hypothesis. There is significant evidence that the population means are not equal.\")\n",
    "else:\n",
    "    print(\"Fail to reject the null hypothesis. There is not enough evidence to suggest a significant difference in the population means.\")"
   ]
  },
  {
   "cell_type": "markdown",
   "id": "a1a075b7-8c78-4372-9c62-382f680f086a",
   "metadata": {},
   "source": [
    "# Answer17"
   ]
  },
  {
   "cell_type": "code",
   "execution_count": 4,
   "id": "669eee98-3800-4a02-bfa0-8504684647ee",
   "metadata": {},
   "outputs": [
    {
     "name": "stdout",
     "output_type": "stream",
     "text": [
      "Sample Mean Ads Watched: 4\n",
      "Confidence Interval: 3.4315 to 4.5685 at 99.0% confidence\n"
     ]
    }
   ],
   "source": [
    "import numpy as np\n",
    "from scipy.stats import t\n",
    "\n",
    "# Given values\n",
    "sample_mean = 4      # sample mean number of ads watched\n",
    "sample_std = 1.5     # sample standard deviation\n",
    "sample_size = 50     # sample size\n",
    "confidence_level = 0.99\n",
    "\n",
    "# Degrees of freedom\n",
    "degrees_of_freedom = sample_size - 1\n",
    "\n",
    "# Calculate the t-value for a two-tailed test\n",
    "t_value = t.ppf((1 + confidence_level) / 2, degrees_of_freedom)\n",
    "\n",
    "# Calculate the margin of error\n",
    "margin_of_error = t_value * (sample_std / np.sqrt(sample_size))\n",
    "\n",
    "# Calculate the confidence interval\n",
    "confidence_interval_lower = sample_mean - margin_of_error\n",
    "confidence_interval_upper = sample_mean + margin_of_error\n",
    "\n",
    "# Print the results\n",
    "print(f\"Sample Mean Ads Watched: {sample_mean}\")\n",
    "print(f\"Confidence Interval: {confidence_interval_lower:.4f} to {confidence_interval_upper:.4f} at {confidence_level * 100}% confidence\")"
   ]
  },
  {
   "cell_type": "code",
   "execution_count": null,
   "id": "1bc040fe-d411-4073-b332-0aef68927951",
   "metadata": {},
   "outputs": [],
   "source": []
  }
 ],
 "metadata": {
  "kernelspec": {
   "display_name": "Python 3 (ipykernel)",
   "language": "python",
   "name": "python3"
  },
  "language_info": {
   "codemirror_mode": {
    "name": "ipython",
    "version": 3
   },
   "file_extension": ".py",
   "mimetype": "text/x-python",
   "name": "python",
   "nbconvert_exporter": "python",
   "pygments_lexer": "ipython3",
   "version": "3.10.8"
  }
 },
 "nbformat": 4,
 "nbformat_minor": 5
}
