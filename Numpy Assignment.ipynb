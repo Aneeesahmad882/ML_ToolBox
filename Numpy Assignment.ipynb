{
 "cells": [
  {
   "cell_type": "code",
   "execution_count": 2,
   "id": "1985d6c0-fdf9-45b3-a417-8d812d21fa02",
   "metadata": {},
   "outputs": [],
   "source": [
    "import numpy as np\n",
    "list_ = ['1','2','3','4','5']\n",
    "array_list = np.array(object = list_)"
   ]
  },
  {
   "cell_type": "raw",
   "id": "240cb840-9754-4ba2-b48a-661a4804bb34",
   "metadata": {},
   "source": [
    "#Answer1\n",
    "Yes, there is a difference in the data type of the list_ and array_list variables.\n",
    "The list_ variable is a Python list, and the array_list variable is a NumPy array.\n",
    "You can check their data types using the type() function in Python.\n",
    "Here's the code to print the data types of both variables:"
   ]
  },
  {
   "cell_type": "code",
   "execution_count": 4,
   "id": "545e386e-3875-4358-80bc-a4a8318f55db",
   "metadata": {},
   "outputs": [
    {
     "name": "stdout",
     "output_type": "stream",
     "text": [
      "Data type of List_ <class 'list'>\n",
      "Data type of array_list <class 'numpy.ndarray'>\n"
     ]
    }
   ],
   "source": [
    "#Code for check the type of variables:\n",
    "print(\"Data type of List_\",type(list_))\n",
    "print(\"Data type of array_list\",type(array_list))"
   ]
  },
  {
   "cell_type": "code",
   "execution_count": 4,
   "id": "3dff29ed-e99f-432e-83b8-9bfb2001145d",
   "metadata": {},
   "outputs": [
    {
     "name": "stdout",
     "output_type": "stream",
     "text": [
      "Data types of elements in list_\n",
      "<class 'str'>\n",
      "<class 'str'>\n",
      "<class 'str'>\n",
      "<class 'str'>\n",
      "<class 'str'>\n",
      "\n",
      "Data types of elements in array_list\n",
      "<class 'numpy.str_'>\n",
      "<class 'numpy.str_'>\n",
      "<class 'numpy.str_'>\n",
      "<class 'numpy.str_'>\n",
      "<class 'numpy.str_'>\n"
     ]
    }
   ],
   "source": [
    "#Answer2\n",
    "#Code of Data types of objects in both variables:\n",
    "#print data types of elements in list_:\n",
    "print(\"Data types of elements in list_\")\n",
    "for element in list_:\n",
    "    print(type(element))\n",
    "    \n",
    "#print data types of elements in array_list:\n",
    "print(\"\\nData types of elements in array_list\")\n",
    "for element in array_list:\n",
    "    print(type(element))"
   ]
  },
  {
   "cell_type": "code",
   "execution_count": 7,
   "id": "6286cae6-8033-437b-bf2d-a22c847f015f",
   "metadata": {},
   "outputs": [],
   "source": [
    "#Answer3\n",
    "array_list = np.array(object = list_, dtype = int)\n",
    "list_ = ['1','2','3','4','5']"
   ]
  },
  {
   "cell_type": "code",
   "execution_count": 9,
   "id": "1e6177de-4cea-41ac-8fa1-57e0e6660e0a",
   "metadata": {},
   "outputs": [
    {
     "name": "stdout",
     "output_type": "stream",
     "text": [
      "Data types of elements in list_\n",
      "<class 'str'>\n",
      "<class 'str'>\n",
      "<class 'str'>\n",
      "<class 'str'>\n",
      "<class 'str'>\n",
      "\n",
      "Data types of elements in array_list\n",
      "<class 'numpy.int64'>\n",
      "<class 'numpy.int64'>\n",
      "<class 'numpy.int64'>\n",
      "<class 'numpy.int64'>\n",
      "<class 'numpy.int64'>\n"
     ]
    }
   ],
   "source": [
    "print(\"Data types of elements in list_\")\n",
    "for element in list_:\n",
    "    print(type(element))\n",
    "    \n",
    "#print data types of elements in array_list:\n",
    "print(\"\\nData types of elements in array_list\")\n",
    "for element in array_list:\n",
    "    print(type(element))"
   ]
  },
  {
   "cell_type": "code",
   "execution_count": 10,
   "id": "24e9f880-cc61-4dfa-8a79-bc6579659112",
   "metadata": {},
   "outputs": [],
   "source": [
    "import numpy as np\n",
    "num_list = [ [ 1 , 2 , 3 ] , [ 4 , 5 , 6 ] ]\n",
    "num_array = np.array(object = num_list)"
   ]
  },
  {
   "cell_type": "code",
   "execution_count": 17,
   "id": "74879321-2474-49f5-bf84-29ab0e904181",
   "metadata": {},
   "outputs": [
    {
     "name": "stdout",
     "output_type": "stream",
     "text": [
      "The shape of num_array is: (2, 3)\n",
      "\n",
      "The size of num_array is: 6\n"
     ]
    }
   ],
   "source": [
    "#Answer4\n",
    "#Code for find the Shape:\n",
    "print(\"The shape of num_array is:\",num_array.shape)\n",
    "\n",
    "#code for find the size:\n",
    "print(\"\\nThe size of num_array is:\",num_array.size)"
   ]
  },
  {
   "cell_type": "code",
   "execution_count": 20,
   "id": "8062d1ca-ac29-4d80-95dd-86fa713d9c90",
   "metadata": {},
   "outputs": [
    {
     "name": "stdout",
     "output_type": "stream",
     "text": [
      "[[0. 0. 0.]\n",
      " [0. 0. 0.]\n",
      " [0. 0. 0.]]\n"
     ]
    }
   ],
   "source": [
    "#Answer5:\n",
    "#A code to create numpy array of 3*3 matrix containing zeros only, using a numpy array creation function.\n",
    "numpy_array = np.zeros((3,3))\n",
    "print(numpy_array)"
   ]
  },
  {
   "cell_type": "code",
   "execution_count": 22,
   "id": "be7b6db9-c036-49c8-ac3f-1f0be301063d",
   "metadata": {},
   "outputs": [
    {
     "name": "stdout",
     "output_type": "stream",
     "text": [
      "[[1. 0. 0. 0. 0.]\n",
      " [0. 1. 0. 0. 0.]\n",
      " [0. 0. 1. 0. 0.]\n",
      " [0. 0. 0. 1. 0.]\n",
      " [0. 0. 0. 0. 1.]]\n"
     ]
    }
   ],
   "source": [
    "#Answer6:\n",
    "#Create an identity matrix of shape (5,5) using numpy functions:\n",
    "numpy_identity_matrix = np.eye(5)\n",
    "print(numpy_identity_matrix)"
   ]
  },
  {
   "cell_type": "code",
   "execution_count": null,
   "id": "af6c2560-b8d8-4b20-8b12-fefe3a67d4a7",
   "metadata": {},
   "outputs": [],
   "source": []
  }
 ],
 "metadata": {
  "kernelspec": {
   "display_name": "Python 3 (ipykernel)",
   "language": "python",
   "name": "python3"
  },
  "language_info": {
   "codemirror_mode": {
    "name": "ipython",
    "version": 3
   },
   "file_extension": ".py",
   "mimetype": "text/x-python",
   "name": "python",
   "nbconvert_exporter": "python",
   "pygments_lexer": "ipython3",
   "version": "3.10.8"
  }
 },
 "nbformat": 4,
 "nbformat_minor": 5
}
