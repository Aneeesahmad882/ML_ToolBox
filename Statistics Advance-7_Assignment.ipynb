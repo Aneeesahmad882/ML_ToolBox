{
 "cells": [
  {
   "cell_type": "markdown",
   "id": "362e4a94-dab6-4552-b62d-6684747ed31c",
   "metadata": {},
   "source": [
    "# Answer1"
   ]
  },
  {
   "cell_type": "code",
   "execution_count": 2,
   "id": "ecb5ebb0-7eb9-4379-9656-bc3d48a99d90",
   "metadata": {},
   "outputs": [
    {
     "name": "stdout",
     "output_type": "stream",
     "text": [
      "F-value: 4.0\n",
      "P-value: 0.10399999999999998\n"
     ]
    }
   ],
   "source": [
    "import numpy as np\n",
    "from scipy.stats import f\n",
    "\n",
    "def variance_ratio_test(data1, data2):\n",
    "    \"\"\"\n",
    "    Perform variance ratio test on two arrays of data.\n",
    "\n",
    "    Parameters:\n",
    "    - data1: numpy array or list, first set of data\n",
    "    - data2: numpy array or list, second set of data\n",
    "\n",
    "    Returns:\n",
    "    - f_value: F-value for the variance ratio test\n",
    "    - p_value: p-value for the test\n",
    "    \"\"\"\n",
    "\n",
    "    # Calculate variances\n",
    "    var1 = np.var(data1, ddof=1)  # ddof=1 for unbiased estimator (N-1 in the denominator)\n",
    "    var2 = np.var(data2, ddof=1)\n",
    "\n",
    "    # Ensure that var1 is the larger variance\n",
    "    if var1 < var2:\n",
    "        var1, var2 = var2, var1\n",
    "        data1, data2 = data2, data1\n",
    "\n",
    "    # Calculate F-value\n",
    "    f_value = var1 / var2\n",
    "\n",
    "    # Degrees of freedom\n",
    "    df1 = len(data1) - 1\n",
    "    df2 = len(data2) - 1\n",
    "\n",
    "    # Calculate p-value\n",
    "    p_value = 1 - f.cdf(f_value, df1, df2)\n",
    "\n",
    "    return f_value, p_value\n",
    "\n",
    "# Example usage:\n",
    "data1 = np.array([1, 2, 3, 4, 5])\n",
    "data2 = np.array([2, 4, 6, 8, 10])\n",
    "\n",
    "f_value, p_value = variance_ratio_test(data1, data2)\n",
    "\n",
    "print(\"F-value:\", f_value)\n",
    "print(\"P-value:\", p_value)"
   ]
  },
  {
   "cell_type": "markdown",
   "id": "6c9d4a2c-18b4-4872-890b-5a73b66b0b10",
   "metadata": {},
   "source": [
    "# Answer2"
   ]
  },
  {
   "cell_type": "code",
   "execution_count": 5,
   "id": "ff4d7095-0c36-4963-af4b-53ce9e1797ff",
   "metadata": {},
   "outputs": [
    {
     "name": "stdout",
     "output_type": "stream",
     "text": [
      "Critical F-value: 5.456395525912731\n"
     ]
    }
   ],
   "source": [
    "from scipy.stats import f\n",
    "\n",
    "def critical_f_value(significance_value,df_num,df_denom):\n",
    "    \n",
    "    alpha = significance_value/2\n",
    "    \n",
    "    #percent point function of the f distribution:\n",
    "    \n",
    "    critical_f = f.ppf(1-alpha,df_num,df_denom)\n",
    "    \n",
    "    return critical_f\n",
    "\n",
    "\n",
    "#example usage:\n",
    "significance_value =.05\n",
    "df_num = 2\n",
    "df_denom = 10\n",
    "critical_f = critical_f_value(significance_value, df_num, df_denom)\n",
    "\n",
    "print(\"Critical F-value:\", critical_f)"
   ]
  },
  {
   "cell_type": "markdown",
   "id": "58f7c18e-0b9e-4d6d-9fca-b5d41f1bfc01",
   "metadata": {},
   "source": [
    "# Answer3"
   ]
  },
  {
   "cell_type": "code",
   "execution_count": 6,
   "id": "e29a04a2-0b8a-4365-bd9a-ad7c589d134d",
   "metadata": {},
   "outputs": [
    {
     "name": "stdout",
     "output_type": "stream",
     "text": [
      "F-value: 1.7124719410685718\n",
      "Degrees of freedom (numerator): 29\n",
      "Degrees of freedom (denominator): 29\n",
      "P-value: 0.15341649698662718\n"
     ]
    }
   ],
   "source": [
    "import numpy as np\n",
    "from scipy.stats import f\n",
    "\n",
    "def generate_random_samples(mean1, mean2, var1, var2, sample_size):\n",
    "  \n",
    "    np.random.seed(42)  # for reproducibility\n",
    "    sample1 = np.random.normal(mean1, np.sqrt(var1), sample_size)\n",
    "    sample2 = np.random.normal(mean2, np.sqrt(var2), sample_size)\n",
    "\n",
    "    return sample1, sample2\n",
    "\n",
    "def f_test(sample1, sample2):\n",
    "\n",
    "    var1 = np.var(sample1, ddof=1)\n",
    "    var2 = np.var(sample2, ddof=1)\n",
    "\n",
    "    if var1 < var2:\n",
    "        var1, var2 = var2, var1\n",
    "\n",
    "    df1 = len(sample1) - 1\n",
    "    df2 = len(sample2) - 1\n",
    "\n",
    "    f_value = var1 / var2\n",
    "    p_value = 2 * (1 - f.cdf(f_value, df1, df2))\n",
    "\n",
    "    return f_value, df1, df2, p_value\n",
    "\n",
    "# Example usage:\n",
    "mean1 = 0\n",
    "mean2 = 0\n",
    "variance1 = 5\n",
    "variance2 = 8\n",
    "sample_size = 30\n",
    "\n",
    "sample1, sample2 = generate_random_samples(mean1, mean2, variance1, variance2, sample_size)\n",
    "\n",
    "f_value, df1, df2, p_value = f_test(sample1, sample2)\n",
    "\n",
    "print(\"F-value:\", f_value)\n",
    "print(\"Degrees of freedom (numerator):\", df1)\n",
    "print(\"Degrees of freedom (denominator):\", df2)\n",
    "print(\"P-value:\", p_value)"
   ]
  },
  {
   "cell_type": "markdown",
   "id": "7270ebc1-eea0-4b7a-8877-78bc3c520bf7",
   "metadata": {},
   "source": [
    "# Answer4"
   ]
  },
  {
   "cell_type": "code",
   "execution_count": 12,
   "id": "235973a7-f29f-4aa4-ad15-bc5e4dfdd9f9",
   "metadata": {},
   "outputs": [
    {
     "name": "stdout",
     "output_type": "stream",
     "text": [
      "Calculated F-value: 0.5991715668297142\n",
      "Critical F-value: 3.473699051085809\n",
      "P-value: 1.5911798722571449\n",
      "Fail to reject the null hypothesis: No significant difference in variances.\n"
     ]
    }
   ],
   "source": [
    "from scipy.stats import f\n",
    "import numpy as np\n",
    "\n",
    "#given data\n",
    "variance1 = 10\n",
    "variance2 = 15\n",
    "sample_size = 12\n",
    "significance_level = .05\n",
    "\n",
    "df1 = sample_size-1\n",
    "df2 = sample_size-1\n",
    "\n",
    "#critical value for 2 tail:\n",
    "critical_f = f.ppf(1-significance_value/2,df1,df2)\n",
    "\n",
    "#simulating two function for illustrative function:\n",
    "sample1 = np.random.normal(0,np.sqrt(variance1),sample_size)\n",
    "sample2 = np.random.normal(0,np.sqrt(variance2),sample_size)\n",
    "\n",
    "#calculating the sample variance\n",
    "\n",
    "s1_squared = np.var(sample1,ddof=1)\n",
    "s2_squared = np.var(sample2,ddof=1)\n",
    "\n",
    "#calculating f value:\n",
    "f_value = s1_squared/s2_squared\n",
    "\n",
    "#performing f test:\n",
    "p_value = 2*(1-f.cdf(f_value,df1,df2))\n",
    "\n",
    "# Printing results\n",
    "print(\"Calculated F-value:\", f_value)\n",
    "print(\"Critical F-value:\", critical_f)\n",
    "print(\"P-value:\", p_value)\n",
    "\n",
    "# Checking if null hypothesis is rejected\n",
    "if f_value > critical_f or p_value < significance_level:\n",
    "    print(\"Reject the null hypothesis: Variances are significantly different.\")\n",
    "else:\n",
    "    print(\"Fail to reject the null hypothesis: No significant difference in variances.\")"
   ]
  },
  {
   "cell_type": "markdown",
   "id": "b8737bc1-7155-4b2f-b2c4-2a70c93dcda2",
   "metadata": {},
   "source": [
    "# Answer5"
   ]
  },
  {
   "cell_type": "code",
   "execution_count": 13,
   "id": "62d5a8ba-d005-47bb-9bc5-82f631cc2419",
   "metadata": {},
   "outputs": [
    {
     "name": "stdout",
     "output_type": "stream",
     "text": [
      "Calculated F-value: 1.2\n",
      "Critical F-value: 24939.565259943236\n",
      "P-value: 1.2592199239918715\n",
      "Fail to reject the null hypothesis: The claim is justified.\n"
     ]
    }
   ],
   "source": [
    "from scipy.stats import f\n",
    "\n",
    "# Given data\n",
    "claimed_variance = 0.005\n",
    "sample_variance = 0.006\n",
    "sample_size = 25\n",
    "significance_level = 0.01\n",
    "\n",
    "# Degrees of freedom\n",
    "df_num = sample_size - 1  # numerator degrees of freedom\n",
    "df_denom = 1  # denominator degrees of freedom (since we are comparing to a fixed value)\n",
    "\n",
    "# Critical F-value for a two-tailed test\n",
    "critical_f = f.ppf(1 - significance_level / 2, df_num, df_denom)\n",
    "\n",
    "# Calculating the F-value\n",
    "f_value = sample_variance / claimed_variance\n",
    "\n",
    "# Performing the F-test\n",
    "p_value = 2 * (1 - f.cdf(f_value, df_num, df_denom))\n",
    "\n",
    "# Printing results\n",
    "print(\"Calculated F-value:\", f_value)\n",
    "print(\"Critical F-value:\", critical_f)\n",
    "print(\"P-value:\", p_value)\n",
    "\n",
    "# Checking if null hypothesis is rejected\n",
    "if f_value > critical_f or p_value < significance_level:\n",
    "    print(\"Reject the null hypothesis: The claim is not justified.\")\n",
    "else:\n",
    "    print(\"Fail to reject the null hypothesis: The claim is justified.\")"
   ]
  },
  {
   "cell_type": "markdown",
   "id": "70a831ce-46ee-4d70-b671-299cacf96c8b",
   "metadata": {},
   "source": [
    "# Answer6"
   ]
  },
  {
   "cell_type": "code",
   "execution_count": 16,
   "id": "012f7c2c-b80a-463a-bf9a-307e11eddf67",
   "metadata": {},
   "outputs": [
    {
     "name": "stdout",
     "output_type": "stream",
     "text": [
      "Mean: 1.3333333333333333\n",
      "Variance: 2.6666666666666665\n"
     ]
    }
   ],
   "source": [
    "def f_distribution_mean_variance(df1, df2):\n",
    "    \"\"\"\n",
    "    Calculate the mean and variance of an F-distribution.\n",
    "\n",
    "    Parameters:\n",
    "    - df1: int, degrees of freedom for the numerator\n",
    "    - df2: int, degrees of freedom for the denominator\n",
    "\n",
    "    Returns:\n",
    "    - mean: float, mean of the F-distribution\n",
    "    - variance: float, variance of the F-distribution\n",
    "    \"\"\"\n",
    "\n",
    "    if df1 <= 0 or df2 <= 0:\n",
    "        raise ValueError(\"Degrees of freedom must be greater than 0.\")\n",
    "\n",
    "    if df2 <= 2:\n",
    "        raise ValueError(\"Degrees of freedom for the denominator must be greater than 2.\")\n",
    "\n",
    "    mean = df2 / (df2 - 2)\n",
    "    variance = (2 * df2**2 * (df1 + df2 - 2)) / (df1 * (df2 - 2)**2 * (df2 - 4))\n",
    "\n",
    "    return mean, variance\n",
    "\n",
    "# Example usage:\n",
    "df1 = 3\n",
    "df2 = 8\n",
    "\n",
    "mean, variance = f_distribution_mean_variance(df1, df2)\n",
    "\n",
    "print(\"Mean:\", mean)\n",
    "print(\"Variance:\", variance)"
   ]
  },
  {
   "cell_type": "markdown",
   "id": "94b6b79e-2887-49ba-86ca-8f12fec13758",
   "metadata": {},
   "source": [
    "# Answer7"
   ]
  },
  {
   "cell_type": "code",
   "execution_count": 17,
   "id": "805392c5-2be4-4e61-a3a6-aeec205c29ca",
   "metadata": {},
   "outputs": [
    {
     "name": "stdout",
     "output_type": "stream",
     "text": [
      "Calculated F-value: 1.25\n",
      "Critical F-value: 2.6457907352338195\n",
      "P-value: 0.6832194382585954\n",
      "Fail to reject the null hypothesis: No significant difference in variances.\n"
     ]
    }
   ],
   "source": [
    "from scipy.stats import f\n",
    "\n",
    "# Given data\n",
    "sample_variance1 = 25\n",
    "sample_variance2 = 20\n",
    "sample_size1 = 10\n",
    "sample_size2 = 15\n",
    "significance_level = 0.10\n",
    "\n",
    "# Degrees of freedom\n",
    "df1 = sample_size1 - 1\n",
    "df2 = sample_size2 - 1\n",
    "\n",
    "# Critical F-value for a two-tailed test\n",
    "critical_f = f.ppf(1 - significance_level / 2, df1, df2)\n",
    "\n",
    "# Calculating the F-value\n",
    "f_value = sample_variance1 / sample_variance2\n",
    "\n",
    "# Performing the F-test\n",
    "p_value = 2 * (1 - f.cdf(f_value, df1, df2))\n",
    "\n",
    "# Printing results\n",
    "print(\"Calculated F-value:\", f_value)\n",
    "print(\"Critical F-value:\", critical_f)\n",
    "print(\"P-value:\", p_value)\n",
    "\n",
    "# Checking if null hypothesis is rejected\n",
    "if f_value > critical_f or p_value < significance_level:\n",
    "    print(\"Reject the null hypothesis: Variances are significantly different.\")\n",
    "else:\n",
    "    print(\"Fail to reject the null hypothesis: No significant difference in variances.\")"
   ]
  },
  {
   "cell_type": "markdown",
   "id": "684fa3f1-3764-4831-9a7a-2ce0dcdc2140",
   "metadata": {},
   "source": [
    "# Answer8"
   ]
  },
  {
   "cell_type": "code",
   "execution_count": 20,
   "id": "e30a1b54-56d7-47d6-9736-de197a38f44f",
   "metadata": {},
   "outputs": [
    {
     "name": "stdout",
     "output_type": "stream",
     "text": [
      "Calculated F-value: 1.4551907719609583\n",
      "Critical F-value: 6.977701858535566\n",
      "P-value: 0.6974815747937484\n",
      "Fail to reject the null hypothesis: No significant difference in variances.\n"
     ]
    }
   ],
   "source": [
    "from scipy.stats import f\n",
    "import numpy as np\n",
    "\n",
    "#given data\n",
    "data_A = [24, 25, 28, 23, 22, 20, 27]\n",
    "data_B = [31, 33, 35, 30, 32, 36]\n",
    "significance_level = .05\n",
    "\n",
    "\n",
    "df1 = len(data_A)-1\n",
    "df2 = len(data_B)-1\n",
    "\n",
    "#calculating the critical f\n",
    "\n",
    "critical_f = f.ppf(1-significance_level/2,df1,df2)\n",
    "\n",
    "#calculatinf f value\n",
    "\n",
    "# Calculating the F-value\n",
    "variance_A = sum((x - np.mean(data_A))**2 for x in data_A) / df1\n",
    "variance_B = sum((x - np.mean(data_B))**2 for x in data_B) / df2\n",
    "f_value = variance_A / variance_B\n",
    "\n",
    "# Performing the F-test\n",
    "p_value = 2 * (1 - f.cdf(f_value, df1, df2))\n",
    "\n",
    "# Printing results\n",
    "print(\"Calculated F-value:\", f_value)\n",
    "print(\"Critical F-value:\", critical_f)\n",
    "print(\"P-value:\", p_value)\n",
    "\n",
    "# Checking if null hypothesis is rejected\n",
    "if f_value > critical_f or p_value < significance_level:\n",
    "    print(\"Reject the null hypothesis: Variances are significantly different.\")\n",
    "else:\n",
    "    print(\"Fail to reject the null hypothesis: No significant difference in variances.\")"
   ]
  },
  {
   "cell_type": "markdown",
   "id": "6c4b26dc-8567-4b3f-8fb4-f9d5d58b6bd3",
   "metadata": {},
   "source": [
    "# Answer9"
   ]
  },
  {
   "cell_type": "code",
   "execution_count": 26,
   "id": "16396c93-28a1-49c7-a35d-9d181ea5b751",
   "metadata": {},
   "outputs": [
    {
     "name": "stdout",
     "output_type": "stream",
     "text": [
      "Critical F-value: 14.939605459912224\n",
      "Calculated F-value: 1.9442622950819677\n",
      "P-value: 0.4831043549070688\n",
      "Failed to reject the null hypothesis: No significant difference in variances\n"
     ]
    }
   ],
   "source": [
    "from scipy.stats import f\n",
    "import numpy as np\n",
    "\n",
    "# Given data\n",
    "Group_A = [80, 85, 90, 92, 87, 83]\n",
    "Group_B = [75, 78, 82, 79, 81, 84]\n",
    "\n",
    "significance_level = 0.01\n",
    "\n",
    "df1 = len(Group_A) - 1\n",
    "df2 = len(Group_B) - 1\n",
    "\n",
    "# Calculating the critical F-value\n",
    "critical_f = f.ppf(1 - significance_level / 2, df1, df2)\n",
    "\n",
    "# Calculating the F-value using numpy.var\n",
    "variance_A = np.var(Group_A, ddof=1)\n",
    "variance_B = np.var(Group_B, ddof=1)\n",
    "\n",
    "f_value = variance_A / variance_B\n",
    "\n",
    "# Performing the F-test\n",
    "p_value = 2 * (1 - f.cdf(f_value, df1, df2))\n",
    "\n",
    "# Printing results\n",
    "print(f\"Critical F-value: {critical_f}\")\n",
    "print(f\"Calculated F-value: {f_value}\")\n",
    "print(f\"P-value: {p_value}\")\n",
    "\n",
    "if f_value > critical_f or p_value < significance_level:\n",
    "    print(\"Reject the null hypothesis: variances are significantly different\")\n",
    "else:\n",
    "    print(\"Failed to reject the null hypothesis: No significant difference in variances\")"
   ]
  },
  {
   "cell_type": "code",
   "execution_count": null,
   "id": "86600f15-af88-40f7-b54a-fc007b86056f",
   "metadata": {},
   "outputs": [],
   "source": []
  }
 ],
 "metadata": {
  "kernelspec": {
   "display_name": "Python 3 (ipykernel)",
   "language": "python",
   "name": "python3"
  },
  "language_info": {
   "codemirror_mode": {
    "name": "ipython",
    "version": 3
   },
   "file_extension": ".py",
   "mimetype": "text/x-python",
   "name": "python",
   "nbconvert_exporter": "python",
   "pygments_lexer": "ipython3",
   "version": "3.10.8"
  }
 },
 "nbformat": 4,
 "nbformat_minor": 5
}
