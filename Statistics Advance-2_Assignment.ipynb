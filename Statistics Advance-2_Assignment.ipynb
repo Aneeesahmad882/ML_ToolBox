{
 "cells": [
  {
   "cell_type": "markdown",
   "id": "ffa30861-2913-4bf2-94c7-89f1c91918d5",
   "metadata": {},
   "source": [
    "# Answer1"
   ]
  },
  {
   "cell_type": "markdown",
   "id": "1a79656a-19c6-44d1-aa3e-6190b3051d29",
   "metadata": {},
   "source": [
    "The Probability Mass Function (PMF) and Probability Density Function (PDF) are mathematical concepts used in probability and statistics to describe the likelihood of different outcomes in a random experiment. These functions help characterize the distribution of a random variable.\n",
    "\n",
    "1. Probability Mass Function (PMF):\n",
    "   - The PMF is applicable to discrete random variables, which take on a countable number of distinct values.\n",
    "   - It gives the probability that a discrete random variable is equal to a specific value.\n",
    "   - Mathematically, for a discrete random variable X, the PMF is denoted by P(X = x), where x is a specific value that X can take.\n",
    "   - The PMF must satisfy two conditions:\n",
    "     - P(X = x) => 0 for all x  (non-negativity).\n",
    "     - sum P(X = x) = 1  over all possible values of  x  (summing to 1).\n",
    "\n",
    "   **Example:**\n",
    "   Consider a fair six-sided die. The PMF for the outcome of rolling the die is given by:\n",
    "\n",
    "   [ P(X = x) = frac{1}{6} for x = 1, 2, 3, 4, 5, 6 ]\n",
    "                  \n",
    "\n",
    "2. Probability Density Function (PDF):\n",
    "   - The PDF is used for continuous random variables, which can take on any value in a given range.\n",
    "   - Unlike the PMF, the PDF doesn't directly give probabilities; instead, it gives the probability density at a particular point.\n",
    "   - The probability of a continuous random variable falling within a specific range is given by the integral of the PDF over thatrange.\n",
    "   - Mathematically, for a continuous random variable  X, the PDF is denoted by  f(x) , and  P(a=<X=>b) = limit(a to b) f(x) d(x)    \n",
    "\n",
    "   Example:\n",
    "   Consider a standard normal distribution with mean = 0 nd standard deviation sigma = 1. The PDF of this distribution is given by the   \n",
    "   standard deviation :\n",
    "   [ f(x) = {1}/sqrt{2*pi} e^{-{x^2}/2} ]"
   ]
  },
  {
   "cell_type": "markdown",
   "id": "0cc74211-075a-4d39-819c-71e6f1b69022",
   "metadata": {},
   "source": [
    "# Answer2"
   ]
  },
  {
   "cell_type": "markdown",
   "id": "b589d4b3-b90d-4606-9d02-a6c0ce943272",
   "metadata": {},
   "source": [
    "The Cumulative Distribution Function (CDF) is a concept closely related to both Probability Mass Function (PMF) and Probability Density Function (PDF). The CDF provides the probability that a random variable takes on a value less than or equal to a given point.\n",
    "\n",
    "The CDF essentially accumulates the probabilities, providing a cumulative view of the distribution. It is a useful tool for understanding the probability distribution of a random variable. Here are a few reasons why CDF is used:\n",
    "\n",
    "1. Probability Calculation:\n",
    "The CDF allows for easy calculation of probabilities for a range of values without having to sum or integrate the PMF or PDF each time.\n",
    "\n",
    "2. Percentiles: \n",
    "The CDF provides a straightforward way to find percentiles. For example, the value of  x  for which  F(x) = 0.5 corresponds to the median of the distribution.\n",
    "\n",
    "3. Comparison:\n",
    "The CDF is helpful in comparing different distributions or assessing the likelihood of certain events occurring within a given range.\n",
    "\n",
    "In summary, the Cumulative Distribution Function is a valuable tool in probability and statistics, providing a cumulative perspective on the distribution of a random variable and facilitating various probability calculations."
   ]
  },
  {
   "cell_type": "code",
   "execution_count": 1,
   "id": "8461c167-df60-4a2b-904f-17e32eb1f5cf",
   "metadata": {},
   "outputs": [
    {
     "data": {
      "image/png": "[encoded data removed]",
      "text/plain": [
       "<Figure size 640x480 with 1 Axes>"
      ]
     },
     "metadata": {},
     "output_type": "display_data"
    }
   ],
   "source": [
    "#example:\n",
    "import numpy as np\n",
    "import matplotlib.pyplot as plt\n",
    "\n",
    "# Define the PMF for a fair six-sided die\n",
    "die_pmf = np.ones(6) / 6\n",
    "\n",
    "# Calculate the CDF\n",
    "die_cdf = np.cumsum(die_pmf)\n",
    "\n",
    "# Plot the PMF\n",
    "plt.bar(np.arange(1, 7), die_pmf, label='PMF', alpha=0.7, align='center', color='blue')\n",
    "\n",
    "# Plot the CDF\n",
    "plt.step(np.arange(1, 8), np.insert(die_cdf, 0, 0), label='CDF', color='red')\n",
    "\n",
    "# Add labels and legend\n",
    "plt.title('PMF and CDF for a Fair Six-Sided Die')\n",
    "plt.xlabel('Outcome')\n",
    "plt.ylabel('Probability')\n",
    "plt.legend()\n",
    "\n",
    "# Show the plot\n",
    "plt.show()\n"
   ]
  },
  {
   "cell_type": "markdown",
   "id": "c3eab70f-5f02-443e-81d7-30af256a87cb",
   "metadata": {},
   "source": [
    "# Answer3"
   ]
  },
  {
   "cell_type": "markdown",
   "id": "5a7eec45-532a-4066-9612-d9fcdeb2387a",
   "metadata": {},
   "source": [
    "The normal distribution, also known as the Gaussian distribution or bell curve, is a widely used probability distribution in statistics. It has several properties that make it a suitable model for various real-world situations. Here are some examples of situations where the normal distribution might be used as a model:\n",
    "\n",
    "1. Height of a Population:\n",
    "   - Human height often follows a normal distribution. While there are variations, the majority of people fall within the average height range, and extreme heights are less common.\n",
    "\n",
    "2. Measurement Errors:\n",
    "   - Errors in measurements, such as those in laboratory experiments, often follow a normal distribution due to the combination of multiple small influences on the measurement process.\n",
    "\n",
    "3. IQ Scores:\n",
    "   - Intelligence Quotient (IQ) scores are designed to be normally distributed with a mean of 100 and a standard deviation of 15. This distribution allows for a standardized comparison of cognitive abilities.\n",
    "\n",
    "4. Financial Returns:\n",
    "   - Daily stock price changes and financial returns are often modeled using a normal distribution, especially under the assumption of random fluctuations in the market.\n",
    "\n",
    "5. Test Scores:\n",
    "   - In educational testing, the scores on standardized tests are often assumed to follow a normal distribution. This assumption is foundational in the use of techniques like z-scores and percentiles.\n",
    "\n",
    "6. Biological Phenomena:\n",
    "   - Many biological measurements, such as the size of organs or features, may follow a normal distribution. Examples include birth weights or lengths of certain body parts.\n",
    "\n",
    "The normal distribution is characterized by two parameters:\n",
    "\n",
    "1. Mean (μ):\n",
    "   - The mean is the central value around which the distribution is centered. It determines the location of the peak of the bell curve.\n",
    "\n",
    "2. Standard Deviation (σ):\n",
    "   - The standard deviation measures the spread or dispersion of the distribution. A larger standard deviation results in a wider, more spread-out curve, while a smaller standard deviation leads to a narrower curve.\n",
    "\n",
    "The relationship between these parameters and the shape of the normal distribution is as follows:\n",
    "\n",
    "- Mean (μ):\n",
    "  - The mean determines the center or location of the distribution. It is the point of highest probability, and the bell curve is symmetric around this point.\n",
    "\n",
    "- Standard Deviation (σ):\n",
    "  - The standard deviation determines the spread or width of the distribution. The larger the standard deviation, the wider the bell curve, indicating greater variability in the data.\n",
    "\n",
    "In summary, the normal distribution is a versatile and commonly used model in statistics, and its parameters (mean and standard deviation) provide key information about the central tendency and variability of the data it represents."
   ]
  },
  {
   "cell_type": "markdown",
   "id": "2e4706cc-f2ae-4097-9e51-fe532bd12c45",
   "metadata": {},
   "source": [
    "# Answer4"
   ]
  },
  {
   "cell_type": "markdown",
   "id": "74caed6f-c125-468e-aa9d-c13ba7163ee1",
   "metadata": {},
   "source": [
    "The normal distribution is important in statistics and data analysis for several reasons, making it a fundamental concept in various fields. Here are some key aspects of the importance of the normal distribution:\n",
    "\n",
    "1. Central Limit Theorem (CLT):\n",
    "   - The normal distribution is closely tied to the Central Limit Theorem, which states that the sum (or average) of a large number of independent and identically distributed random variables will be approximately normally distributed, regardless of the original distribution of the variables. This property is crucial in statistical inference and hypothesis testing.\n",
    "\n",
    "2. Statistical Inference:\n",
    "   - Many statistical methods, such as confidence intervals and hypothesis tests, are based on the assumption of normality. When sample sizes are sufficiently large, these methods become more robust and reliable due to the normal distribution properties.\n",
    "\n",
    "3. Parameter Estimation:\n",
    "   - In many cases, maximum likelihood estimation and other statistical techniques assume a normal distribution for the errors or residuals. This simplifies the mathematical calculations and allows for the application of well-established statistical methods.\n",
    "\n",
    "4. Prediction and Forecasting:\n",
    "   - Normal distributions are often used in predictive modeling and forecasting. For example, in finance, the assumption of normality is common in estimating future stock prices and financial returns.\n",
    "\n",
    "5. Quality Control:\n",
    "   - In manufacturing and quality control, normal distributions are frequently used to model variations in product characteristics. This allows for the setting of quality standards and the identification of outliers or defective products.\n",
    "\n",
    "6. Biological and Behavioral Phenomena:\n",
    "   - Many biological and behavioral traits, such as height, weight, IQ scores, and reaction times, are approximately normally distributed in large populations. This distribution simplifies the analysis and interpretation of these traits.\n",
    "\n",
    "7. Risk Management:\n",
    "   - The normal distribution is often employed in risk assessment and management. It helps model the distribution of potential losses or gains, facilitating the calculation of probabilities for different outcomes.\n",
    "\n",
    "Real-life examples of normal distribution:\n",
    "\n",
    "1. Height of Adults:\n",
    "   - The heights of adult populations tend to follow a normal distribution, with most people clustered around the average height.\n",
    "\n",
    "2. Exam Scores:\n",
    "   - Scores on standardized tests, such as the SAT or GRE, are often assumed to be normally distributed. This assumption is crucial for comparing individual performance to the broader population.\n",
    "\n",
    "3. Body Temperature:\n",
    "   - Human body temperatures are approximately normally distributed, with the average around 98.6°F (37°C).\n",
    "\n",
    "4. IQ Scores:\n",
    "   - Intelligence Quotient (IQ) scores are designed to follow a normal distribution with a mean of 100 and a standard deviation of 15.\n",
    "\n",
    "5. Blood Pressure:\n",
    "   - Blood pressure measurements in a population often exhibit a normal distribution,making it easier to analyze and interpret the data.\n",
    "\n",
    "Understanding the normal distribution and its properties allows statisticians, researchers, and analysts to make informed decisions, draw meaningful conclusions from data, and apply statistical methods with confidence in a wide range of applications."
   ]
  },
  {
   "cell_type": "markdown",
   "id": "d074bc1b-8804-4e46-92ef-dcf5f2d1fc46",
   "metadata": {},
   "source": [
    "# Answer5"
   ]
  },
  {
   "cell_type": "markdown",
   "id": "d3cc384c-fe21-44b5-b942-6a0ddd8da9ce",
   "metadata": {},
   "source": [
    "The Bernoulli distribution is a discrete probability distribution for a random variable that can take on one of two possible outcomes, usually labeled as \"success\" and \"failure,\" with associated probabilities p and 1-p, respectively. The distribution is named after Jacob Bernoulli, a Swiss mathematician. The probability mass function (PMF) of a Bernoulli-distributed random variable is given by:\n",
    "\n",
    "p if x = 1\n",
    "1-p if x = 0\n",
    "\n",
    "Here,x is the random variable, and p is the probability of success.\n",
    "\n",
    "An example of a Bernoulli distribution is a single coin flip, where the outcomes are \"heads\" (success) with probability p and \"tails\" (failure) with probability (1-p).\n",
    "\n",
    "The Binomial distribution, on the other hand, is the distribution of the number of successes in a fixed number of independent Bernoulli trials, each with the same probability of success p. If x follows a Binomial distribution with parameters n (number of trials) and p, then its probability mass function is given by:\n",
    "\n",
    "[ P(x = k) = binom{n}{k} p^k (1-p)^{n-k} ]\n",
    "\n",
    "where (binom{n}{k}) is the binomial coefficient, equal to (n! / (k!(n-k)!).\n",
    "\n",
    "The key difference between the Bernoulli and Binomial distributions is that the Bernoulli distribution describes a single trial with two possible outcomes, while the Binomial distribution describes the number of successes in a fixed number of independent Bernoulli trials. In other words, the Binomial distribution is the sum of independent and identically distributed Bernoulli random variables."
   ]
  },
  {
   "cell_type": "markdown",
   "id": "d1a9cdb0-f046-444f-ba74-c78642d69404",
   "metadata": {},
   "source": [
    "# Answer6\n",
    "\n",
    "In Python, you can use the scipy.stats module to work with normal distributions and calculate probabilities. Here's how you can find the probability that a randomly selected observation from a normal distribution with a mean of 50 and a standard deviation of 10 is greater than 60:"
   ]
  },
  {
   "cell_type": "code",
   "execution_count": 6,
   "id": "890f79e6-6051-458b-be67-f99f2dabeefa",
   "metadata": {},
   "outputs": [
    {
     "name": "stdout",
     "output_type": "stream",
     "text": [
      "The probability that a randomly selected observation is greater than 60 is: 0.1587\n"
     ]
    }
   ],
   "source": [
    "from scipy.stats import norm\n",
    "\n",
    "mean = 50\n",
    "std_dev = 10\n",
    "value_of_interest = 60\n",
    "\n",
    "#calculate the z score:\n",
    "z_score = (value_of_interest - mean)/std_dev\n",
    "\n",
    "#calculate the probability:\n",
    "probability = 1-norm.cdf(z_score)\n",
    "\n",
    "print(f\"The probability that a randomly selected observation is greater than 60 is: {probability:.4f}\")"
   ]
  },
  {
   "cell_type": "markdown",
   "id": "389c2c75-b936-4273-97cb-ec1abf3c3c10",
   "metadata": {},
   "source": [
    "# Answer7"
   ]
  },
  {
   "cell_type": "markdown",
   "id": "38d54814-b10a-48d8-b9ca-84103a001fa2",
   "metadata": {},
   "source": [
    "The uniform distribution is a probability distribution in which all outcomes are equally likely. In other words, each possible value of the random variable has an equal probability of occurring. This distribution is characterized by a constant probability density function (PDF) between two specified values.\n",
    "\n",
    "The probability density function (PDF) for a continuous uniform distribution is given by:\n",
    "\n",
    "[ f(x | a, b) = frac{1}{b - a}]\n",
    "\n",
    "where (a) and (b) are the parameters that define the interval ([a, b]) over which the random variable is uniformly distributed.\n",
    "\n",
    "Here, (f(x | a, b)) represents the probability density function of the random variable (x) given the interval ([a, b]).\n",
    "\n",
    "Let's consider an example to illustrate the uniform distribution:\n",
    "\n",
    "Example:\n",
    "Suppose you have a six-sided fair die. The values on the die are 1, 2, 3, 4, 5, and 6. If the die is fair, each of these outcomes is equally likely when you roll the die. In this case, the uniform distribution applies, and you can express the probability of obtaining any specific value (x) as:\n",
    "\n",
    "[ P(X = x) = frac{1}{6}]\n",
    "\n",
    "This is because there are six possible outcomes, and each outcome has an equal probability of (frac{1}{6}).\n",
    "\n",
    "In general, the uniform distribution is useful in situations where each outcome in a given range is equally likely, such as the roll of a fair die or the selection of a random number from a continuous range."
   ]
  },
  {
   "cell_type": "markdown",
   "id": "863de71f-a62d-4b47-8da3-512232223c7d",
   "metadata": {},
   "source": [
    "# Answer8"
   ]
  },
  {
   "cell_type": "markdown",
   "id": "f1e9b9b7-3069-4da8-9cf3-928fce96706f",
   "metadata": {},
   "source": [
    "The z-score, also known as the standard score, is a measure of how many standard deviations a particular data point is from the mean of a dataset. It is calculated using the formula:\n",
    "\n",
    "[ z = frac{{X - mu}}{{sigma}}]\n",
    "\n",
    "where:\n",
    "- (X) is an individual data point,\n",
    "- (mu) is the mean of the dataset,\n",
    "- (sigma) is the standard deviation of the dataset.\n",
    "\n",
    "The z-score indicates how far a data point is from the mean in terms of standard deviations. A positive z-score means the data point is above the mean, while a negative z-score means the data point is below the mean.\n",
    "\n",
    "The importance of z-scores lies in their ability to standardize and compare data points from different distributions. Here are some key points highlighting the importance of z-scores:\n",
    "\n",
    "1. Standardization: Z-scores standardize data by transforming them into a common scale. This allows for the comparison of values that come from different datasets with different means and standard deviations.\n",
    "\n",
    "2. Identification of Outliers: Z-scores help identify outliers in a dataset. Data points with very high or very low z-scores (typically beyond ±2 or ±3 standard deviations) may be considered outliers and could be of interest for further investigation.\n",
    "\n",
    "3. Probability and Normal Distribution: In a standard normal distribution (a normal distribution with a mean of 0 and a standard deviation of 1), the z-score directly corresponds to the probability of observing a value less than or equal to that score. This relationship is often used in statistical hypothesis testing and probability calculations.\n",
    "\n",
    "4. Comparisons and Rankings: Z-scores allow for the comparison and ranking of data points within a distribution. They provide a common metric for assessing where a particular value stands relative to others in the dataset.\n",
    "\n",
    "5. Data Transformation: Z-scores are frequently used in data preprocessing and analysis, particularly in techniques such as regression analysis, where variables might have different scales. Standardizing variables using z-scores ensures that each variable contributes equally to the analysis.\n",
    "\n",
    "In summary, the z-score is a valuable tool in statistics that provides a standardized way to understand and compare data points. It simplifies the interpretation of data, facilitates comparisons across different datasets, and aids in various statistical analyses."
   ]
  },
  {
   "cell_type": "markdown",
   "id": "a611c446-07b5-4a13-b557-1e08ceff6635",
   "metadata": {},
   "source": [
    "# Answer9"
   ]
  },
  {
   "cell_type": "markdown",
   "id": "a3592155-a443-4efa-bec9-92b84334e1ec",
   "metadata": {},
   "source": [
    "The Central Limit Theorem (CLT) is a fundamental concept in statistics that describes the distribution of the sample mean of a random sample drawn from any population, regardless of the shape of the population's distribution. It states that as the sample size increases, the distribution of the sample mean approaches a normal distribution, even if the original population distribution is not normal.\n",
    "\n",
    "The Central Limit Theorem is often stated as follows:\n",
    "\n",
    "Given a random sample of size n from any population with a mean μ and a finite standard deviation σ, the distribution of the sample mean ˉX will be approximately normally distributed with mean μ and standard deviation  σ when the sample size n is sufficiently large.\n",
    "\n",
    "Key points about the Central Limit Theorem:\n",
    "\n",
    "Sample Size Matters: The larger the sample size (n), the more closely the distribution of the sample mean will resemble a normal distribution, regardless of the shape of the original population distribution.\n",
    "\n",
    "Implications for Inference: The Central Limit Theorem has significant implications for statistical inference. It allows statisticians to make inferences about population parameters (such as the population mean) using the normal distribution, even when the population itself may not be normally distributed.\n",
    "\n",
    "Foundation for Hypothesis Testing: Many statistical tests and procedures, such as hypothesis testing and confidence interval estimation, rely on the assumption that the distribution of sample means is approximately normal. The Central Limit Theorem justifies this assumption in many practical situations.\n",
    "\n",
    "Real-world Applications: The Central Limit Theorem is widely used in various fields, including quality control, finance, epidemiology, and more. It enables practitioners to use normal distribution-based statistical methods even when dealing with non-normally distributed populations.\n",
    "\n",
    "Simplifies Analysis: The normal distribution is well-understood and extensively studied, making statistical analyses more straightforward. The Central Limit Theorem provides a bridge between the characteristics of sample means and the properties of the normal distribution."
   ]
  },
  {
   "cell_type": "markdown",
   "id": "9d5644e3-8397-4302-88fd-cc52623847ed",
   "metadata": {},
   "source": [
    "# Answer10"
   ]
  },
  {
   "cell_type": "markdown",
   "id": "c5c5e6f5-1dd0-4201-a68e-4a9f4b375b62",
   "metadata": {},
   "source": [
    "The Central Limit Theorem (CLT) is a powerful statistical concept, but it comes with certain assumptions. For the CLT to hold and for the distribution of sample means to approach a normal distribution, the following assumptions should be satisfied:\n",
    "\n",
    "1. Random Sampling: The samples should be randomly selected from the population. Each member of the population has an equal chance of being included in the sample. This assumption ensures that the sample is representative of the population.\n",
    "\n",
    "2. Independence: The observations within the sample must be independent of each other. In other words, the value of one observation should not influence the value of another. This assumption is crucial for the validity of the CLT.\n",
    "\n",
    "3. Finite Variance: The population from which the samples are drawn should have a finite variance (sigma^2). While this assumption can be relaxed in some cases, having a finite variance is important for the standardization process involved in the CLT.\n",
    "\n",
    "4. Sample Size Adequacy: The CLT becomes more reliable as the sample size (n) increases. While there is no strict rule on what constitutes a \"sufficiently large\" sample size, a commonly accepted guideline is that (n) should be at least 30. However, this rule of thumb can vary depending on the characteristics of the population distribution.\n",
    "\n",
    "It's important to note that violating these assumptions doesn't mean that the Central Limit Theorem can't be applied at all. In practice, the CLT can still work reasonably well even if the assumptions are only approximately met. However, adhering to these assumptions increases the reliability and accuracy of the results.\n",
    "\n",
    "If the sample size is small or the underlying distribution is highly skewed, alternative statistical methods may be considered. Additionally, in some cases, advanced versions of the CLT, such as the Lindeberg-Levy Central Limit Theorem, relax the independence assumption to a certain extent. Nonetheless, understanding and being mindful of these assumptions is crucial when applying the Central Limit Theorem in statistical analyses."
   ]
  },
  {
   "cell_type": "code",
   "execution_count": null,
   "id": "be4221ee-cdfd-4d37-adaf-261ed7cdbc59",
   "metadata": {},
   "outputs": [],
   "source": []
  }
 ],
 "metadata": {
  "kernelspec": {
   "display_name": "Python 3 (ipykernel)",
   "language": "python",
   "name": "python3"
  },
  "language_info": {
   "codemirror_mode": {
    "name": "ipython",
    "version": 3
   },
   "file_extension": ".py",
   "mimetype": "text/x-python",
   "name": "python",
   "nbconvert_exporter": "python",
   "pygments_lexer": "ipython3",
   "version": "3.10.8"
  }
 },
 "nbformat": 4,
 "nbformat_minor": 5
}
